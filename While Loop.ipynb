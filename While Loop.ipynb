{
 "cells": [
  {
   "cell_type": "markdown",
   "metadata": {},
   "source": [
    "# Student Name: Sakshi Rastogi\n",
    "# Enrollment Number: E18CSE159\n",
    "# Lab assignemnt number: 5"
   ]
  },
  {
   "cell_type": "markdown",
   "metadata": {},
   "source": [
    "While Loops"
   ]
  },
  {
   "cell_type": "markdown",
   "metadata": {},
   "source": [
    "#### Syntax of \"while loop\""
   ]
  },
  {
   "cell_type": "raw",
   "metadata": {
    "collapsed": true
   },
   "source": [
    "initialization of loop variable\n",
    "while( condition ):\n",
    "    stmt 1\n",
    "    stmt 2\n",
    "    ...\n",
    "    update loop variable"
   ]
  },
  {
   "cell_type": "markdown",
   "metadata": {},
   "source": [
    "1 Write a program in Python to print table of 2 using while loop."
   ]
  },
  {
   "cell_type": "raw",
   "metadata": {},
   "source": [
    "Output:\n",
    "2*1 =2\n",
    "2*2 =4\n",
    "......"
   ]
  },
  {
   "cell_type": "code",
   "execution_count": 1,
   "metadata": {},
   "outputs": [
    {
     "name": "stdout",
     "output_type": "stream",
     "text": [
      "2* 1 = 2\n",
      "2* 2 = 4\n",
      "2* 3 = 6\n",
      "2* 4 = 8\n",
      "2* 5 = 10\n",
      "2* 6 = 12\n",
      "2* 7 = 14\n",
      "2* 8 = 16\n",
      "2* 9 = 18\n",
      "2* 10 = 20\n"
     ]
    }
   ],
   "source": [
    "#Write your code\n",
    "i=1\n",
    "while(i<=10):\n",
    "    print(\"2*\",i,\"=\",2*i)\n",
    "    i=i+1"
   ]
  },
  {
   "cell_type": "markdown",
   "metadata": {},
   "source": [
    "2 Write a program in Python to print table of any number 'n' provided by user using while loop."
   ]
  },
  {
   "cell_type": "code",
   "execution_count": 1,
   "metadata": {},
   "outputs": [
    {
     "name": "stdout",
     "output_type": "stream",
     "text": [
      "Enter any number:6\n",
      "6 * 1 = 6\n",
      "6 * 2 = 12\n",
      "6 * 3 = 18\n",
      "6 * 4 = 24\n",
      "6 * 5 = 30\n",
      "6 * 6 = 36\n",
      "6 * 7 = 42\n",
      "6 * 8 = 48\n",
      "6 * 9 = 54\n",
      "6 * 10 = 60\n"
     ]
    }
   ],
   "source": [
    "#Write your code\n",
    "n=int(input(\"Enter any number:\"))\n",
    "i=1\n",
    "while(i<=10):\n",
    "    print(n,\"*\",i,\"=\",n*i)\n",
    "    i=i+1"
   ]
  },
  {
   "cell_type": "markdown",
   "metadata": {},
   "source": [
    " 3 Write a program in Python to print table of a user provided number without using multiplication(*) using while loop."
   ]
  },
  {
   "cell_type": "code",
   "execution_count": 3,
   "metadata": {},
   "outputs": [
    {
     "name": "stdout",
     "output_type": "stream",
     "text": [
      "Enter a number:9\n",
      "9\n",
      "18\n",
      "27\n",
      "36\n",
      "45\n",
      "54\n",
      "63\n",
      "72\n",
      "81\n",
      "90\n"
     ]
    }
   ],
   "source": [
    "#Write your code\n",
    "x=int(input(\"Enter a number:\"))\n",
    "i=1\n",
    "s=0\n",
    "while(i<=10):\n",
    "    s=s+x\n",
    "    print(s)\n",
    "    i=i+1"
   ]
  },
  {
   "cell_type": "markdown",
   "metadata": {},
   "source": [
    "### 4 Write a program in Python to print values of sin𝜃, cos𝜃 at 𝜃=0ᵒ,30ᵒ,60ᵒ,90ᵒ,...,270ᵒ using while loop."
   ]
  },
  {
   "cell_type": "markdown",
   "metadata": {},
   "source": [
    "import math\n",
    "For converting values into Radians: math.radians()\n",
    "For calculating Sin and cos values: math.sin()"
   ]
  },
  {
   "cell_type": "code",
   "execution_count": 5,
   "metadata": {},
   "outputs": [
    {
     "name": "stdout",
     "output_type": "stream",
     "text": [
      "sin 0 = 0.0\n",
      "cos 0 = 1.0\n",
      "sin 30 = 0.49999999999999994\n",
      "cos 30 = 0.8660254037844387\n",
      "sin 60 = 0.8660254037844386\n",
      "cos 60 = 0.5000000000000001\n",
      "sin 90 = 1.0\n",
      "cos 90 = 6.123233995736766e-17\n",
      "sin 120 = 0.8660254037844387\n",
      "cos 120 = -0.4999999999999998\n",
      "sin 150 = 0.49999999999999994\n",
      "cos 150 = -0.8660254037844387\n",
      "sin 180 = 1.2246467991473532e-16\n",
      "cos 180 = -1.0\n",
      "sin 210 = -0.5000000000000001\n",
      "cos 210 = -0.8660254037844386\n",
      "sin 240 = -0.8660254037844385\n",
      "cos 240 = -0.5000000000000004\n",
      "sin 270 = -1.0\n",
      "cos 270 = -1.8369701987210297e-16\n"
     ]
    }
   ],
   "source": [
    "#Write your code\n",
    "import math\n",
    "n=0\n",
    "while(n<=270):\n",
    "    y=math.radians(n)\n",
    "    print(\"sin\",n,\"=\",math.sin(y))\n",
    "    print(\"cos\",n,\"=\",math.cos(y))\n",
    "    n=n+30"
   ]
  },
  {
   "cell_type": "markdown",
   "metadata": {},
   "source": [
    "### 5 Write a program in Python to evaluate the following series using while loop:\n",
    "    \n",
    "    1! + 2! + 3! + 4! ...+ n!\n",
    "hint: use math.factorial(n) function to calculate factorial of number n."
   ]
  },
  {
   "cell_type": "code",
   "execution_count": 2,
   "metadata": {},
   "outputs": [
    {
     "name": "stdout",
     "output_type": "stream",
     "text": [
      "Enter a limit:4\n",
      "Total= 33\n"
     ]
    }
   ],
   "source": [
    "#Write your code\n",
    "import math\n",
    "i=1\n",
    "total=0\n",
    "n=int(input(\"Enter a limit:\"))\n",
    "while(i<=n):\n",
    "    y=math.factorial(i)\n",
    "    total=total+y\n",
    "    i=i+1\n",
    "print(\"Total=\",total)"
   ]
  },
  {
   "cell_type": "markdown",
   "metadata": {},
   "source": [
    "### 6 Write a program in Python to print sum of first 20 natural numbers using while loop."
   ]
  },
  {
   "cell_type": "code",
   "execution_count": 3,
   "metadata": {},
   "outputs": [
    {
     "name": "stdout",
     "output_type": "stream",
     "text": [
      "Sum of first 20 natural numbers is 210\n"
     ]
    }
   ],
   "source": [
    "#Write your code\n",
    "i=1\n",
    "sum=0\n",
    "while(i<=20):\n",
    "    sum=sum+i\n",
    "    i=i+1\n",
    "print(\"Sum of first 20 natural numbers is\",sum)    \n",
    "    "
   ]
  },
  {
   "cell_type": "markdown",
   "metadata": {},
   "source": [
    "### 7 Write a program in Python to print sum of first 10 odd numbers and first 10 even numbers using while loop."
   ]
  },
  {
   "cell_type": "code",
   "execution_count": 2,
   "metadata": {},
   "outputs": [
    {
     "name": "stdout",
     "output_type": "stream",
     "text": [
      "Sum of first 10 even numbers are 110\n",
      "Sum of first 10 odd numners are 100\n"
     ]
    }
   ],
   "source": [
    "#Write your code\n",
    "i=1\n",
    "j=0\n",
    "total1=0\n",
    "total2=0\n",
    "while(j<=20):\n",
    "    total1=total1+j\n",
    "    j=j+2\n",
    "print(\"Sum of first 10 even numbers are\",total1)\n",
    "while(i<=20):\n",
    "    total2=total2+i\n",
    "    i=i+2\n",
    "print(\"Sum of first 10 odd numners are\",total2)    "
   ]
  },
  {
   "cell_type": "markdown",
   "metadata": {},
   "source": [
    "### 8 Write a program in Python to print the square series of first 10 numbers start from 1 and their sum using while loop. \n",
    "\n",
    "For Example:\n",
    "\n",
    "1 4 9 16 25 36 49 64 81 100\n",
    "\n",
    "Squared sum =385"
   ]
  },
  {
   "cell_type": "code",
   "execution_count": 3,
   "metadata": {},
   "outputs": [
    {
     "name": "stdout",
     "output_type": "stream",
     "text": [
      "1 4 9 16 25 36 49 64 81 100 \n",
      "Squared Sum= 385\n"
     ]
    }
   ],
   "source": [
    "#Write your code\n",
    "i=1\n",
    "sum=0\n",
    "while(i<=10):\n",
    "    s=i*i\n",
    "    print(s,end=\" \")\n",
    "    sum=sum+s\n",
    "    i=i+1\n",
    "print(\"\\nSquared Sum=\",sum)    \n",
    "    "
   ]
  },
  {
   "cell_type": "markdown",
   "metadata": {},
   "source": [
    "### 9 Write a program in Python to take 10 numbers from user and then calculate total number of positive number, negative number and zeros entered by user using while loop."
   ]
  },
  {
   "cell_type": "code",
   "execution_count": 2,
   "metadata": {},
   "outputs": [
    {
     "name": "stdout",
     "output_type": "stream",
     "text": [
      "Enter any number:0\n",
      "Enter any number:1\n",
      "Enter any number:2\n",
      "Enter any number:3\n",
      "Enter any number:4\n",
      "Enter any number:-2\n",
      "Enter any number:-3\n",
      "Enter any number:0\n",
      "Enter any number:0\n",
      "Enter any number:-4\n",
      "The total number of positive number is 4\n",
      "The total number of negative number is 3\n",
      "The total number of zeros is 3\n"
     ]
    }
   ],
   "source": [
    "#Write your code\n",
    "i=1\n",
    "p=0\n",
    "n=0\n",
    "z=0\n",
    "while(i<=10):\n",
    "    x=int(input(\"Enter any number:\"))\n",
    "    if(x>0):\n",
    "        p=p+1\n",
    "    elif(x<0):\n",
    "        n=n+1\n",
    "    else:\n",
    "        z=z+1\n",
    "    i=i+1\n",
    "print(\"The total number of positive number is\",p)\n",
    "print(\"The total number of negative number is\",n)\n",
    "print(\"The total number of zeros is\",z)\n",
    "        "
   ]
  },
  {
   "cell_type": "markdown",
   "metadata": {},
   "source": [
    "10 Write a program in Python to enter 10 numbers and it should display the maximum number entered by user using while loop."
   ]
  },
  {
   "cell_type": "code",
   "execution_count": 2,
   "metadata": {},
   "outputs": [
    {
     "name": "stdout",
     "output_type": "stream",
     "text": [
      "Enter any number:2\n",
      "Enter any number:5\n",
      "Enter any number:78\n",
      "Enter any number:5\n",
      "Enter any number:43\n",
      "Enter any number:09\n",
      "Enter any number:79\n",
      "Enter any number:900\n",
      "Enter any number:123\n",
      "Enter any number:456\n",
      "The largest number is 456\n"
     ]
    }
   ],
   "source": [
    "i=1\n",
    "l=0\n",
    "while(i<=10):\n",
    "    x=int(input(\"Enter any number:\"))\n",
    "    if(x>0):\n",
    "        l=x\n",
    "        i=i+1\n",
    "print(\"The largest number is\",l)\n"
   ]
  },
  {
   "cell_type": "markdown",
   "metadata": {},
   "source": [
    "Optional Questions"
   ]
  },
  {
   "cell_type": "markdown",
   "metadata": {},
   "source": [
    "11 Write a program in Python to enter the numbers till the user wants and at the end it should display the maximum number entered using while loop."
   ]
  },
  {
   "cell_type": "code",
   "execution_count": 2,
   "metadata": {},
   "outputs": [
    {
     "name": "stdout",
     "output_type": "stream",
     "text": [
      "Enter a limit5\n",
      "Enter any number:100\n",
      "Enter any number:50\n",
      "Enter any number:200\n",
      "Enter any number:250\n",
      "Enter any number:400\n",
      "The largest number amongst all is 400\n"
     ]
    }
   ],
   "source": [
    "#Write your code\n",
    "i=1\n",
    "l=0\n",
    "n=int(input(\"Enter a limit\"))\n",
    "while(i<=n):\n",
    "    x=int(input(\"Enter any number:\"))\n",
    "    if(x>0):\n",
    "        l=x \n",
    "        i=i+1\n",
    "print(\"The largest number amongst all is\",l)\n"
   ]
  },
  {
   "cell_type": "markdown",
   "metadata": {},
   "source": [
    "12 Write a program in Python to evaluate following series using while loop:\n",
    "\n",
    "    x + 3x + 5x + 7x + 9x + 11x+....upto n terms"
   ]
  },
  {
   "cell_type": "code",
   "execution_count": 1,
   "metadata": {},
   "outputs": [
    {
     "name": "stdout",
     "output_type": "stream",
     "text": [
      "Enter your number :- 3\n",
      "Enter the number of terms:- 2\n",
      "12\n"
     ]
    }
   ],
   "source": [
    "#Write your code\n",
    "x=int(input('Enter your number :- '))\n",
    "n=int(input(\"Enter the number of terms:- \"))\n",
    "c=1\n",
    "sum1=0\n",
    "while n>0:\n",
    "    sum1=sum1+(c*x)\n",
    "    c=c+2\n",
    "    n=n-1\n",
    "print(sum1)\n",
    "    "
   ]
  },
  {
   "cell_type": "markdown",
   "metadata": {},
   "source": [
    "### 13 Write a program in Python to compute squares and square roots of numbers from 10 down to 1 using while loop."
   ]
  },
  {
   "cell_type": "code",
   "execution_count": 2,
   "metadata": {},
   "outputs": [
    {
     "name": "stdout",
     "output_type": "stream",
     "text": [
      "100\n",
      "3.1622776601683795\n",
      "81\n",
      "3.0\n",
      "64\n",
      "2.8284271247461903\n",
      "49\n",
      "2.6457513110645907\n",
      "36\n",
      "2.449489742783178\n",
      "25\n",
      "2.23606797749979\n",
      "16\n",
      "2.0\n",
      "9\n",
      "1.7320508075688772\n",
      "4\n",
      "1.4142135623730951\n",
      "1\n",
      "1.0\n"
     ]
    }
   ],
   "source": [
    "#Write your code\n",
    "i=10\n",
    "while(i>=1):\n",
    "    s=i*i\n",
    "    print(s)\n",
    "    n=i**0.5\n",
    "    print(n)\n",
    "    i=i-1"
   ]
  },
  {
   "cell_type": "markdown",
   "metadata": {},
   "source": [
    "### 14 Write a program in Python to evaluate following series using while loop:\n",
    "    \n",
    "    1/1! + 2/2! + 3/3! + 4/4! ...+ n/n!\n",
    " \n",
    "hint: use math.factorial(n) function to calculate factorial of number n."
   ]
  },
  {
   "cell_type": "code",
   "execution_count": 2,
   "metadata": {},
   "outputs": [
    {
     "name": "stdout",
     "output_type": "stream",
     "text": [
      "Enter a limit3\n",
      "2.5\n"
     ]
    }
   ],
   "source": [
    "#Write your code\n",
    "import math\n",
    "i=1\n",
    "total=0\n",
    "n=int(input(\"Enter a limit:\"))\n",
    "while(i<=n):\n",
    "    y=math.factorial(i)\n",
    "    total=total+(i/y)\n",
    "    i=i+1\n",
    "print(total)"
   ]
  },
  {
   "cell_type": "markdown",
   "metadata": {},
   "source": [
    "### 15 Write a program in Python to print all digits of a number from least signifiant digit to most significant digit using while loop.\n"
   ]
  },
  {
   "cell_type": "raw",
   "metadata": {},
   "source": [
    "For Example: \n",
    "Enter any number to find its all digits:89546\n",
    "digit = 6\n",
    "digit = 4\n",
    "digit = 5\n",
    "digit = 9\n",
    "digit = 8"
   ]
  },
  {
   "cell_type": "code",
   "execution_count": 2,
   "metadata": {},
   "outputs": [
    {
     "name": "stdout",
     "output_type": "stream",
     "text": [
      "Enter Your Number:-8345\n",
      "Digit= 5\n",
      "Digit= 4\n",
      "Digit= 3\n",
      "Digit= 8\n"
     ]
    }
   ],
   "source": [
    "#Write your code\n",
    "n=int(input('Enter Your Number:-'))\n",
    "dig=0\n",
    "while(n>0):\n",
    "    dig=n%10\n",
    "    n=n//10\n",
    "    print(\"Digit=\",dig)\n",
    "\n"
   ]
  },
  {
   "cell_type": "markdown",
   "metadata": {},
   "source": [
    "### 16 Write a program in Python to calculate total number of positive number, negative number and zeros entered by user. The user can enter any number of numbers."
   ]
  },
  {
   "cell_type": "code",
   "execution_count": 5,
   "metadata": {},
   "outputs": [
    {
     "name": "stdout",
     "output_type": "stream",
     "text": [
      "Enter a limit6\n",
      "Enter a number:-1\n",
      "Enter a number:-2\n",
      "Enter a number:0\n",
      "Enter a number:10\n",
      "Enter a number:-3\n",
      "Enter a number:0\n",
      "The total number of positive number is 1\n",
      "The total number of negative number is 3\n",
      "The total number of zeros is 2\n"
     ]
    }
   ],
   "source": [
    "#Write your code\n",
    "i=1\n",
    "p=0\n",
    "n=0\n",
    "z=0\n",
    "x=int(input(\"Enter a limit\"))\n",
    "while(i<=x):\n",
    "    m=int(input(\"Enter a number:\"))\n",
    "    if(m>0):\n",
    "        p=p+1\n",
    "    elif(m<0):\n",
    "        n=n+1\n",
    "    else:\n",
    "        z=z+1\n",
    "    i=i+1\n",
    "print(\"The total number of positive number is\",p)\n",
    "print(\"The total number of negative number is\",n)\n",
    "print(\"The total number of zeros is\",z)\n",
    "        \n",
    "    "
   ]
  },
  {
   "cell_type": "markdown",
   "metadata": {},
   "source": [
    "17. Write a code for printing this pattern."
   ]
  },
  {
   "cell_type": "raw",
   "metadata": {},
   "source": [
    "*\n",
    "**\n",
    "***\n",
    "****\n",
    "*****"
   ]
  },
  {
   "cell_type": "code",
   "execution_count": 4,
   "metadata": {},
   "outputs": [
    {
     "name": "stdout",
     "output_type": "stream",
     "text": [
      "* \n",
      "** \n",
      "*** \n",
      "**** \n",
      "***** \n"
     ]
    }
   ],
   "source": [
    "i=1\n",
    "while(i<=5):\n",
    "    j=i\n",
    "    while(j>=1):\n",
    "        print(\"*\",end='')\n",
    "        j=j-1\n",
    "    i=i+1\n",
    "    print(' ')"
   ]
  },
  {
   "cell_type": "markdown",
   "metadata": {},
   "source": [
    " 18. Write a code for printing this pattern."
   ]
  },
  {
   "cell_type": "raw",
   "metadata": {},
   "source": [
    "     *\n",
    "    ***\n",
    "   *****\n",
    "  *******  "
   ]
  },
  {
   "cell_type": "code",
   "execution_count": 1,
   "metadata": {},
   "outputs": [
    {
     "name": "stdout",
     "output_type": "stream",
     "text": [
      "     *\n",
      "    ***\n",
      "   *****\n",
      "  *******\n"
     ]
    }
   ],
   "source": [
    "#Write your code here\n",
    "z=1\n",
    "x=4\n",
    "while z<=7 and x>=1:\n",
    "    print(x*' ',z*'*')\n",
    "    z=z+2\n",
    "    x=x-1\n"
   ]
  },
  {
   "cell_type": "code",
   "execution_count": null,
   "metadata": {},
   "outputs": [],
   "source": []
  }
 ],
 "metadata": {
  "kernelspec": {
   "display_name": "Python 3",
   "language": "python",
   "name": "python3"
  },
  "language_info": {
   "codemirror_mode": {
    "name": "ipython",
    "version": 3
   },
   "file_extension": ".py",
   "mimetype": "text/x-python",
   "name": "python",
   "nbconvert_exporter": "python",
   "pygments_lexer": "ipython3",
   "version": "3.6.5"
  }
 },
 "nbformat": 4,
 "nbformat_minor": 2
}
