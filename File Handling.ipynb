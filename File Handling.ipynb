{
 "cells": [
  {
   "cell_type": "markdown",
   "metadata": {},
   "source": [
    "# File Handling Part 1"
   ]
  },
  {
   "cell_type": "markdown",
   "metadata": {},
   "source": [
    "### Some commonly used code\n",
    "- fobjr = open(\"sample.txt\", \"r\") # open the file in read only mode\n",
    "- fobjw = open(\"example.txt\", \"w\") # open the file in write mode\n",
    "- data = open(\"sample.txt\").readlines() # read all the contents line wise into data[0], data[1] etc.... \n",
    "- data = open(\"sample.txt\").read() # read all the contents as string into data\n",
    "- fobj.close() # close the file\n",
    "\n",
    "\n",
    "\n",
    "- with open(\"sample.txt\") as fobj # no need to close the file"
   ]
  },
  {
   "cell_type": "markdown",
   "metadata": {},
   "source": [
    "### Read from file"
   ]
  },
  {
   "cell_type": "code",
   "execution_count": 1,
   "metadata": {
    "collapsed": true
   },
   "outputs": [],
   "source": [
    "# open the file for reading the contents\n",
    "fobj = open(\"sample.txt\", \"r\")"
   ]
  },
  {
   "cell_type": "code",
   "execution_count": 2,
   "metadata": {
    "scrolled": true
   },
   "outputs": [
    {
     "name": "stdout",
     "output_type": "stream",
     "text": [
      "Python is relatively simple,\n",
      "so it's easy to learn since it requires a unique syntax that focuses on readability.\n",
      "Developers can read and translate Python code much easier than other languages.\n",
      "In turn, this reduces the cost of program maintenance and development because,\n",
      "it allows teams to work collaboratively without significant language and experience barriers.\n"
     ]
    }
   ],
   "source": [
    "for line in fobj:\n",
    "    #print(line)\n",
    "    print(line.rstrip()) # commnet this line and uncomment the first line and run it again"
   ]
  },
  {
   "cell_type": "code",
   "execution_count": 3,
   "metadata": {
    "collapsed": true
   },
   "outputs": [],
   "source": [
    "# close the file after reading the contents\n",
    "fobj.close()"
   ]
  },
  {
   "cell_type": "markdown",
   "metadata": {},
   "source": [
    "### Write to file"
   ]
  },
  {
   "cell_type": "code",
   "execution_count": 2,
   "metadata": {},
   "outputs": [],
   "source": [
    "# open the file for writing\n",
    "fobj2 = open(\"example.txt\", \"w\")\n",
    "\n",
    "# write some text to file\n",
    "fobj2.write(\"Bennett University, \\nGreater Noida\")\n",
    "fobj2.write(\"\\nWriting to file example.txt\")\n",
    "fobj2.write(\"\\nIf example.txt doesn't exixts on the disk, new file will be created\")\n",
    "\n",
    "# close the file after writing\n",
    "fobj2.close()"
   ]
  },
  {
   "cell_type": "markdown",
   "metadata": {},
   "source": [
    "### Program 1: Write a program to read and display the contents of the file \"example.txt\""
   ]
  },
  {
   "cell_type": "code",
   "execution_count": 3,
   "metadata": {
    "scrolled": false
   },
   "outputs": [
    {
     "name": "stdout",
     "output_type": "stream",
     "text": [
      "Bennett University, \n",
      "Greater Noida\n",
      "Writing to file example.txt\n",
      "If example.txt doesn't exixts on the disk, new file will be created\n"
     ]
    }
   ],
   "source": [
    "# write your code after this line\n",
    "file=open(\"example.txt\",\"r\")\n",
    "print(file.read())\n",
    "\n"
   ]
  },
  {
   "cell_type": "markdown",
   "metadata": {},
   "source": [
    "### Program 2: WAP to create a new file called \"myinfo.txt\" and write your name, branch, semester, university and hobbies into it. Add code to read the contents of the file and display them."
   ]
  },
  {
   "cell_type": "code",
   "execution_count": 8,
   "metadata": {},
   "outputs": [
    {
     "name": "stdout",
     "output_type": "stream",
     "text": [
      "SAKSHI RASTOGI\n",
      "CSE\n",
      "1\n",
      "BENNETT\n",
      "BADMINTON\n"
     ]
    }
   ],
   "source": [
    "file=open(\"myinfo.txt\",\"w\")\n",
    "file.write(\"SAKSHI RASTOGI\")\n",
    "file.write(\"\\nCSE\")\n",
    "file.write(\"\\n1\")\n",
    "file.write(\"\\nBENNETT\")\n",
    "file.write(\"\\nBADMINTON\")\n",
    "file=open(\"myinfo.txt\",\"r\")\n",
    "print(file.read())\n",
    "\n",
    "\n"
   ]
  },
  {
   "cell_type": "markdown",
   "metadata": {},
   "source": [
    "# Program 3: Write a program to write more content to file \"example.txt\" in \"w\" mode and display all the cotents of the file."
   ]
  },
  {
   "cell_type": "code",
   "execution_count": 6,
   "metadata": {},
   "outputs": [
    {
     "name": "stdout",
     "output_type": "stream",
     "text": [
      "Bennett University, \n",
      "Greater Noida\n",
      "Writing to file example.txt\n",
      "If example.txt doesn't exixts on the disk, new file will be created\n",
      "Hello\n",
      "How are you\n"
     ]
    }
   ],
   "source": [
    "file=open(\"example.txt\",'r')\n",
    "print(file.read())\n",
    "file=open(\"example.txt\",'w')\n",
    "file.write(\"Hello\")\n",
    "file.write(\"\\nHow are you\")\n",
    "file=open(\"example.txt\",'r')\n",
    "print(file.read())\n"
   ]
  },
  {
   "cell_type": "markdown",
   "metadata": {},
   "source": [
    "### Program 4: Write a program to read the contents from one file(\"sample.txt\") and write to another file(\"sample_new.txt\") and display the contents of the newly created file."
   ]
  },
  {
   "cell_type": "code",
   "execution_count": 25,
   "metadata": {
    "scrolled": true
   },
   "outputs": [
    {
     "name": "stdout",
     "output_type": "stream",
     "text": [
      "My name is Sakshi Rastogi\n",
      "\n",
      "My branch is CSE\n",
      "\n",
      "Semester is 1\n"
     ]
    }
   ],
   "source": [
    "# write your code here\n",
    "file=open(\"sample.txt\",\"r\")\n",
    "file1=open(\"sample_new.txt\",\"w\")\n",
    "for line in file:\n",
    "    file1.write(line)\n",
    "file1=open(\"sample_new.txt\",\"r\")\n",
    "for line in file1:\n",
    "    print(line)\n",
    "file.close()\n",
    "file1.close()"
   ]
  },
  {
   "cell_type": "markdown",
   "metadata": {},
   "source": [
    "### Program 5: Write a program to append some new text to an existing file (\"sample_new.txt\") and display all the contents"
   ]
  },
  {
   "cell_type": "code",
   "execution_count": 13,
   "metadata": {
    "scrolled": true
   },
   "outputs": [
    {
     "name": "stdout",
     "output_type": "stream",
     "text": [
      "My name is Sakshi Rastogi\n",
      "My branch is CSE\n",
      "Semester is 1\n",
      "My hobby is Badminton\n"
     ]
    }
   ],
   "source": [
    "# write your code here\n",
    "file=open(\"sample_new.txt\",\"w\")\n",
    "file.write(\"My name is Sakshi Rastogi\")\n",
    "file.write(\"\\nMy branch is CSE\")\n",
    "file.write(\"\\nSemester is 1\")\n",
    "file=open(\"sample_new.txt\",\"a\")\n",
    "file.write(\"\\nMy hobby is Badminton\")\n",
    "file=open(\"sample_new.txt\",\"r\")\n",
    "print(file.read())\n"
   ]
  },
  {
   "cell_type": "markdown",
   "metadata": {},
   "source": [
    "### Program 6: Write a program which does the following:\n",
    "- Read the content of the file(\"sample.txt\") using readlines() method\n",
    "- Print only first and third line of the file\n",
    "- Print all the contents of the file using for loop\n",
    "- Count number of lines of text in the file"
   ]
  },
  {
   "cell_type": "code",
   "execution_count": 24,
   "metadata": {},
   "outputs": [
    {
     "name": "stdout",
     "output_type": "stream",
     "text": [
      "['My name is Sakshi Rastogi\\n', 'My branch is CSE\\n', 'Semester is 1']\n",
      "['My name is Sakshi Rastogi\\n']\n",
      "['My branch is CSE\\n']\n",
      "My name is Sakshi Rastogi\n",
      "My branch is CSE\n",
      "Semester is 1\n",
      "Number of lines is 3\n"
     ]
    }
   ],
   "source": [
    "file=open(\"sample.txt\",\"w\")\n",
    "file.write(\"My name is Sakshi Rastogi\")\n",
    "file.write(\"\\nMy branch is CSE\")\n",
    "file.write(\"\\nSemester is 1\")\n",
    "file=open(\"sample.txt\",\"r\")\n",
    "print(file.readlines())\n",
    "file=open(\"sample.txt\",\"r\")\n",
    "print(file.readlines(1))\n",
    "print(file.readlines(3))\n",
    "file=open(\"sample.txt\",\"r\")\n",
    "print(file.read())\n",
    "num=0\n",
    "file=open(\"sample.txt\",\"r\")\n",
    "for line in file:\n",
    "    num=num+1\n",
    "print(\"Number of lines is\",num)"
   ]
  },
  {
   "cell_type": "markdown",
   "metadata": {},
   "source": [
    "# Program 7: Write a program which does the following:\n",
    "- Read all the content of the file(\"sample.txt\") as a string using read() method. \n",
    "- print first 10 characters of the file\n",
    "- print last 5 character of the file\n",
    "- print all the characters between 10 and 20\n",
    "- print all the conents of the file"
   ]
  },
  {
   "cell_type": "code",
   "execution_count": 34,
   "metadata": {
    "scrolled": false
   },
   "outputs": [
    {
     "name": "stdout",
     "output_type": "stream",
     "text": [
      "My name is Sakshi Rastogi\n",
      "My branch is CSE\n",
      "Semester is 1\n",
      "My name is\n",
      "My branch \n",
      "Semester i\n",
      "stogi\n",
      "\n",
      "s CSE\n",
      "\n",
      "r is 1\n"
     ]
    }
   ],
   "source": [
    "# write your code here\n",
    "file=open(\"sample.txt\",\"r\")\n",
    "print(file.read())\n",
    "file=open(\"sample.txt\",\"r\")\n",
    "for line in file.readlines():\n",
    "    print(line[0:10])\n",
    "file=open(\"sample.txt\",\"r\")\n",
    "for line in file.readlines():\n",
    "    print(line[-6:])\n",
    "    \n"
   ]
  },
  {
   "cell_type": "markdown",
   "metadata": {},
   "source": [
    "### Program 8: Write a program which does the following:\n",
    "- Read the contents of the file(\"sample.txt\") using readlines() method\n",
    "- print the first line of the file\n",
    "- Split and display the contents of the first line\n",
    "- print one splitted word per line"
   ]
  },
  {
   "cell_type": "code",
   "execution_count": 51,
   "metadata": {},
   "outputs": [
    {
     "name": "stdout",
     "output_type": "stream",
     "text": [
      "['My name is Sakshi Rastogi\\n', 'My branch is CSE\\n', 'Semester is 1']\n",
      "['My name is Sakshi Rastogi\\n']\n",
      "My\n",
      "name\n",
      "is\n",
      "Sakshi\n",
      "Rastogi\n"
     ]
    }
   ],
   "source": [
    "# write your code here\n",
    "file=open(\"sample.txt\",\"r\")\n",
    "print(file.readlines())\n",
    "file=open(\"sample.txt\",\"r\")\n",
    "print(file.readlines(1))\n",
    "file=open(\"sample.txt\",\"r\")\n",
    "content=file.readline()\n",
    "for line in content:\n",
    "    a=content.split()\n",
    "for word in a:\n",
    "     print(word)\n",
    "\n"
   ]
  },
  {
   "cell_type": "markdown",
   "metadata": {},
   "source": [
    "### Program 9: Write a program to read the contents of the file(\"sample.txt\") using \"with open()\""
   ]
  },
  {
   "cell_type": "code",
   "execution_count": 58,
   "metadata": {
    "scrolled": false
   },
   "outputs": [
    {
     "name": "stdout",
     "output_type": "stream",
     "text": [
      "['My name is Sakshi Rastogi\\n', 'My branch is CSE\\n', 'Semester is 1']\n"
     ]
    }
   ],
   "source": [
    "# write your code here\n",
    "with open(\"sample.txt\") as file:\n",
    "    content=file.readlines()\n",
    "    print(content)"
   ]
  },
  {
   "cell_type": "markdown",
   "metadata": {},
   "source": [
    "### Program 10: Write a program to write to file(\"example2.txt\") using \"with open()\""
   ]
  },
  {
   "cell_type": "code",
   "execution_count": 62,
   "metadata": {},
   "outputs": [
    {
     "name": "stdout",
     "output_type": "stream",
     "text": [
      "['My hobby is Badminton']\n"
     ]
    }
   ],
   "source": [
    "# write your code here\n",
    "with open(\"example2.txt\",\"w\") as file:\n",
    "    file.write(\"My hobby is Badminton\")\n",
    "with open(\"example2.txt\",\"r\") as file:\n",
    "    content=file.readlines()\n",
    "    print(content)"
   ]
  },
  {
   "cell_type": "markdown",
   "metadata": {},
   "source": [
    "## Optional Programs"
   ]
  },
  {
   "cell_type": "markdown",
   "metadata": {},
   "source": [
    "### Program 11: WAP to find the square and cube of all the numbers between start and end. Create a file named  \"cubes.txt\" and store one number per line into file. Read the values of start and end from the file. Also print the start and ending number. "
   ]
  },
  {
   "cell_type": "raw",
   "metadata": {},
   "source": [
    "Output should look like:\n",
    "Start number = 1\n",
    "End number = 20\n",
    "Cube of 1 is 1\n",
    "Cube 2 is 8\n",
    "Cube of 3 is 27\n",
    "....."
   ]
  },
  {
   "cell_type": "code",
   "execution_count": null,
   "metadata": {},
   "outputs": [],
   "source": []
  },
  {
   "cell_type": "markdown",
   "metadata": {},
   "source": [
    "### Program 12: WAP for following:\n",
    "- Create a new file called \"states.txt\". \n",
    "- Take the values of state and its capital(atleast 10 records) from the user and write them to newly created file.\n",
    "- The file should containt 1 record per state."
   ]
  },
  {
   "cell_type": "code",
   "execution_count": 14,
   "metadata": {},
   "outputs": [],
   "source": [
    "# write your code here\n",
    "f=open(\"states.txt\",\"w\")\n",
    "for line in states.txt:\n",
    "    n=input(\"Enter the state:\")\n",
    "    y=input(\"Enter its corresponding capital\")"
   ]
  }
 ],
 "metadata": {
  "kernelspec": {
   "display_name": "Python 3",
   "language": "python",
   "name": "python3"
  },
  "language_info": {
   "codemirror_mode": {
    "name": "ipython",
    "version": 3
   },
   "file_extension": ".py",
   "mimetype": "text/x-python",
   "name": "python",
   "nbconvert_exporter": "python",
   "pygments_lexer": "ipython3",
   "version": "3.6.5"
  }
 },
 "nbformat": 4,
 "nbformat_minor": 2
}
