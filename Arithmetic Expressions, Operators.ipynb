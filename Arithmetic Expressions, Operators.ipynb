{
 "cells": [
  {
   "cell_type": "markdown",
   "metadata": {},
   "source": [
    "# Student Name: \n",
    "# Enrollment Number: \n",
    "# Lab assignemnt number:"
   ]
  },
  {
   "cell_type": "markdown",
   "metadata": {},
   "source": [
    "## Lab 3: Arithmetic Expressions, Operators"
   ]
  },
  {
   "cell_type": "markdown",
   "metadata": {},
   "source": [
    "## Compulasory Questions"
   ]
  },
  {
   "cell_type": "markdown",
   "metadata": {},
   "source": [
    "### 1 Write a program in Python that takes a length of one side of square (floating-point value) as input and prints the area and perimeter of the square."
   ]
  },
  {
   "cell_type": "code",
   "execution_count": 2,
   "metadata": {
    "scrolled": false
   },
   "outputs": [
    {
     "name": "stdout",
     "output_type": "stream",
     "text": [
      "Enter the side of a square:45\n",
      "2025.0\n",
      "180.0\n"
     ]
    }
   ],
   "source": [
    "#write your code here\n",
    "x=float(input('Enter the side of a square:'))\n",
    "area=x*x\n",
    "perimeter=4*x\n",
    "print(area)\n",
    "print(perimeter)"
   ]
  },
  {
   "cell_type": "markdown",
   "metadata": {},
   "source": [
    "### 2\tWrite a program in Python to take input length and breadth of a rectangle (floating-point values) and print the area and perimeter of the rectangle."
   ]
  },
  {
   "cell_type": "code",
   "execution_count": 3,
   "metadata": {
    "scrolled": false
   },
   "outputs": [
    {
     "name": "stdout",
     "output_type": "stream",
     "text": [
      "Enter the length of a rectangle:45\n",
      "Enter the breadth of a rectangle: 3\n",
      "135.0\n",
      "96.0\n"
     ]
    }
   ],
   "source": [
    "#write your code here\n",
    "x=float(input(\"Enter the length of a rectangle:\"))\n",
    "y=float(input(\"Enter the breadth of a rectangle: \"))\n",
    "area=x*y\n",
    "perimeter=2*(x+y)\n",
    "print(area)\n",
    "print(perimeter)"
   ]
  },
  {
   "cell_type": "markdown",
   "metadata": {},
   "source": [
    "### 3 Write a program in Python which converts 8 hours and 32 minutes into seconds."
   ]
  },
  {
   "cell_type": "code",
   "execution_count": 4,
   "metadata": {},
   "outputs": [
    {
     "name": "stdout",
     "output_type": "stream",
     "text": [
      "30720\n"
     ]
    }
   ],
   "source": [
    "hours=8\n",
    "minutes=32\n",
    "seconds= (hours*60*60)+(minutes*60)\n",
    "print(seconds)"
   ]
  },
  {
   "cell_type": "markdown",
   "metadata": {},
   "source": [
    "### 4 Write a program in Python which inputs time in hours and minutes and converts it into seconds."
   ]
  },
  {
   "cell_type": "code",
   "execution_count": 4,
   "metadata": {},
   "outputs": [
    {
     "name": "stdout",
     "output_type": "stream",
     "text": [
      "Enter time hours:7\n",
      "Enter the time in minutes:30\n",
      "27000\n"
     ]
    }
   ],
   "source": [
    "#write your code here\n",
    "hour=int(input(\"Enter time hours:\"))\n",
    "minutes=int(input(\"Enter the time in minutes:\"))\n",
    "seconds=(hour*60*60)+(minutes*60)\n",
    "print(seconds)\n"
   ]
  },
  {
   "cell_type": "markdown",
   "metadata": {},
   "source": [
    "### 5\tWrite a program in Python to convert temperature in degrees Celcius to degrees Fahrenheit. The formula is F = (temp * 9/5) +32 . For temp=40 ᵒC, the output should be 104 ᵒF . Try for other different values of temp."
   ]
  },
  {
   "cell_type": "code",
   "execution_count": 6,
   "metadata": {},
   "outputs": [
    {
     "name": "stdout",
     "output_type": "stream",
     "text": [
      "temperature in ᵒC 104\n",
      "104.0 ᵒC =  219.2 ᵒF\n"
     ]
    }
   ],
   "source": [
    "temp_in_deg=float(input('temperature in ᵒC '))\n",
    "#write your code here\n",
    "temp=(temp_in_deg*9/5)+32\n",
    "print(temp_in_deg,'ᵒC = ',temp,'ᵒF')"
   ]
  },
  {
   "cell_type": "markdown",
   "metadata": {},
   "source": [
    "### 6 Execute the following program in python to perform assignment operations and write comments on each line as per your understanding"
   ]
  },
  {
   "cell_type": "code",
   "execution_count": 7,
   "metadata": {},
   "outputs": [
    {
     "name": "stdout",
     "output_type": "stream",
     "text": [
      "21\n",
      "11\n",
      "44\n"
     ]
    }
   ],
   "source": [
    "x=20\n",
    "#x=x+1\n",
    "x+=1\n",
    "print(x)\n",
    "#x=x-10\n",
    "x-=10\n",
    "print(x)\n",
    "#x=x*4\n",
    "x*=4\n",
    "print(x)\n"
   ]
  },
  {
   "cell_type": "markdown",
   "metadata": {},
   "source": [
    "### 7Execute the following program in python to perform assignment operations and write comments on each line as per your understanding."
   ]
  },
  {
   "cell_type": "code",
   "execution_count": 8,
   "metadata": {},
   "outputs": [
    {
     "name": "stdout",
     "output_type": "stream",
     "text": [
      "6.666666666666667\n",
      "0.666666666666667\n",
      "0.0\n",
      "4\n",
      "4\n"
     ]
    }
   ],
   "source": [
    "x=20\n",
    "y=3\n",
    "#x=x/y\n",
    "x/=y\n",
    "print(x)\n",
    "#x=x%y\n",
    "x%=y\n",
    "print(x)\n",
    "#x=x//y\n",
    "x//=y\n",
    "print(x)\n",
    "x=6\n",
    "y=4\n",
    "#x=x&y\n",
    "x&=y\n",
    "print(x)\n",
    "#x=x|y\n",
    "x|=y\n",
    "print(x)\n"
   ]
  },
  {
   "cell_type": "markdown",
   "metadata": {},
   "source": [
    "### 8 Execute the following program in python to perform following relational operations and write comments on each line as per your understanding. "
   ]
  },
  {
   "cell_type": "code",
   "execution_count": 9,
   "metadata": {},
   "outputs": [
    {
     "name": "stdout",
     "output_type": "stream",
     "text": [
      "False\n",
      "True\n",
      "False\n",
      "True\n"
     ]
    }
   ],
   "source": [
    "x=\"happy\"\n",
    "y=\"had\"\n",
    "#Ascii value of x<y.Hence false\n",
    "print(x<y)\n",
    "#Ascii value of x>y.Hence true\n",
    "print(x>y)\n",
    "#Ascii value of x is not equal to y.Hence false\n",
    "print(x==y)\n",
    "#Ascii value of x is not equal to y.Hence true \n",
    "print(x!=y)"
   ]
  },
  {
   "cell_type": "markdown",
   "metadata": {},
   "source": [
    "### 9 Execute the following program in python to perform following relational operations and write comments on each line as per your understanding."
   ]
  },
  {
   "cell_type": "code",
   "execution_count": 11,
   "metadata": {},
   "outputs": [
    {
     "name": "stdout",
     "output_type": "stream",
     "text": [
      "True\n",
      "False\n",
      "False\n",
      "False\n",
      "True\n",
      "False\n"
     ]
    }
   ],
   "source": [
    "#numeric value 1<2.Hence true \n",
    "print(1<2)\n",
    "#numeric value 4 is not greater than 10.Hence false\n",
    "print(4>10)\n",
    "#numeric value 6 is not equal to 8.Hence false\n",
    "print(6==8)\n",
    "#numeric value 2 is not greater than 10.Hence false\n",
    "print(2>10)\n",
    "#numeric value 8>6.Hence true\n",
    "print(6<8)\n",
    "#numeric value 6 is not greater than 8.Hence false\n",
    "print(6>8)"
   ]
  },
  {
   "cell_type": "markdown",
   "metadata": {},
   "source": [
    "### 10 Execute the following program in python to perform following logical AND OR NOT operations and write comments on each line as per your understanding."
   ]
  },
  {
   "cell_type": "code",
   "execution_count": 12,
   "metadata": {},
   "outputs": [
    {
     "name": "stdout",
     "output_type": "stream",
     "text": [
      "False\n",
      "False\n",
      "False\n",
      "False\n",
      "True\n",
      "True\n",
      "True\n"
     ]
    }
   ],
   "source": [
    "#numeric value 4 is not greater than 10.Hence false.\n",
    "print(1<2 and 4>10)\n",
    "#none of the following statements are true.Hence false\n",
    "print(6==8 or 2>10)\n",
    "#numeric value 6 is not greater than 8.Hence false\n",
    "print(6<8 and 6>8)\n",
    "#1 is true,so not(1) means false\n",
    "print(not(1))\n",
    "#numeric falue 1 is not equal to 2.Hence false but not(false) is true.\n",
    "print(not(1==2))\n",
    "#none of the statements are true.Hence false but not(false) is true\n",
    "print(not(4>7 and 7>8))\n",
    "#none of the statements are true.Hence false but not(false) is true\n",
    "print(not(4>7 or 7>8))"
   ]
  },
  {
   "cell_type": "markdown",
   "metadata": {},
   "source": [
    "### 11\tWrite a program in Python that inputs data (class, age, marks in mathematics, science) about two persons- Ram and Shyam. The program uses relational operators to check whether they study in same class? Are Ram Shyam of same age? Is Ram’s marks in mathematics more than Shyam? Is Ram’s marks in science less than Ram? The answer by the program is either True or False. The operators to be used are: <, >, ==, !=. "
   ]
  },
  {
   "cell_type": "code",
   "execution_count": 15,
   "metadata": {},
   "outputs": [
    {
     "name": "stdout",
     "output_type": "stream",
     "text": [
      "Both are in same class ? True\n",
      "Both are of same age? False\n",
      "Is Ram's marks in maths same as that of Shyam? False\n",
      "Is Ram's marks in science less as that of Shyam? True\n"
     ]
    }
   ],
   "source": [
    "R_class='XII'\n",
    "S_class='XII'\n",
    "\n",
    "R_age=18\n",
    "S_age=19\n",
    "\n",
    "R_math=80\n",
    "S_math=90\n",
    "\n",
    "R_sci=85\n",
    "S_sci=92\n",
    "\n",
    "print('Both are in same class ?',R_class==S_class)\n",
    "#write your code here\n",
    "print(\"Both are of same age?\",R_age==S_age)\n",
    "print(\"Is Ram's marks in maths same as that of Shyam?\",R_math>S_math)\n",
    "print(\"Is Ram's marks in science less as that of Shyam?\",R_math<S_math)\n",
    "\n",
    "\n"
   ]
  },
  {
   "cell_type": "markdown",
   "metadata": {},
   "source": [
    "### 12 Execute the following code and write comments on each line as per your understanding."
   ]
  },
  {
   "cell_type": "code",
   "execution_count": 16,
   "metadata": {},
   "outputs": [
    {
     "name": "stdout",
     "output_type": "stream",
     "text": [
      "x and y is False\n",
      "x or y is True\n",
      "not x is False\n"
     ]
    }
   ],
   "source": [
    "x = True\n",
    "y = False\n",
    "#In and operation true and false results into false.Hence false\n",
    "print('x and y is',x and y) \n",
    "#In or operation true or false results into true.Hence true\n",
    "print('x or y is',x or y) \n",
    "#In not operation, not(true) results into false.Hence false\n",
    "print('not x is',not x) "
   ]
  },
  {
   "cell_type": "markdown",
   "metadata": {},
   "source": [
    "### 13 Execute the code:"
   ]
  },
  {
   "cell_type": "code",
   "execution_count": 17,
   "metadata": {},
   "outputs": [
    {
     "name": "stdout",
     "output_type": "stream",
     "text": [
      "4\n",
      "12\n",
      "8\n"
     ]
    }
   ],
   "source": [
    "x=12 \n",
    "y=4 \n",
    "# bitwise AND of 1100 and 0100 = 0100 i.e. 4\n",
    "print(x&y) \n",
    "# bitwise OR of 1100 and 0100 = 1100 i.e. 12\n",
    "print(x|y)\n",
    "# bitwise XOR of 1100 and 0100 = 1000 i.e. 8\n",
    "print(x^y)"
   ]
  },
  {
   "cell_type": "markdown",
   "metadata": {},
   "source": [
    "### 13 Execute the code and write comments on each line as per your understanding."
   ]
  },
  {
   "cell_type": "code",
   "execution_count": 18,
   "metadata": {
    "scrolled": true
   },
   "outputs": [
    {
     "name": "stdout",
     "output_type": "stream",
     "text": [
      "True\n",
      "True\n",
      "True\n",
      "False\n"
     ]
    }
   ],
   "source": [
    "x = 'Hello world'\n",
    "print('He' in x)    \n",
    "print('h' not in x)   \n",
    "string2='Believe in yourself'\n",
    "# write code to check if sub-string'lie' is present in string2 or not\n",
    "print('lie' in string2)\n",
    "print(\"lie\" not in string2)"
   ]
  },
  {
   "cell_type": "markdown",
   "metadata": {},
   "source": [
    "### 15 Write a program in Python to multiply and divide using bitwise shift operators. Observe the given example for n=8. Write code for n1=4 and execute. "
   ]
  },
  {
   "cell_type": "raw",
   "metadata": {},
   "source": [
    "if n=8 = (1000 in binary), n>>1 will give 100 i.e 4 after shifting bits by 1 place to right. \n",
    "                           n<<1 will give 10000 i.e. 16 after shifting bits by 1 place to left."
   ]
  },
  {
   "cell_type": "code",
   "execution_count": 25,
   "metadata": {
    "scrolled": true
   },
   "outputs": [
    {
     "name": "stdout",
     "output_type": "stream",
     "text": [
      "8 binary 1000\n",
      "8 * 2= 16\n",
      "8 / 2= 4\n",
      "4 binary 100\n",
      "4 *2= 16\n",
      "4 /2= 4\n"
     ]
    }
   ],
   "source": [
    "n=8\n",
    "print(n,'binary',format(n,'b'))\n",
    "print(n,'* 2=',n<<1)\n",
    "print(n,'/ 2=',n>>1)\n",
    "n1=4\n",
    "#write your code here\n",
    "print(n1,'binary',format(n1,'b'))\n",
    "print(n1,'*2=',n<<1)\n",
    "print(n1,\"/2=\",n>>1)"
   ]
  },
  {
   "cell_type": "markdown",
   "metadata": {},
   "source": [
    "### 16\tWrite a program in Python to multiply and divide by multiple powers of two using bitwise shift operators. Observe the given example for n=8,k=3. Write code for m=4, k1=2 and execute. "
   ]
  },
  {
   "cell_type": "raw",
   "metadata": {},
   "source": [
    "Input\n",
    "    n=8\n",
    "    k=3\n",
    "Output\n",
    "    Value of 8 after multiplying by 2 3 times = 8*8=64\n",
    "    Value of 8 after dividing by 2 3 times = 8/8=1"
   ]
  },
  {
   "cell_type": "code",
   "execution_count": 32,
   "metadata": {},
   "outputs": [
    {
     "name": "stdout",
     "output_type": "stream",
     "text": [
      "Value of 8 after multiplying by 2 3 times = 64\n",
      "Value of 8 after dividing by 2 3 times = 1\n",
      "Value of 4 after multiplying by 2 2 times= 16\n",
      "Value of 4 after dividing by 2 2 times= 1\n"
     ]
    }
   ],
   "source": [
    "n=8\n",
    "k=3\n",
    "#write your code here\n",
    "n1= n<<k\n",
    "print('Value of', n,'after multiplying by 2',k,'times =',n1)\n",
    "#write your code here\n",
    "n2=n>>k\n",
    "print('Value of',n,'after dividing by 2',k,'times =',n2)\n",
    "m=4\n",
    "k1=2\n",
    "m1=m<<k1\n",
    "print(\"Value of\",m,'after multiplying by 2',k1,'times=',m1)\n",
    "m2=m>>k1\n",
    "print(\"Value of\",m,'after dividing by 2',k1,'times=',m2)\n"
   ]
  },
  {
   "cell_type": "markdown",
   "metadata": {},
   "source": [
    "## Optional Questions"
   ]
  },
  {
   "cell_type": "markdown",
   "metadata": {},
   "source": [
    "### 17\tWrite a program in python to convert from degree to radian and from radian to degree. Take input from user."
   ]
  },
  {
   "cell_type": "raw",
   "metadata": {},
   "source": [
    "pi=22/7\n",
    "radian = degree*(pi/180)\n",
    "degree=(radian *180)/pi"
   ]
  },
  {
   "cell_type": "code",
   "execution_count": 24,
   "metadata": {},
   "outputs": [
    {
     "name": "stdout",
     "output_type": "stream",
     "text": [
      "Enter the number in degree34\n",
      "0.5936507936507937\n"
     ]
    }
   ],
   "source": [
    "#write your code here for degree to radian\n",
    "pi=22/7\n",
    "degree=int(input(\"Enter the number in degree\"))\n",
    "radian=degree*(pi/180)\n",
    "print(radian)"
   ]
  },
  {
   "cell_type": "code",
   "execution_count": 26,
   "metadata": {},
   "outputs": [
    {
     "name": "stdout",
     "output_type": "stream",
     "text": [
      "Enter the number in degree45\n",
      "34.0\n"
     ]
    }
   ],
   "source": [
    "#write your code here for radian to degree\n",
    "pi=22/7\n",
    "degree=int(input(\"Enter the number in degree\"))\n",
    "degree=radian*(180/pi)\n",
    "print(degree)"
   ]
  },
  {
   "cell_type": "markdown",
   "metadata": {},
   "source": [
    "### 18\tWrite a program in Python to convert number 13 into 79. Students may introduce one more variable and  use bitwise operators (such as AND, OR, XOR). "
   ]
  },
  {
   "cell_type": "code",
   "execution_count": 23,
   "metadata": {
    "scrolled": true
   },
   "outputs": [
    {
     "name": "stdout",
     "output_type": "stream",
     "text": [
      "79\n"
     ]
    }
   ],
   "source": [
    "a=13\n",
    "b=79\n",
    "out=a|b\n",
    "print(out)"
   ]
  },
  {
   "cell_type": "markdown",
   "metadata": {},
   "source": [
    "### 19 Write a program in python to calculate area of triangle when all three sides are given. "
   ]
  },
  {
   "cell_type": "raw",
   "metadata": {},
   "source": [
    "s=(a+b+c)/2\n",
    "area =  √(s(s-a)(s-b)(s-c) )"
   ]
  },
  {
   "cell_type": "code",
   "execution_count": 29,
   "metadata": {
    "scrolled": false
   },
   "outputs": [
    {
     "name": "stdout",
     "output_type": "stream",
     "text": [
      "Enter the first side of a triangle:2\n",
      "Enter the second side of a triangle:3\n",
      "Enter the third side of a triangle:4\n",
      "2.9047375096555625\n"
     ]
    }
   ],
   "source": [
    " #write your code here\n",
    "a=int(input(\"Enter the first side of a triangle:\"))\n",
    "b=int(input(\"Enter the second side of a triangle:\"))\n",
    "c=int(input(\"Enter the third side of a triangle:\"))\n",
    "s=(a+b+c)/2\n",
    "area=(s*(s-a)*(s-b)*(s-c))**0.5\n",
    "print(area)"
   ]
  },
  {
   "cell_type": "markdown",
   "metadata": {
    "collapsed": true
   },
   "source": [
    "### 20 Write a program in python to perform addition, subtraction, multiplication and division operations on complex numbers. "
   ]
  },
  {
   "cell_type": "code",
   "execution_count": 21,
   "metadata": {},
   "outputs": [
    {
     "name": "stdout",
     "output_type": "stream",
     "text": [
      "(25+8j)\n",
      "(15+2j)\n",
      "(85+85j)\n",
      "(3.3823529411764706-1.0294117647058825j)\n"
     ]
    }
   ],
   "source": [
    "import cmath\n",
    "a=complex(20+5j)\n",
    "b=complex(5+3j)\n",
    "#write your code here\n",
    "add=a+b\n",
    "sub=a-b\n",
    "mult=a*b\n",
    "div=a/b\n",
    "print(add)\n",
    "print(sub)\n",
    "print(mult)\n",
    "print(div)"
   ]
  },
  {
   "cell_type": "code",
   "execution_count": null,
   "metadata": {},
   "outputs": [],
   "source": []
  }
 ],
 "metadata": {
  "kernelspec": {
   "display_name": "Python 3",
   "language": "python",
   "name": "python3"
  },
  "language_info": {
   "codemirror_mode": {
    "name": "ipython",
    "version": 3
   },
   "file_extension": ".py",
   "mimetype": "text/x-python",
   "name": "python",
   "nbconvert_exporter": "python",
   "pygments_lexer": "ipython3",
   "version": "3.6.5"
  }
 },
 "nbformat": 4,
 "nbformat_minor": 2
}
