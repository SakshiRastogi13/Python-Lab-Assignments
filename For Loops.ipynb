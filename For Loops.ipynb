{
 "cells": [
  {
   "cell_type": "markdown",
   "metadata": {},
   "source": [
    "# Student Name: \n",
    "# Enrollment Number: \n",
    "# Lab assignemnt number: 6"
   ]
  },
  {
   "cell_type": "markdown",
   "metadata": {},
   "source": [
    "## For Loop\n",
    "### Indentation (Spacing) is neccessay for writing the code inside the loop."
   ]
  },
  {
   "cell_type": "markdown",
   "metadata": {},
   "source": [
    "#### Syntax of \"for loop\""
   ]
  },
  {
   "cell_type": "raw",
   "metadata": {
    "collapsed": true
   },
   "source": [
    "for iterable_var_name in range(terminating_value):\n",
    "    stmt 1\n",
    "    stmt 2\n",
    "    ...\n",
    "\n",
    "#with initializations\n",
    "for iterable_var_name in range(initial_value,terminating_value):\n",
    "    stmt 1\n",
    "    stmt 2\n",
    "    ...\n",
    "    \n",
    "# with initialization and updation (increment/decrement)\n",
    "for iterable_var_name in range(initial_value,terminating_value,updation):\n",
    "    stmt 1\n",
    "    stmt 2\n",
    "    ..."
   ]
  },
  {
   "cell_type": "markdown",
   "metadata": {},
   "source": [
    "### 1 Write a program in Python to find the sum of 5 numbers entered by the user using a for loop."
   ]
  },
  {
   "cell_type": "code",
   "execution_count": 5,
   "metadata": {},
   "outputs": [
    {
     "name": "stdout",
     "output_type": "stream",
     "text": [
      "Enter any number:1\n",
      "Enter any number:2\n",
      "Enter any number:3\n",
      "Enter any number:4\n",
      "Enter any number:5\n",
      "15\n"
     ]
    }
   ],
   "source": [
    "#Write your code here\n",
    "sum=0\n",
    "for i in range(5):\n",
    "    x=int(input(\"Enter any number:\"))\n",
    "    sum=sum+x\n",
    "print(sum)\n"
   ]
  },
  {
   "cell_type": "markdown",
   "metadata": {},
   "source": [
    "### 2 Write a program in Python to get 10 numbers from user using a for loop. The program should print the count of positive numbers, negative numbers and zeroes entered by the user."
   ]
  },
  {
   "cell_type": "code",
   "execution_count": 4,
   "metadata": {},
   "outputs": [
    {
     "name": "stdout",
     "output_type": "stream",
     "text": [
      "Enter any number:1\n",
      "Enter any number:2\n",
      "Enter any number:3\n",
      "Enter any number:0\n",
      "Enter any number:-1\n",
      "Enter any number:-2\n",
      "Enter any number:-3\n",
      "Enter any number:0\n",
      "Enter any number:0\n",
      "Enter any number:0\n",
      "The total number of positive number is 3\n",
      "The total number of negative number is 3\n",
      "The total number of zeros is 4\n"
     ]
    }
   ],
   "source": [
    "#Write your code\n",
    "p=0\n",
    "z=0\n",
    "n=0\n",
    "for i in range(10):\n",
    "    x=int(input(\"Enter any number:\"))\n",
    "    if(x>0):\n",
    "        p=p+1\n",
    "    elif(x<0):\n",
    "        n=n+1\n",
    "    else:\n",
    "        z=z+1\n",
    "print(\"The total number of positive number is\",p)\n",
    "print(\"The total number of negative number is\",n)\n",
    "print(\"The total number of zeros is\",z)\n",
    "        "
   ]
  },
  {
   "cell_type": "markdown",
   "metadata": {},
   "source": [
    "### 3 Write a program in Python to find the sum of the series 1+3+5+7+…upto 31 using for loop."
   ]
  },
  {
   "cell_type": "code",
   "execution_count": 5,
   "metadata": {},
   "outputs": [
    {
     "name": "stdout",
     "output_type": "stream",
     "text": [
      "1 +3 +5 +7 +9 +11 +13 +15 +17 +19 +21 +23 +25 +27 +29 +31 +\n",
      " Sum= 256\n"
     ]
    }
   ],
   "source": [
    "#Write your code\n",
    "sum=0\n",
    "for i in range(1,33,2):\n",
    "    print(i,\"+\",end=\"\")\n",
    "    sum=sum+i\n",
    "print(\"\\n Sum=\",sum)    \n",
    "    \n",
    "    "
   ]
  },
  {
   "cell_type": "markdown",
   "metadata": {},
   "source": [
    "### 4 Write a program in Python to find the product of n numbers entered by the user using a for loop."
   ]
  },
  {
   "cell_type": "code",
   "execution_count": 2,
   "metadata": {
    "scrolled": true
   },
   "outputs": [
    {
     "name": "stdout",
     "output_type": "stream",
     "text": [
      "Enter the limit:4\n",
      "Enter a number:1\n",
      "Enter a number:2\n",
      "Enter a number:3\n",
      "Enter a number:4\n",
      "24\n"
     ]
    }
   ],
   "source": [
    "#Write your code\n",
    "p=1\n",
    "n=int(input(\"Enter the limit:\"))\n",
    "for i in range(1,n+1):\n",
    "    x=int(input(\"Enter a number:\"))\n",
    "    p=p*x\n",
    "print(p)"
   ]
  },
  {
   "cell_type": "markdown",
   "metadata": {},
   "source": [
    "### 5 Write a program in Python to find the factorial of an integer number entered by the user using a for loop. "
   ]
  },
  {
   "cell_type": "raw",
   "metadata": {},
   "source": [
    "N!= N*(N-1)*(N-2)*….3*2*1."
   ]
  },
  {
   "cell_type": "code",
   "execution_count": 4,
   "metadata": {
    "scrolled": true
   },
   "outputs": [
    {
     "name": "stdout",
     "output_type": "stream",
     "text": [
      "Enter the number to find its factorial:6\n",
      "720\n"
     ]
    }
   ],
   "source": [
    "#Write your code\n",
    "fact=1\n",
    "x=int(input(\"Enter the number to find its factorial:\"))\n",
    "for i in range(1,x+1):\n",
    "    fact=fact*i\n",
    "print(fact)\n"
   ]
  },
  {
   "cell_type": "markdown",
   "metadata": {},
   "source": [
    "### 6 Write a program in Python to find the sum of the series using a for loop:\n",
    "\n",
    "1! + 2! + 3! + ….+ n!."
   ]
  },
  {
   "cell_type": "code",
   "execution_count": 14,
   "metadata": {
    "scrolled": true
   },
   "outputs": [
    {
     "name": "stdout",
     "output_type": "stream",
     "text": [
      "Enter the limit:5\n",
      "total= 153\n"
     ]
    }
   ],
   "source": [
    "#Write your code\n",
    "fact=1\n",
    "total=0\n",
    "x=int(input(\"Enter the limit:\"))\n",
    "for i in range(1,x+1):\n",
    "    fact=fact*i\n",
    "    total=total+fact\n",
    "print(\"total=\",total)"
   ]
  },
  {
   "cell_type": "markdown",
   "metadata": {},
   "source": [
    "### 7 Write a program in Python to compute the natural logarithm of 2 using a for loop, by adding upto n terms in the series: 1-1/2+1/3-1/4+…..1/n where n is a positive number entered by the user.\n"
   ]
  },
  {
   "cell_type": "code",
   "execution_count": 2,
   "metadata": {
    "scrolled": true
   },
   "outputs": [
    {
     "name": "stdout",
     "output_type": "stream",
     "text": [
      "Enter the limit3\n",
      "0.8333333333333333\n"
     ]
    }
   ],
   "source": [
    "#Write your code\n",
    "total=0\n",
    "n=int(input(\"Enter the limit\"))\n",
    "for i in range(1,n+1):\n",
    "    total=total+(-1)**(i+1)/i\n",
    "print(total)"
   ]
  },
  {
   "cell_type": "markdown",
   "metadata": {},
   "source": [
    "### 8 Write a program in Python to print all numbers from 0 to 9 except 3 and 6 using a for loop. "
   ]
  },
  {
   "cell_type": "code",
   "execution_count": 16,
   "metadata": {},
   "outputs": [
    {
     "name": "stdout",
     "output_type": "stream",
     "text": [
      "0\n",
      "1\n",
      "2\n",
      "4\n",
      "5\n",
      "7\n",
      "8\n",
      "9\n"
     ]
    }
   ],
   "source": [
    "#Write your code\n",
    "for i in range(0,10,1):\n",
    "    if(i!=3 and i!=6):\n",
    "        print(i)"
   ]
  },
  {
   "cell_type": "markdown",
   "metadata": {},
   "source": [
    "### 9 Write a program in Python that allows user to input maximum 5 numbers using a while loop. The program should print the product when either a negative number is entered by user or 5 positive numbers have been entered."
   ]
  },
  {
   "cell_type": "code",
   "execution_count": 13,
   "metadata": {
    "scrolled": true
   },
   "outputs": [
    {
     "name": "stdout",
     "output_type": "stream",
     "text": [
      "Enter a number9\n",
      "Enter a number3\n",
      "Enter a number-1\n",
      "Product= 27\n"
     ]
    }
   ],
   "source": [
    "#Write your code\n",
    "p=1\n",
    "i=1\n",
    "while(i<=5):\n",
    "    x=int(input(\"Enter a number\"))\n",
    "    if(x>0 or x==5):\n",
    "        p=p*x\n",
    "    else:\n",
    "        break\n",
    "    i=i+1\n",
    "print(\"Product=\",p)    "
   ]
  },
  {
   "cell_type": "markdown",
   "metadata": {},
   "source": [
    "### 10 Write a program in Python to input marks in 3 subjects for 3 students using nested for loop and print the total marks of each student."
   ]
  },
  {
   "cell_type": "code",
   "execution_count": 1,
   "metadata": {},
   "outputs": [
    {
     "name": "stdout",
     "output_type": "stream",
     "text": [
      "Enter the student number:1\n",
      "Enter the marks:10\n",
      "Enter the marks:20\n",
      "Enter the marks:30\n",
      "60\n",
      "Enter the student number:2\n",
      "Enter the marks:45\n",
      "Enter the marks:45\n",
      "Enter the marks:45\n",
      "135\n",
      "Enter the student number:3\n",
      "Enter the marks:30\n",
      "Enter the marks:80\n",
      "Enter the marks:90\n",
      "200\n"
     ]
    }
   ],
   "source": [
    "#Write your code\n",
    "total=0\n",
    "for i in range(3):\n",
    "    x=int(input(\"Enter the student number:\"))\n",
    "    for j in range(3):\n",
    "        y=int(input(\"Enter the marks:\"))\n",
    "        total=total+y\n",
    "    print(total)\n",
    "    total=0"
   ]
  },
  {
   "cell_type": "markdown",
   "metadata": {},
   "source": [
    "### 11 Write a program in Python to check whether the number input by the user is a prime number or not. A number is prime if it is divisible by 1 and itself.\n",
    "For example, 2,3,5,7,11…."
   ]
  },
  {
   "cell_type": "code",
   "execution_count": 4,
   "metadata": {
    "scrolled": true
   },
   "outputs": [
    {
     "name": "stdout",
     "output_type": "stream",
     "text": [
      "Enter a number:6\n",
      "6 is a composite number\n"
     ]
    }
   ],
   "source": [
    "#Write your code\n",
    "n=int(input(\"Enter a number:\"))\n",
    "count=0\n",
    "flag=True\n",
    "for i in range(2,n):\n",
    "    count=count+1\n",
    "    if(n%i==0):\n",
    "        flag=False\n",
    "if(flag):\n",
    "    print(n,\"is a prime number\")\n",
    "else:\n",
    "    print(n,\"is a composite number\")"
   ]
  },
  {
   "cell_type": "markdown",
   "metadata": {},
   "source": [
    "## Optional questions:"
   ]
  },
  {
   "cell_type": "markdown",
   "metadata": {},
   "source": [
    "### 12 Write a program in Python to find the sum of the series: 1+x+x2+x3+….upto n terms using a for loop. The integer values of x and n are to be entered by the user."
   ]
  },
  {
   "cell_type": "code",
   "execution_count": 25,
   "metadata": {},
   "outputs": [
    {
     "name": "stdout",
     "output_type": "stream",
     "text": [
      "Enter the value3\n",
      "Enter the limit3\n",
      "21\n"
     ]
    }
   ],
   "source": [
    "#Write your code\n",
    "total=0\n",
    "x=int(input(\"Enter the value\"))\n",
    "n=int(input(\"Enter the limit\"))\n",
    "for i in range(1,n+1):\n",
    "    total=total+(1+i*x)\n",
    "print(total)  \n",
    "total=0\n",
    "    "
   ]
  },
  {
   "cell_type": "markdown",
   "metadata": {},
   "source": [
    "### 13 Write a program in Python to print the square of 1st n natural numbers where n<10 using a for loop. The program should also print the sum of all squares."
   ]
  },
  {
   "cell_type": "code",
   "execution_count": 22,
   "metadata": {
    "scrolled": true
   },
   "outputs": [
    {
     "name": "stdout",
     "output_type": "stream",
     "text": [
      "1 4 9 16 25 36 49 64 81 \n",
      "total= 285\n"
     ]
    }
   ],
   "source": [
    "#Write your code\n",
    "total=0\n",
    "for n in range(1,10):\n",
    "    p=n*n\n",
    "    print(p,end=\" \")\n",
    "    total=total+p\n",
    "print(\"\\ntotal=\",total)    \n",
    "    "
   ]
  },
  {
   "cell_type": "markdown",
   "metadata": {},
   "source": [
    "### 14 Write a program in Python to print all factors of a number using a for loop."
   ]
  },
  {
   "cell_type": "code",
   "execution_count": 11,
   "metadata": {
    "scrolled": true
   },
   "outputs": [
    {
     "name": "stdout",
     "output_type": "stream",
     "text": [
      "Enter a number320\n",
      "The factors of 320 are:\n",
      "1\n",
      "2\n",
      "4\n",
      "5\n",
      "8\n",
      "10\n",
      "16\n",
      "20\n",
      "32\n",
      "40\n",
      "64\n",
      "80\n",
      "160\n",
      "320\n"
     ]
    }
   ],
   "source": [
    "#Write your code\n",
    "x=int(input(\"Enter a number\"))\n",
    "print(\"The factors of\",x,\"are:\")\n",
    "for i in range(1, x + 1):\n",
    "    if x % i == 0:\n",
    "        print(i)\n",
    "\n"
   ]
  },
  {
   "cell_type": "markdown",
   "metadata": {},
   "source": [
    "### 15 Write a program in Python to generate all prime numbers between m and n input by the user.\n",
    "m,n both are inclusive."
   ]
  },
  {
   "cell_type": "code",
   "execution_count": 6,
   "metadata": {},
   "outputs": [
    {
     "name": "stdout",
     "output_type": "stream",
     "text": [
      "Enter the starting point:21\n",
      "Enter the end point:100\n",
      "Prime numbers between 21 and 100 are:\n",
      "21\n",
      "23\n",
      "25\n",
      "27\n",
      "29\n",
      "31\n",
      "33\n",
      "35\n",
      "37\n",
      "39\n",
      "41\n",
      "43\n",
      "45\n",
      "47\n",
      "49\n",
      "51\n",
      "53\n",
      "55\n",
      "57\n",
      "59\n",
      "61\n",
      "63\n",
      "65\n",
      "67\n",
      "69\n",
      "71\n",
      "73\n",
      "75\n",
      "77\n",
      "79\n",
      "81\n",
      "83\n",
      "85\n",
      "87\n",
      "89\n",
      "91\n",
      "93\n",
      "95\n",
      "97\n",
      "99\n"
     ]
    }
   ],
   "source": [
    "#Write your code\n",
    "m=int(input(\"Enter the starting point:\"))\n",
    "n=int(input(\"Enter the end point:\"))\n",
    "print(\"Prime numbers between\",m,\"and\",n,\"are:\")\n",
    "\n",
    "for num in range(m,n):\n",
    "    for i in range(2,num):\n",
    "        if (num % i) == 0:\n",
    "            break\n",
    "        else:\n",
    "            print(num)\n",
    "            break"
   ]
  },
  {
   "cell_type": "markdown",
   "metadata": {},
   "source": [
    "### 16 Write a program in Python to evaluate following series using for loop:\n",
    "\n",
    "    x + 3x + 5x + 7x + 9x + 11x+....upto n terms"
   ]
  },
  {
   "cell_type": "code",
   "execution_count": 7,
   "metadata": {
    "scrolled": true
   },
   "outputs": [
    {
     "name": "stdout",
     "output_type": "stream",
     "text": [
      "Enter your number : 1\n",
      "Enter the number of terms: 3\n",
      "9\n"
     ]
    }
   ],
   "source": [
    "#Write your code\n",
    "x=int(input('Enter your number : '))\n",
    "n=int(input(\"Enter the number of terms: \"))\n",
    "c=1\n",
    "sum1=0\n",
    "for n in range(1,n+1):\n",
    "    sum1=sum1+(c*x)\n",
    "    c=c+2\n",
    "    n=n-1\n",
    "print(sum1)\n",
    "    \n",
    "\n",
    "    "
   ]
  },
  {
   "cell_type": "markdown",
   "metadata": {},
   "source": [
    "### 17 Write a program in Python to print out all Armstrong numbers between 1 and 500. \n",
    "Armstrong Number: If sum of cubes of each digit of the number is equal to the number itself, then the number is called an Armstrong number."
   ]
  },
  {
   "cell_type": "raw",
   "metadata": {},
   "source": [
    "For example, 153 = ( 1 * 1 * 1 ) + ( 5 * 5 * 5 ) + ( 3 * 3 * 3 )"
   ]
  },
  {
   "cell_type": "code",
   "execution_count": 4,
   "metadata": {},
   "outputs": [
    {
     "name": "stdout",
     "output_type": "stream",
     "text": [
      "1\n",
      "2\n",
      "3\n",
      "4\n",
      "5\n",
      "6\n",
      "7\n",
      "8\n",
      "9\n",
      "153\n",
      "370\n",
      "371\n",
      "407\n"
     ]
    }
   ],
   "source": [
    "for num in range(1,500):\n",
    "    sum=0\n",
    "    order = len(str(num))\n",
    "    temp = num\n",
    "    while temp > 0:\n",
    "        digit = temp % 10\n",
    "        sum += digit ** order\n",
    "        temp //= 10\n",
    "    if num == sum:\n",
    "        print(num)"
   ]
  },
  {
   "cell_type": "code",
   "execution_count": null,
   "metadata": {},
   "outputs": [],
   "source": []
  }
 ],
 "metadata": {
  "kernelspec": {
   "display_name": "Python 3",
   "language": "python",
   "name": "python3"
  },
  "language_info": {
   "codemirror_mode": {
    "name": "ipython",
    "version": 3
   },
   "file_extension": ".py",
   "mimetype": "text/x-python",
   "name": "python",
   "nbconvert_exporter": "python",
   "pygments_lexer": "ipython3",
   "version": "3.6.5"
  }
 },
 "nbformat": 4,
 "nbformat_minor": 2
}
