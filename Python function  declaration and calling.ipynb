{
 "cells": [
  {
   "cell_type": "markdown",
   "metadata": {},
   "source": [
    "# Python function  declaration and calling"
   ]
  },
  {
   "cell_type": "raw",
   "metadata": {},
   "source": [
    "Function is used for modularity in the program.\n",
    "\n",
    "def function_name(argument-1, argument-2,argument-3...):\n",
    "    function body\n",
    "    .\n",
    "    .\n",
    "    .\n",
    "    .\n",
    "    .\n",
    "    return var   #not compulsory\n",
    "#function call\n",
    "function_name(10,20,30)"
   ]
  },
  {
   "cell_type": "markdown",
   "metadata": {},
   "source": [
    "## Example: Write a program in python to add three numbers using function"
   ]
  },
  {
   "cell_type": "code",
   "execution_count": null,
   "metadata": {},
   "outputs": [],
   "source": [
    "#main program\n",
    "x=int(input(\"enter first number\"))\n",
    "y=int(input(\"enter second number\"))\n",
    "z=int(input(\"enter third number\"))\n",
    "\n",
    "#Function Body\n",
    "def add(a,b,c):\n",
    "    sum=a+b+c\n",
    "    return sum\n",
    "\n",
    "#Function Calling\n",
    "print(\"sum of three nubers is \", add(x,y,z))"
   ]
  },
  {
   "cell_type": "markdown",
   "metadata": {},
   "source": [
    " 1. Write a program in Python to swap two numbers using function."
   ]
  },
  {
   "cell_type": "code",
   "execution_count": 3,
   "metadata": {},
   "outputs": [
    {
     "name": "stdout",
     "output_type": "stream",
     "text": [
      "Enter first number:3\n",
      "Enter second number:4\n",
      "(4, 3)\n",
      "4 3\n"
     ]
    }
   ],
   "source": [
    "a=int(input(\"Enter first number:\"))\n",
    "b=int(input(\"Enter second number:\"))\n",
    "def swap(a,b):\n",
    "    a,b=b,a\n",
    "    return a,b\n",
    "print( swap(a,b))\n",
    "a,b=swap(a,b)\n",
    "print(a,b)\n",
    "\n",
    "    "
   ]
  },
  {
   "cell_type": "markdown",
   "metadata": {},
   "source": [
    "## 2. Write a program in Python to check a given number is even or odd using the function."
   ]
  },
  {
   "cell_type": "code",
   "execution_count": 4,
   "metadata": {},
   "outputs": [
    {
     "name": "stdout",
     "output_type": "stream",
     "text": [
      "Enter a number:4\n",
      "4 is an even number:\n"
     ]
    }
   ],
   "source": [
    "n=int(input(\"Enter a number:\"))\n",
    "def oddeven(n):\n",
    "    if(n%2==0):\n",
    "        print(n,\"is an even number:\")\n",
    "    else:\n",
    "        print(n,\"is an odd number:\")\n",
    "oddeven(n)"
   ]
  },
  {
   "cell_type": "markdown",
   "metadata": {},
   "source": [
    "## 3. Write a program in python to check wheather the given number is prime using function. Print the output outside the function."
   ]
  },
  {
   "cell_type": "code",
   "execution_count": 10,
   "metadata": {},
   "outputs": [
    {
     "name": "stdout",
     "output_type": "stream",
     "text": [
      "Enter a number:6\n",
      "6 is not a prime number\n"
     ]
    }
   ],
   "source": [
    "n=int(input(\"Enter a number:\"))\n",
    "count=0\n",
    "flag=True\n",
    "for i in range(2,n):\n",
    "    count=count+1\n",
    "    if(n%i==0):\n",
    "        flag=False\n",
    "if(flag):\n",
    "    print(n,\"is a prime number\")\n",
    "else:\n",
    "    print(n,\"is not a prime number\")\n"
   ]
  },
  {
   "cell_type": "markdown",
   "metadata": {},
   "source": [
    "## 4. Define a function of two variable 4x3+2y+7. and evaluate the function on points (10,-2)."
   ]
  },
  {
   "cell_type": "code",
   "execution_count": 5,
   "metadata": {},
   "outputs": [
    {
     "name": "stdout",
     "output_type": "stream",
     "text": [
      "Enter first number:10\n",
      "Enter second number-2\n"
     ]
    },
    {
     "data": {
      "text/plain": [
       "4003"
      ]
     },
     "execution_count": 5,
     "metadata": {},
     "output_type": "execute_result"
    }
   ],
   "source": [
    "x=int(input(\"Enter first number:\"))\n",
    "y=int(input(\"Enter second number\"))\n",
    "def func(x,y):\n",
    "    z=4*x**3+2*y+7\n",
    "    return z\n",
    "func(x,y)"
   ]
  },
  {
   "cell_type": "markdown",
   "metadata": {},
   "source": [
    "## 5. Write a program in Python to print the table of a given number using function and loop."
   ]
  },
  {
   "cell_type": "code",
   "execution_count": 2,
   "metadata": {},
   "outputs": [
    {
     "name": "stdout",
     "output_type": "stream",
     "text": [
      "Enter a number:7\n",
      "7 * 1 = 7\n",
      "7 * 2 = 14\n",
      "7 * 3 = 21\n",
      "7 * 4 = 28\n",
      "7 * 5 = 35\n",
      "7 * 6 = 42\n",
      "7 * 7 = 49\n",
      "7 * 8 = 56\n",
      "7 * 9 = 63\n",
      "7 * 10 = 70\n"
     ]
    },
    {
     "data": {
      "text/plain": [
       "70"
      ]
     },
     "execution_count": 2,
     "metadata": {},
     "output_type": "execute_result"
    }
   ],
   "source": [
    "n=int(input(\"Enter a number:\"))\n",
    "def table(n):\n",
    "    for i in range(1,11):\n",
    "        s=n*i\n",
    "        print(n,\"*\",i,\"=\",s)\n",
    "    return s\n",
    "table(n)"
   ]
  },
  {
   "cell_type": "markdown",
   "metadata": {},
   "source": [
    "## 6.  Write a program in Python to check whether a number entered by the users is an Armstrong number or not. 153 is an Armstrong number as 153 = pow(1,3)+pow(5,3)+pow(3,3), while 125 is not an Armstrong number because 125≠1**3+2**3+5**3. The program should allow the user to input any 5 numbers for testing using function. "
   ]
  },
  {
   "cell_type": "code",
   "execution_count": 5,
   "metadata": {},
   "outputs": [
    {
     "name": "stdout",
     "output_type": "stream",
     "text": [
      "enter your number :- 153\n",
      "the number is armstrong\n",
      "enter your number :- 206\n",
      "the number is not armstrong\n",
      "enter your number :- 334\n",
      "the number is not armstrong\n",
      "enter your number :- 576\n",
      "the number is not armstrong\n",
      "enter your number :- 443\n",
      "the number is not armstrong\n"
     ]
    }
   ],
   "source": [
    "def armstrong(n):\n",
    "    a=0\n",
    "    n1=n\n",
    "    while n>0:\n",
    "        dig=n%10\n",
    "        a=a+dig**3\n",
    "        n=n//10\n",
    "    if a==n1:\n",
    "        print('the number is armstrong')\n",
    "    else: print('the number is not armstrong')\n",
    "for i in range(5):\n",
    "    n=int(input('enter your number :- '))\n",
    "    armstrong(n)\n",
    "    \n",
    "    "
   ]
  },
  {
   "cell_type": "markdown",
   "metadata": {},
   "source": [
    "7.  Suppose there is an election in which there are 4 candidates with names “Lion King”, “King of the Ring”, “Lord of the Ring” and “Singh is King”. There are 20 people who are to vote for these 4 candidates. Write a program in Python to input the votes by 20 people and declare the result of the winner. If two candidates get draw, then perform a random voting in between two candidates."
   ]
  },
  {
   "cell_type": "code",
   "execution_count": 9,
   "metadata": {},
   "outputs": [
    {
     "name": "stdout",
     "output_type": "stream",
     "text": [
      "enter the vote : a\n",
      "enter the vote : a\n",
      "enter the vote : a\n",
      "enter the vote : a\n",
      "enter the vote : a\n",
      "enter the vote : a\n",
      "enter the vote : a\n",
      "enter the vote : a\n",
      "enter the vote : a\n",
      "enter the vote : \n",
      "invalid vote\n",
      "enter the vote : b\n",
      "enter the vote : b\n",
      "enter the vote : b\n",
      "enter the vote : bb\n",
      "invalid vote\n",
      "enter the vote : b\n",
      "enter the vote : b\n",
      "enter the vote : b\n",
      "enter the vote : bb\n",
      "invalid vote\n",
      "enter the vote : b\n",
      "enter the vote : b\n",
      "winner is a\n"
     ]
    }
   ],
   "source": [
    "#a=lion king\n",
    "#b=king of the ring\n",
    "#c=lord of the ring\n",
    "#d=singh the king\n",
    "def voting():\n",
    "    r=0\n",
    "    p=0\n",
    "    q=0\n",
    "    s=0\n",
    "    for x in range(20):\n",
    "        n=input(\"enter the vote : \")\n",
    "        if(n==\"a\"):\n",
    "            p=p+1\n",
    "        elif(n==\"b\"):\n",
    "            q=q+1\n",
    "        elif(n==\"c\"):\n",
    "            r=r+1\n",
    "        elif(n==\"d\"):\n",
    "            s=s+1\n",
    "        else:\n",
    "            print(\"invalid vote\")\n",
    "    if(p>q and p>r and p>s):\n",
    "        winner=\"a\"\n",
    "    elif(q>p and q>r and q>s):\n",
    "        winner=\"b\"\n",
    "    elif(r>p and q<r and r>s):\n",
    "        winner=\"a\"\n",
    "    elif(s>p and q<s and r<s):\n",
    "        winner=\"d\"\n",
    "    elif(p==q):\n",
    "        import random\n",
    "        y=random.randint(1,2)\n",
    "        if(y==1):\n",
    "            winner=\"a\"\n",
    "        else:\n",
    "            winner=\"b\"\n",
    "    elif(q==r):\n",
    "        import random\n",
    "        y=random.randint(1,2)\n",
    "        if(y==1):\n",
    "            winner=\"b\"\n",
    "        else:\n",
    "            winner=\"c\"\n",
    "    elif(r==s):\n",
    "        import random\n",
    "        y=random.randint(1,2)\n",
    "        if(y==1):\n",
    "            winner=\"c\"\n",
    "        else:\n",
    "            winner=\"d\"\n",
    "    elif(s==p):\n",
    "        import random\n",
    "        y=random.randint(1,2)\n",
    "        if(y==1):\n",
    "            winner=\"d\"\n",
    "        else:\n",
    "            winner=\"a\"\n",
    "    elif(p==r):\n",
    "        import random\n",
    "        y=random.randint(1,2)\n",
    "        if(y==1):\n",
    "            winner=\"a\"\n",
    "        else:\n",
    "            winner=\"c\"\n",
    "    else:\n",
    "        import random\n",
    "        y=random.randint(1,2)\n",
    "        if(y==1):\n",
    "            winner=\"b\"\n",
    "        else:\n",
    "            winner=\"d\"\n",
    "    return winner\n",
    "print(\"winner is\",voting())\n",
    "    \n"
   ]
  },
  {
   "cell_type": "markdown",
   "metadata": {},
   "source": [
    "## 8. Write a program which takes an integer from the user and checks if the number is a palindrome or not and return the true and false value."
   ]
  },
  {
   "cell_type": "code",
   "execution_count": 19,
   "metadata": {},
   "outputs": [
    {
     "name": "stdout",
     "output_type": "stream",
     "text": [
      "Enter any number :- 121\n",
      "Palindrome \n"
     ]
    }
   ],
   "source": [
    "n = int(input(\"Enter any number :- \"))\n",
    "def palindrome(n):\n",
    "    reverse = 0\n",
    "    temp = n\n",
    "\n",
    "    while (n!=0):\n",
    "        reverse = reverse * 10\n",
    "        reverse = reverse + n%10\n",
    "        n=n//10 \n",
    "    if(temp==reverse):\n",
    "        print (\"Palindrome \")\n",
    "    else:\n",
    "        print (\"Not a Palindrome\")\n",
    "palindrome(n)"
   ]
  },
  {
   "cell_type": "markdown",
   "metadata": {},
   "source": [
    " 9. Write a program to take the values of two integers m and n from the user and display and calculate the sum of even number between m and n (including both m and n). Please note that value of m must be less than value of n. "
   ]
  },
  {
   "cell_type": "code",
   "execution_count": 7,
   "metadata": {},
   "outputs": [
    {
     "name": "stdout",
     "output_type": "stream",
     "text": [
      "Enter the starting point:3\n",
      "Enter the end point:10\n",
      "4 + 6 + 8 + 10 + = 28\n"
     ]
    }
   ],
   "source": [
    "sum1=0\n",
    "m=int(input(\"Enter the starting point:\"))\n",
    "n=int(input(\"Enter the end point:\"))\n",
    "for i in range(m,n+1):\n",
    "    if(m<n and i%2==0):\n",
    "        sum1=sum1+i\n",
    "        print(i,\"+\",end=\" \")\n",
    "print(\"=\",sum1)\n",
    "        \n",
    "    "
   ]
  },
  {
   "cell_type": "markdown",
   "metadata": {},
   "source": [
    " 10. Write a program to accept characters till the user enters null and count the number of alphabets and digits entered by the user."
   ]
  },
  {
   "cell_type": "code",
   "execution_count": 2,
   "metadata": {},
   "outputs": [
    {
     "name": "stdout",
     "output_type": "stream",
     "text": [
      "Enter :- a\n",
      "Enter :- c\n",
      "Enter :- 1\n",
      "Enter :- 2\n",
      "Enter :- null\n",
      "2 2\n"
     ]
    }
   ],
   "source": [
    "def count():\n",
    "    ca=0\n",
    "    cd=0\n",
    "    while True:\n",
    "        i=input('Enter :- ')\n",
    "        if i==\"null\":\n",
    "            break\n",
    "        for j in i:\n",
    "            if j>='a' and j<='z':\n",
    "                ca+=1\n",
    "            elif j>='1' and j<='9':\n",
    "                cd+=1\n",
    "            elif j>='A' and j<=\"Z\":\n",
    "                ca+=1\n",
    "    print(ca,cd)\n",
    "count()\n",
    "            \n",
    "        "
   ]
  },
  {
   "cell_type": "markdown",
   "metadata": {},
   "source": [
    "## 11. Write a program to display the first n Fibonacci numbers. Value of n must be taken from the user using function"
   ]
  },
  {
   "cell_type": "code",
   "execution_count": 22,
   "metadata": {},
   "outputs": [
    {
     "name": "stdout",
     "output_type": "stream",
     "text": [
      "Enter a number:8\n",
      "0\n",
      "1\n",
      "1\n",
      "2\n",
      "3\n",
      "5\n",
      "8\n",
      "13\n",
      "21\n",
      "34\n"
     ]
    }
   ],
   "source": [
    "n=int(input(\"Enter a number:\"))\n",
    "def fibbo(n):\n",
    "    i=1\n",
    "    f=0\n",
    "    s=1\n",
    "    print(f)\n",
    "    print(s)\n",
    "    while (i<=n):\n",
    "        t=f+s\n",
    "        f=s\n",
    "        s=t\n",
    "        print(t)\n",
    "        i=i+1\n",
    "fibbo(n)"
   ]
  },
  {
   "cell_type": "markdown",
   "metadata": {},
   "source": [
    "## 12. Write a python program that calculates the average of a group of 4 test scores, where the lowwest score in the group should be dropped. your program should use the following user defined functions.\n",
    "### a.function avg that calculates and displays the average of three highest scores. This function should be called just one time by the main, and should be passed the four scores.\n",
    "### b. function find_lowest that finds and returns the lowest of the four scores passed to it. It should be called by avg, which uses the function to determine which of the four score to drop. "
   ]
  },
  {
   "cell_type": "code",
   "execution_count": 8,
   "metadata": {},
   "outputs": [
    {
     "name": "stdout",
     "output_type": "stream",
     "text": [
      "Enter Your Number 1 :- 1\n",
      "Enter Your Number 2 :- 2\n",
      "Enter Your Number 3 :- 3\n",
      "Enter Your Number 4 :- 4\n",
      "1 is the lowest\n",
      "3.3333333333333335\n"
     ]
    }
   ],
   "source": [
    "def find_lowest():\n",
    "    n1=int(input('Enter Your Number 1 :- '))\n",
    "    n2=int(input('Enter Your Number 2 :- '))\n",
    "    n3=int(input('Enter Your Number 3 :- '))\n",
    "    n4=int(input('Enter Your Number 4 :- '))\n",
    "    if n1<n2 and n1<n3 and n1<n4:\n",
    "        print(n1,'is the lowest')\n",
    "        n1=0\n",
    "    elif n2<n1 and n2<n3 and n2<n4:\n",
    "        print(n2,'is the lowest')\n",
    "        n2=0\n",
    "    elif n3<n1 and n3<n2 and n3<n4:\n",
    "        print(n3,'is the lowest')\n",
    "        n3=0\n",
    "    elif n4<n1 and n4<n2 and n4<n3:\n",
    "        print(n4,'is the lowest')\n",
    "        n4=0\n",
    "        \n",
    "    return(n1,n2,n3,n4)\n",
    "\n",
    "        \n",
    "    \n",
    "def avg():\n",
    "    z,x,c,v=find_lowest()\n",
    "    avg=((n1+n2+n3+n4)/3)\n",
    "    print(avg)\n",
    "\n",
    "avg()"
   ]
  },
  {
   "cell_type": "markdown",
   "metadata": {},
   "source": [
    "## 13. Write a python function for a scintific calculator that performs addition, subtraction, multiplication, division, modulus, sign, cos, tan, etc... "
   ]
  },
  {
   "cell_type": "code",
   "execution_count": 4,
   "metadata": {},
   "outputs": [
    {
     "name": "stdout",
     "output_type": "stream",
     "text": [
      "Enter an operator:%\n",
      "Enter your Number :- 2\n",
      "Enter your Number :- 3\n",
      "2\n"
     ]
    }
   ],
   "source": [
    "a=input(\"Enter an operator:\")\n",
    "def calc(a):\n",
    "    import math\n",
    "    n1=int(input('Enter your Number :- '))\n",
    "    n2=int(input('Enter your Number :- '))\n",
    "    if a=='+':\n",
    "        print(n1+n2)\n",
    "    elif a=='*':\n",
    "        print(n1*n2)\n",
    "    elif a=='/':\n",
    "        print(n1/n2)\n",
    "    elif a=='%':\n",
    "        print(n1%n2)\n",
    "    elif a=='-':\n",
    "        print(n1-n2)\n",
    "    elif a=='sin':\n",
    "        print(math.sin(n1))\n",
    "        print(math.sin(n2))\n",
    "    elif a=='cos':\n",
    "        print(math.cos(n1))\n",
    "        print(math.cos(n2))\n",
    "    elif a=='tan':\n",
    "        print(math.tan(n1))\n",
    "        print(math.tan(n2))\n",
    "calc(a)"
   ]
  },
  {
   "cell_type": "markdown",
   "metadata": {},
   "source": [
    "## 14. The total distance travelled by vehicle in ‘t’ seconds is given by distance = ut+1/2at2 where ‘u’ and ‘a’ are the initial velocity (m/sec.) and acceleration (m/sec2). Write a python program to find the distance travelled at regular intervals of time given the values of ‘u’ and ‘a’. The program should provide the flexibility to the user to select his own time intervals and repeat the calculations for different values of ‘u’ and ‘a’."
   ]
  },
  {
   "cell_type": "code",
   "execution_count": 5,
   "metadata": {},
   "outputs": [
    {
     "name": "stdout",
     "output_type": "stream",
     "text": [
      "distance traveled is : 21.0 m\n"
     ]
    }
   ],
   "source": [
    "def dist(t,a,u):\n",
    "        s=u*t+(1/2)*a*t**2\n",
    "        print(\"distance traveled is :\",s,'m')\n",
    "dist(3,2,4)\n"
   ]
  },
  {
   "cell_type": "code",
   "execution_count": null,
   "metadata": {},
   "outputs": [],
   "source": []
  }
 ],
 "metadata": {
  "kernelspec": {
   "display_name": "Python 3",
   "language": "python",
   "name": "python3"
  },
  "language_info": {
   "codemirror_mode": {
    "name": "ipython",
    "version": 3
   },
   "file_extension": ".py",
   "mimetype": "text/x-python",
   "name": "python",
   "nbconvert_exporter": "python",
   "pygments_lexer": "ipython3",
   "version": "3.6.5"
  }
 },
 "nbformat": 4,
 "nbformat_minor": 2
}
