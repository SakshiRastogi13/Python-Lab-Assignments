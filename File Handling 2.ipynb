{
 "cells": [
  {
   "cell_type": "markdown",
   "metadata": {},
   "source": [
    "# Write a program that accepts two files. The first file contains sentences and the second file contain a list\n",
    "of words (correct_spelled). Your program will take one sentence at a time then check each word in the\n",
    "sentence against all the words in the correct_spelled list and write correct sentence in a new file named\n",
    "as corrected_file file. Rules for correction are as follows:\n",
    " If a word in the original sentence matches exactly with a word in the correct_spelled then the\n",
    "word is not modified and it should be directly copied to the output file.\n",
    " if a word in the sentence can match a word in the correct_spelled list by replacing, inserting, or\n",
    "deleting a single character, then that word should be replaced by the correct word in the\n",
    "correct_spelled list.\n",
    " If neither of the two previous conditions is true, then the word in the original sentence should\n",
    "not be modified and should be directly copied to the corrected file. \n"
   ]
  },
  {
   "cell_type": "code",
   "execution_count": 6,
   "metadata": {},
   "outputs": [
    {
     "name": "stdout",
     "output_type": "stream",
     "text": [
      "\n",
      "correct word list:  ['that', 'first', 'case', 'car', 'programming', 'this', 'fun', 'easy', 'book', 'is', 'very', 'easy', 'we', ' love', ' in', ' python']\n",
      "\n",
      "original sentence :  thes is the firs cas\n",
      "corrected sentence is :  this is the first case\n",
      "\n",
      "original sentence :  programing is fan and eesy\n",
      "corrected sentence is :  programming is fun and easy\n",
      "\n",
      "original sentence :  thes is vary essy\n",
      "corrected sentence is :  this is very easy\n",
      "\n",
      "original sentence :  wee loe pythen\n",
      "corrected sentence is :  we love python\n"
     ]
    }
   ],
   "source": [
    "def single_insert_or_delete(a,b):\n",
    "    for i in range(len(a)):\n",
    "        if len(a)<=2:\n",
    "            continue\n",
    "        for j in range(len(b)):\n",
    "            if(a[i] == b[j]):\n",
    "                break\n",
    "            c=0\n",
    "            if(len(a[i]) == len(b[j])):\n",
    "                t1=a[i]\n",
    "                t2=b[j]\n",
    "                for k in range(len(t1)):\n",
    "                    if(t1[k]!= t2[k]):\n",
    "                        c+=1\n",
    "                        if(c>1):\n",
    "                            break\n",
    "                if (c == 1):\n",
    "                    a[i]= b[j]\n",
    "                    break\n",
    "            if(len(a[i]) == len(b[j])+1):\n",
    "                t1 = a[i]\n",
    "                t2= b[j]\n",
    "                for l in range(len(t2)):\n",
    "                    if(t2[l]==t1[l] or t2[l]==t1[l+1]):\n",
    "                        c+=1\n",
    "                if ( c==len(t2)):\n",
    "                    a[i]=b[j]\n",
    "                    break\n",
    "            if(len(b[j])==len(a[i])+1):\n",
    "                t1 = a[i]\n",
    "                t2 = b[j]\n",
    "                for m in range(len(t1)):\n",
    "                    if(t2[m]==t1[m] or t1[m]==t2[m+1]):\n",
    "                        c+=1\n",
    "                if(c==len(t1)):\n",
    "                    a[i]=b[j]\n",
    "                    break\n",
    "    return a                   \n",
    "                    \n",
    "correct=[]\n",
    "f1=open(\"original.txt\",'r').read().lower()\n",
    "f2=f1.split('.')\n",
    "wfile=open('Corrected_file.txt','w')\n",
    "f3=open(\"correct_spelled.txt\",'r').read().lower().split(',')\n",
    "print(\"\\ncorrect word list: \",f3)\n",
    "\n",
    "for c in f3:\n",
    "    c=c.strip()\n",
    "    correct.append(c.rstrip())\n",
    "for sentence in f2:\n",
    "    s=[]\n",
    "    sentence=sentence.strip()\n",
    "    for word in sentence.split():\n",
    "                s.append(word)\n",
    "    print(\"\\noriginal sentence : \",\" \".join(s))\n",
    "    correctedsentence=single_insert_or_delete(s,correct)\n",
    "    print(\"corrected sentence is : \",\" \".join(correctedsentence))\n",
    "    wfile.write(' '.join(correctedsentence)+\". \")\n",
    "\n",
    "wfile.close()\n",
    "\n"
   ]
  }
 ],
 "metadata": {
  "kernelspec": {
   "display_name": "Python 3",
   "language": "python",
   "name": "python3"
  },
  "language_info": {
   "codemirror_mode": {
    "name": "ipython",
    "version": 3
   },
   "file_extension": ".py",
   "mimetype": "text/x-python",
   "name": "python",
   "nbconvert_exporter": "python",
   "pygments_lexer": "ipython3",
   "version": "3.6.5"
  }
 },
 "nbformat": 4,
 "nbformat_minor": 2
}
