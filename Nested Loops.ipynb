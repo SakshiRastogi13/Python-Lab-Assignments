{
 "cells": [
  {
   "cell_type": "markdown",
   "metadata": {},
   "source": [
    "# Student Name: SAKSHI RASTOGI\n",
    "# Enrollment Number: E18CSE159\n",
    "# Lab assignemnt number: 8"
   ]
  },
  {
   "cell_type": "markdown",
   "metadata": {},
   "source": [
    "## Nested Loops"
   ]
  },
  {
   "cell_type": "markdown",
   "metadata": {},
   "source": [
    "### 1 Run the following program to see how many time outer and inner loop run."
   ]
  },
  {
   "cell_type": "code",
   "execution_count": 1,
   "metadata": {},
   "outputs": [
    {
     "name": "stdout",
     "output_type": "stream",
     "text": [
      "4 12\n"
     ]
    }
   ],
   "source": [
    "inner=0\n",
    "outer=0\n",
    "for i in range(1,5):\n",
    "    outer+=1\n",
    "    for j in range(1,4):\n",
    "        inner+=1\n",
    "print(outer,inner)\n"
   ]
  },
  {
   "cell_type": "markdown",
   "metadata": {},
   "source": [
    "### 2 Write a program in Python to print a square pattern using loop.\n",
    "    * * * * *\n",
    "    * * * * *\n",
    "    * * * * *\n",
    "    * * * * *\n",
    "    * * * * *"
   ]
  },
  {
   "cell_type": "code",
   "execution_count": 9,
   "metadata": {
    "scrolled": false
   },
   "outputs": [
    {
     "name": "stdout",
     "output_type": "stream",
     "text": [
      "* * * * * \n",
      "* * * * * \n",
      "* * * * * \n",
      "* * * * * \n",
      "* * * * * \n"
     ]
    }
   ],
   "source": [
    "#Write your code\n",
    "size = 5\n",
    "for i in range(size):\n",
    "    print ('* ' * size)"
   ]
  },
  {
   "cell_type": "markdown",
   "metadata": {},
   "source": [
    "### 3 Print the following output using a Python program:\n",
    "    5  4  3  2  1\n",
    "    5  4  3  2  1    \n",
    "    5  4  3  2  1\n",
    "    5  4  3  2  1 "
   ]
  },
  {
   "cell_type": "code",
   "execution_count": 16,
   "metadata": {
    "scrolled": false
   },
   "outputs": [
    {
     "name": "stdout",
     "output_type": "stream",
     "text": [
      "  \n",
      "5  4  3  2  1    \n",
      "5  4  3  2  1    \n",
      "5  4  3  2  1    \n",
      "5  4  3  2  1  "
     ]
    }
   ],
   "source": [
    "#Write your code\n",
    "size=5\n",
    "for j in range(1,5,1):\n",
    "    print(\"  \")\n",
    "    for i in range(size,0,-1):\n",
    "        print(i,end='  ')\n",
    "        \n",
    "\n",
    "\n",
    "        "
   ]
  },
  {
   "cell_type": "markdown",
   "metadata": {},
   "source": [
    "### 4 Write a program in Python to print following pattern using loop:\n",
    "    * \n",
    "    * * \n",
    "    * * * \n",
    "    * * * * \n",
    "    * * * * *"
   ]
  },
  {
   "cell_type": "code",
   "execution_count": 9,
   "metadata": {},
   "outputs": [
    {
     "name": "stdout",
     "output_type": "stream",
     "text": [
      "* \n",
      "* * \n",
      "* * * \n",
      "* * * * \n",
      "* * * * * \n"
     ]
    }
   ],
   "source": [
    "#Write your code\n",
    "for i in range(0, 5):\n",
    "    for j in range(0, i+1):\n",
    "        print(\"* \",end=\"\")\n",
    "    print()"
   ]
  },
  {
   "cell_type": "markdown",
   "metadata": {},
   "source": [
    "### 5 Write a program in Python to print following pattern using loop:\n",
    "    * * * * * \n",
    "      * * * * \n",
    "        * * * \n",
    "          * * \n",
    "            * "
   ]
  },
  {
   "cell_type": "code",
   "execution_count": 1,
   "metadata": {},
   "outputs": [
    {
     "name": "stdout",
     "output_type": "stream",
     "text": [
      "* * * * * \n",
      "  * * * * \n",
      "    * * * \n",
      "      * * \n",
      "        * \n",
      "          "
     ]
    }
   ],
   "source": [
    "#Write your code\n",
    "for i in range(5,0,-1):\n",
    "    for j in range(i):\n",
    "        print('*',end=\" \")\n",
    "    print()\n",
    "    for k in range(5-i+1):\n",
    "            print(\" \",end=\" \")\n",
    "    \n",
    "        \n"
   ]
  },
  {
   "cell_type": "markdown",
   "metadata": {},
   "source": [
    "### 6 Write a program in Python to print Floyd triangle for range entered by user.\n",
    "For example: range=4\n",
    "\n",
    "    1 \n",
    "    2 3 \n",
    "    4 5 6     \n",
    "    7 8 9 10"
   ]
  },
  {
   "cell_type": "code",
   "execution_count": 4,
   "metadata": {
    "scrolled": false
   },
   "outputs": [
    {
     "name": "stdout",
     "output_type": "stream",
     "text": [
      "Enter 'x' for exit.\n",
      "Upto how many line ? 4\n",
      "1 \n",
      "2 3 \n",
      "4 5 6 \n",
      "7 8 9 10 \n"
     ]
    }
   ],
   "source": [
    "#Write your code\n",
    "print(\"Enter 'x' for exit.\")\n",
    "ran = input(\"Upto how many line ? \")\n",
    "if ran == 'x':\n",
    "    exit();\n",
    "else:\n",
    "    rang = int(ran)\n",
    "    k = 1\n",
    "    for i in range(1, rang+1):\n",
    "        for j in range(1, i+1):\n",
    "            print(k, end=\" \")\n",
    "            k = k + 1\n",
    "        print()"
   ]
  },
  {
   "cell_type": "markdown",
   "metadata": {},
   "source": [
    "### 7 Write a program in Python to take 5 numbers from user and print their factors."
   ]
  },
  {
   "cell_type": "code",
   "execution_count": 4,
   "metadata": {
    "scrolled": false
   },
   "outputs": [
    {
     "name": "stdout",
     "output_type": "stream",
     "text": [
      "Enter Your Number :- 2\n",
      "1\n",
      "2\n",
      "Enter Your Number :- 6\n",
      "1\n",
      "2\n",
      "3\n",
      "6\n",
      "Enter Your Number :- 9\n",
      "1\n",
      "3\n",
      "9\n",
      "Enter Your Number :- 20\n",
      "1\n",
      "2\n",
      "4\n",
      "5\n",
      "10\n",
      "20\n",
      "Enter Your Number :- 40\n",
      "1\n",
      "2\n",
      "4\n",
      "5\n",
      "8\n",
      "10\n",
      "20\n",
      "40\n"
     ]
    }
   ],
   "source": [
    "#Write your code\n",
    "for i in range(1,6):\n",
    "    n=int(input('Enter Your Number :- '))\n",
    "    for j in range(1,n+1):\n",
    "        if n%j==0:\n",
    "            print(j)\n",
    "        else: continue\n",
    "    "
   ]
  },
  {
   "cell_type": "markdown",
   "metadata": {},
   "source": [
    " 8 Write a program in Python to print all prime numbers between 1 and 20."
   ]
  },
  {
   "cell_type": "code",
   "execution_count": 5,
   "metadata": {
    "scrolled": true
   },
   "outputs": [
    {
     "name": "stdout",
     "output_type": "stream",
     "text": [
      "Enter lower range: 1\n",
      "Enter upper range: 20\n",
      "Prime numbers between 1 and 20 are:\n",
      "2\n",
      "3\n",
      "5\n",
      "7\n",
      "11\n",
      "13\n",
      "17\n",
      "19\n"
     ]
    }
   ],
   "source": [
    "#Write your code\n",
    "lower = int(input(\"Enter lower range: \"))\n",
    "upper = int(input(\"Enter upper range: \"))\n",
    "\n",
    "print(\"Prime numbers between\",lower,\"and\",upper,\"are:\")\n",
    "\n",
    "for j in range(lower,upper + 1):\n",
    "   if j > 1:\n",
    "       for i in range(2,j):\n",
    "           if j % i == 0:\n",
    "               break\n",
    "       else:\n",
    "           print(j)\n"
   ]
  },
  {
   "cell_type": "markdown",
   "metadata": {},
   "source": [
    "### 9 Write a program in Python to input multiple number till enter -1 and print the digits of an each integer number in reverse order. The program should also print the count of digits. For example, if n=235, digits are 5,3 and 2. The count is 3."
   ]
  },
  {
   "cell_type": "code",
   "execution_count": 1,
   "metadata": {},
   "outputs": [
    {
     "name": "stdout",
     "output_type": "stream",
     "text": [
      "Enter :- 890987\n",
      "digits= 7\n",
      "digits= 8\n",
      "digits= 9\n",
      "digits= 0\n",
      "digits= 9\n",
      "digits= 8\n",
      "count= 6\n",
      "Enter :- 5643\n",
      "digits= 3\n",
      "digits= 4\n",
      "digits= 6\n",
      "digits= 5\n",
      "count= 4\n",
      "Enter :- 23345\n",
      "digits= 5\n",
      "digits= 4\n",
      "digits= 3\n",
      "digits= 3\n",
      "digits= 2\n",
      "count= 5\n",
      "Enter :- -1\n"
     ]
    }
   ],
   "source": [
    "#Write your code\n",
    "count=0\n",
    "for i in range(1,500):\n",
    "    n=int(input(\"Enter :- \"))\n",
    "    if n==-1:\n",
    "        break\n",
    "    while n>0:\n",
    "        dig=n%10\n",
    "        print('digits=',dig)\n",
    "        n=n//10\n",
    "        count+=1\n",
    "    print('count=',count)\n",
    "    count=0\n",
    "         "
   ]
  },
  {
   "cell_type": "markdown",
   "metadata": {},
   "source": [
    "### 10 Print the following output using a Python program:\n",
    "    1  2  3  4  5    \n",
    "    1  2  3  4  5    \n",
    "    1  2  3  4  5    \n",
    "    1  2  3  4  5"
   ]
  },
  {
   "cell_type": "code",
   "execution_count": 20,
   "metadata": {
    "scrolled": false
   },
   "outputs": [
    {
     "name": "stdout",
     "output_type": "stream",
     "text": [
      "  \n",
      "1  2  3  4  5    \n",
      "1  2  3  4  5    \n",
      "1  2  3  4  5    \n",
      "1  2  3  4  5  "
     ]
    }
   ],
   "source": [
    "#Write your code\n",
    "size=5\n",
    "for j in range(1,5,1):\n",
    "    print(\"  \")\n",
    "    for i in range(1,size+1,1):\n",
    "        print(i,end='  ')\n",
    "        \n",
    "\n"
   ]
  },
  {
   "cell_type": "markdown",
   "metadata": {},
   "source": [
    "## Optional Questions"
   ]
  },
  {
   "cell_type": "markdown",
   "metadata": {},
   "source": [
    "### 11 Write a program in Python to print tilted line of length entered by user:\n",
    "For len=3. Output should look like:\n",
    "\n",
    "    \\\n",
    "     \\\n",
    "      \\"
   ]
  },
  {
   "cell_type": "code",
   "execution_count": 22,
   "metadata": {
    "scrolled": true
   },
   "outputs": [
    {
     "name": "stdout",
     "output_type": "stream",
     "text": [
      "Enter the length:4\n",
      " \\ \n",
      "  \\ \n",
      "   \\ \n",
      "    \\ \n"
     ]
    }
   ],
   "source": [
    "#Write your code\n",
    "l=int(input(\"Enter the length:\"))\n",
    "for i in range(l):\n",
    "    print(i*\" \",\"\\ \")"
   ]
  },
  {
   "cell_type": "markdown",
   "metadata": {},
   "source": [
    "### 12 Write a program in Python to print following pattern using loop.\n",
    "\n",
    "             *\n",
    "           * *\n",
    "         * * *\n",
    "       * * * *\n",
    "     * * * * *"
   ]
  },
  {
   "cell_type": "code",
   "execution_count": 32,
   "metadata": {},
   "outputs": [
    {
     "name": "stdout",
     "output_type": "stream",
     "text": [
      "        * \n",
      "      * * \n",
      "    * * * \n",
      "  * * * * \n",
      "* * * * * \n"
     ]
    }
   ],
   "source": [
    "#Write your code\n",
    "k = 8\n",
    "for i in range(0, 5):\n",
    "    for j in range(0, k):\n",
    "        print(end=\" \")\n",
    "    k = k - 2\n",
    "    for j in range(0, i+1):\n",
    "        print(\"* \", end=\"\")\n",
    "    print()"
   ]
  },
  {
   "cell_type": "markdown",
   "metadata": {},
   "source": [
    "### 13 Write a program in Python to print following pattern using loop:\n",
    "    * * * * *\n",
    "    * * * *\n",
    "    * * *    \n",
    "    * *\n",
    "    * "
   ]
  },
  {
   "cell_type": "code",
   "execution_count": 24,
   "metadata": {
    "scrolled": false
   },
   "outputs": [
    {
     "name": "stdout",
     "output_type": "stream",
     "text": [
      "* * * * * \n",
      "* * * * \n",
      "* * * \n",
      "* * \n",
      "* \n"
     ]
    }
   ],
   "source": [
    "#Write your code\n",
    "for i in range(0,5,1):\n",
    "    for j in range(5,i,-1):\n",
    "        print(\"* \",end=\"\")\n",
    "    print()"
   ]
  },
  {
   "cell_type": "markdown",
   "metadata": {},
   "source": [
    "### 14 Write a program in Python to draw a pencil using loop.\n",
    "       * \n",
    "      * * \n",
    "     * * * \n",
    "    | | | |\n",
    "    | | | |\n",
    "    | | | |\n",
    "    | | | |\n",
    "    | | | |\n",
    "    | | | |"
   ]
  },
  {
   "cell_type": "code",
   "execution_count": 20,
   "metadata": {
    "scrolled": true
   },
   "outputs": [
    {
     "name": "stdout",
     "output_type": "stream",
     "text": [
      "   * \n",
      "  * * \n",
      " * * * \n",
      "| | | | \n",
      "| | | | \n",
      "| | | | \n",
      "| | | | \n",
      "| | | | \n",
      "| | | | \n"
     ]
    }
   ],
   "source": [
    "#Write your code\n",
    "size=4\n",
    "for j in range(1,4):\n",
    "    print((3-j)*\" \",(j)*\"* \")\n",
    "for i in range(1,7,1):\n",
    "    print(\"| \"*size)"
   ]
  },
  {
   "cell_type": "markdown",
   "metadata": {},
   "source": [
    "15 Write a program in Python to print XYZ pattern using loop."
   ]
  },
  {
   "cell_type": "code",
   "execution_count": 17,
   "metadata": {},
   "outputs": [
    {
     "name": "stdout",
     "output_type": "stream",
     "text": [
      "*   *\n",
      " * * \n",
      "  *  \n",
      " * * \n",
      "*   *\n"
     ]
    }
   ],
   "source": [
    "#Write your code\n",
    "a=0\n",
    "b=4\n",
    "for i in range(5):\n",
    "    for j in range(5):\n",
    "        if(i==a and j==b):\n",
    "            print(\"*\",end=\"\")\n",
    "            a=a+1\n",
    "            b=b-1\n",
    "        elif i==j:\n",
    "            print(\"*\",end=\"\")\n",
    "        else:\n",
    "            print(end=\" \")\n",
    "    print( )\n",
    "    "
   ]
  },
  {
   "cell_type": "code",
   "execution_count": null,
   "metadata": {},
   "outputs": [],
   "source": []
  }
 ],
 "metadata": {
  "kernelspec": {
   "display_name": "Python 3",
   "language": "python",
   "name": "python3"
  },
  "language_info": {
   "codemirror_mode": {
    "name": "ipython",
    "version": 3
   },
   "file_extension": ".py",
   "mimetype": "text/x-python",
   "name": "python",
   "nbconvert_exporter": "python",
   "pygments_lexer": "ipython3",
   "version": "3.6.5"
  }
 },
 "nbformat": 4,
 "nbformat_minor": 2
}
