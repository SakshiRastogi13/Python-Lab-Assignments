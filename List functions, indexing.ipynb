{
 "cells": [
  {
   "cell_type": "markdown",
   "metadata": {},
   "source": [
    "# Lists"
   ]
  },
  {
   "cell_type": "markdown",
   "metadata": {},
   "source": [
    "## Lists\n",
    "- A list is a collection of items, that is stored in a variable. \n",
    "- The items should be related in some way, but there are no restrictions on what can be stored in a list."
   ]
  },
  {
   "cell_type": "markdown",
   "metadata": {},
   "source": [
    "### Syntax\n",
    "list-name = [list of comma seperated values]"
   ]
  },
  {
   "cell_type": "markdown",
   "metadata": {},
   "source": [
    "### Slicing with list\n",
    "\n",
    "index start with 0\n",
    "\n",
    " listname[index_number]\n",
    "\n",
    " listname[start_index:end_index]\n",
    "\n",
    " listname[:end_index]\n",
    "\n",
    " listname[start_index:]\n",
    "\n",
    "\n",
    "negative index: \n",
    " listname[:-index] \n",
    "\n",
    "\n",
    "### list methods\n",
    "- append()\n",
    "- len()\n",
    "- insert(index,value)\n",
    "- sort()\n",
    "- reverse()\n",
    "- pop(), pop(index)\n",
    "- min(), max(), sum()\n",
    "\n",
    "\n",
    "We can change the contents of the lists after its creation\n",
    "\n",
    "listname[index]=newvalue"
   ]
  },
  {
   "cell_type": "markdown",
   "metadata": {},
   "source": [
    "#### Task 1: Run below code and try to make some changes to the code"
   ]
  },
  {
   "cell_type": "code",
   "execution_count": 2,
   "metadata": {},
   "outputs": [
    {
     "name": "stdout",
     "output_type": "stream",
     "text": [
      "['India', 'Australia', 'USA']\n",
      "Value at 2 index:  USA\n",
      "New value at index 1:  Canada\n",
      "['India', 'Canada', 'USA']\n"
     ]
    }
   ],
   "source": [
    "# list creation\n",
    "countries = ['India', 'Australia', 'USA']\n",
    "\n",
    "# print whole list\n",
    "print(countries)\n",
    "\n",
    "# Accessing list elements\n",
    "print(\"Value at 2 index: \",countries[2])\n",
    "\n",
    "# assignning new value to index\n",
    "countries[1]='Canada'\n",
    "\n",
    "print(\"New value at index 1: \",countries[1])\n",
    "print(countries)"
   ]
  },
  {
   "cell_type": "markdown",
   "metadata": {},
   "source": [
    "### Iterating lists"
   ]
  },
  {
   "cell_type": "markdown",
   "metadata": {},
   "source": [
    "#### Task 2: Run below code and try to make some changes to the code"
   ]
  },
  {
   "cell_type": "code",
   "execution_count": 6,
   "metadata": {
    "scrolled": true
   },
   "outputs": [
    {
     "name": "stdout",
     "output_type": "stream",
     "text": [
      "['My name is Sakshi Rastogi', 'I am in 3 semester', 'I study in Bennett University']\n",
      "My name is Sakshi Rastogi\n",
      "I am in 3 semester\n",
      "I study in Bennett University\n"
     ]
    }
   ],
   "source": [
    "\n",
    "hybridlists=['My name is Sakshi Rastogi',\n",
    "             'I am in 3 semester',\n",
    "             \"I study in Bennett University\"]\n",
    "\n",
    "print(hybridlists)\n",
    "\n",
    "# we can access the elements of list using loops\n",
    "\n",
    "for item in hybridlists:\n",
    "    print(item)"
   ]
  },
  {
   "cell_type": "markdown",
   "metadata": {},
   "source": [
    "#### Task 3: Run below code and try to make some changes to the code"
   ]
  },
  {
   "cell_type": "code",
   "execution_count": 13,
   "metadata": {
    "scrolled": false
   },
   "outputs": [
    {
     "name": "stdout",
     "output_type": "stream",
     "text": [
      "Index: 0, Value: India\n",
      "Index: 1, Value: Australia\n",
      "Index: 2, Value: Usa\n",
      "\n",
      " Index of India is:  0\n"
     ]
    }
   ],
   "source": [
    "# print the index number with value\n",
    "\n",
    "countries = ['India', 'Australia', 'USA']\n",
    "\n",
    "for index, country in enumerate(countries):\n",
    "    place = str(index)\n",
    "    print(\"Index: \" + place + \", Value: \" + country.title())\n",
    "    \n",
    "# find index of\n",
    "index = countries.index('India') \n",
    "print(\"\\n Index of India is: \",index)"
   ]
  },
  {
   "cell_type": "markdown",
   "metadata": {},
   "source": [
    "#### Task 4: Run below code and try to make some changes to the code"
   ]
  },
  {
   "cell_type": "code",
   "execution_count": 8,
   "metadata": {},
   "outputs": [
    {
     "name": "stdout",
     "output_type": "stream",
     "text": [
      "USA\n",
      "['India', 'Australia']\n",
      "0\n",
      "['India', 'Australia']\n"
     ]
    }
   ],
   "source": [
    "# Remove the last country from the list by index or by value\n",
    "countries=['India','Australia','USA']\n",
    "print(countries.pop())\n",
    "print(countries)\n",
    "print(countries.index('India'))\n",
    "print(countries)"
   ]
  },
  {
   "cell_type": "markdown",
   "metadata": {},
   "source": [
    "### List comprehension (with for loop)"
   ]
  },
  {
   "cell_type": "markdown",
   "metadata": {},
   "source": [
    "#### Task 5: Run below code and try to make some changes to the code"
   ]
  },
  {
   "cell_type": "code",
   "execution_count": 14,
   "metadata": {},
   "outputs": [
    {
     "name": "stdout",
     "output_type": "stream",
     "text": [
      "[1, 8, 27, 64, 125]\n"
     ]
    }
   ],
   "source": [
    "# without comprehension\n",
    "\n",
    "cubes = []\n",
    "for x in [1, 2, 3, 4, 5]:\n",
    "    cubes.append(x ** 3) \n",
    "    \n",
    "print(cubes)"
   ]
  },
  {
   "cell_type": "code",
   "execution_count": 15,
   "metadata": {},
   "outputs": [
    {
     "name": "stdout",
     "output_type": "stream",
     "text": [
      "[1, 8, 27, 64, 125]\n"
     ]
    }
   ],
   "source": [
    "# with comprehension\n",
    "  \n",
    "cubes= [x**3 for x in [1, 2, 3, 4, 5]]\n",
    "print(cubes)"
   ]
  },
  {
   "cell_type": "code",
   "execution_count": 16,
   "metadata": {},
   "outputs": [
    {
     "data": {
      "text/plain": [
       "[1, 2, 3, 4, 5, 6, 7, 8, 9, 10]"
      ]
     },
     "execution_count": 16,
     "metadata": {},
     "output_type": "execute_result"
    }
   ],
   "source": [
    "numbers=[1,2,3,4,5,6,7,8,9,10]\n",
    "list=[x for x in numbers]\n",
    "list"
   ]
  },
  {
   "cell_type": "markdown",
   "metadata": {},
   "source": [
    "#### Program 1: Write a python program which does the following\n",
    "- Make a list that includes four job types , such as 'programmer', 'truck driver' and so on\n",
    "- Use the *list.index()* function to find the index of one job type in your list.\n",
    "- Use the *in* function to show that this job type is in your list.\n",
    "- Use the *append()* function to add a new job type to your list.\n",
    "- Use the *insert()* function to add a new job type \"Python Programmer\" at the beginning of the list.\n",
    "- Use a loop to show all the job types in your list."
   ]
  },
  {
   "cell_type": "code",
   "execution_count": 70,
   "metadata": {},
   "outputs": [
    {
     "name": "stdout",
     "output_type": "stream",
     "text": [
      "1\n",
      "False\n",
      "['Programmer', 'Truck_driver', 'Food_seller', 'Doctor', 'Engineer']\n",
      "['Python Programmer', 'Programmer', 'Truck_driver', 'Food_seller', 'Doctor', 'Engineer']\n",
      "Python Programmer Programmer Truck_driver Food_seller Doctor Engineer "
     ]
    }
   ],
   "source": [
    "job_types=['Programmer','Truck_driver','Food_seller','Doctor']\n",
    "print(job_types.index(\"Truck_driver\"))\n",
    "print('Doct' in job_types)\n",
    "job_types.append(\"Engineer\")\n",
    "print(job_types)\n",
    "job_types.insert(0,\"Python Programmer\")\n",
    "print(job_types)\n",
    "for item in job_types:\n",
    "    print(item,end=\" \")"
   ]
  },
  {
   "cell_type": "markdown",
   "metadata": {},
   "source": [
    "#### Problem 2: Write a python program for following\n",
    "\n",
    "- Make a list that includes the names of five famous people.\n",
    "- Remove each person from the list, one at a time, using the four methods given below:\n",
    "    - Del item from the list by del: del listname[index]\n",
    "    - Remove the item from the list by remove method: listname.remove('itemname')\n",
    "    - Using pop() method, It removes the last item from the list: listname.pop() \n",
    "    - Pop any item from the list by index: listname: listname.pop(index)\n",
    "- Print out a message that there are no famous people left in your list, and print your list to prove that it is empty."
   ]
  },
  {
   "cell_type": "code",
   "execution_count": 56,
   "metadata": {},
   "outputs": [
    {
     "name": "stdout",
     "output_type": "stream",
     "text": [
      "['Deepika Padukone', 'Ruskin Bond', 'Narendra Modi']\n",
      "['Ruskin Bond', 'Narendra Modi']\n",
      "['Ruskin Bond']\n",
      "No famous people are left in my list\n",
      "[]\n"
     ]
    }
   ],
   "source": [
    "Famous_People=[\"Sachin Tendulkar\",\"Deepika Padukone\",\"Ruskin Bond\",\"Narendra Modi\"]\n",
    "del Famous_People[0]\n",
    "print(Famous_People)\n",
    "Famous_People.remove('Deepika Padukone')\n",
    "print(Famous_People)\n",
    "Famous_People.pop()\n",
    "print(Famous_People)\n",
    "Famous_People.pop(0)\n",
    "print(\"No famous people are left in my list\")\n",
    "print(Famous_People)"
   ]
  },
  {
   "cell_type": "code",
   "execution_count": null,
   "metadata": {},
   "outputs": [],
   "source": [
    "Program 3: Write a python program which does the following\n",
    "\n",
    "- Store the first ten letters of the alphabet in a list.\n",
    "- Use a slice to print out the first three letters of the alphabet.\n",
    "- Use a slice to print out any three letters from the middle of your list.\n",
    "- Use a slice to print out the letters from any point in the middle of your list, to the end.\n"
   ]
  },
  {
   "cell_type": "code",
   "execution_count": 62,
   "metadata": {},
   "outputs": [
    {
     "name": "stdout",
     "output_type": "stream",
     "text": [
      "['a', 'b', 'c']\n",
      "['e', 'f', 'g']\n",
      "['e', 'f', 'g', 'h', 'i', 'j']\n"
     ]
    }
   ],
   "source": [
    "Letters=['a','b','c','d','e','f','g','h','i','j']\n",
    "print(Letters[0:3])\n",
    "print(Letters[4:7])\n",
    "print(Letters[4:10])"
   ]
  },
  {
   "cell_type": "code",
   "execution_count": null,
   "metadata": {},
   "outputs": [],
   "source": [
    "Program 4: Write a python program for following\n",
    "\n",
    "- Your goal in this exercise is to prove that copying a list protects the original list.\n",
    "- Make a list with three people's names in it.\n",
    "- Use a slice to make a copy of the entire list.\n",
    "- Add at least two new names to the new copy of the list.\n",
    "- Make a loop that prints out all of the names in the original list, along with a message that this is the original list.\n",
    "- Make a loop that prints out all of the names in the copied list, along with a message that this is the copied list."
   ]
  },
  {
   "cell_type": "code",
   "execution_count": 86,
   "metadata": {},
   "outputs": [
    {
     "name": "stdout",
     "output_type": "stream",
     "text": [
      "['Sakshi', 'Sanjeev', 'Reena']\n",
      "['Sakshi', 'Sanjeev', 'Reena', 'Saksham', 'Shivani']\n",
      "Sakshi Sanjeev Reena Saksham Shivani is the original list \n",
      "Sakshi Sanjeev Reena Saksham Shivani is the copied list \n"
     ]
    }
   ],
   "source": [
    "People=['Sakshi','Sanjeev','Reena']\n",
    "print(People[0:3])\n",
    "People.extend(['Saksham','Shivani'])\n",
    "print(People)\n",
    "for item in People:\n",
    "    print(item,end=\" \")\n",
    "print(\"is the original list \")\n",
    "for item in People:\n",
    "    print(item,end=\" \")\n",
    "print(\"is the copied list \")"
   ]
  },
  {
   "cell_type": "markdown",
   "metadata": {},
   "source": [
    "#### Program 5: Write a python program for following\n",
    "\n",
    "- Create a list to store the marks of top 15 students obtained by the students in Python Quiz held on 21/08/2018. Maxmimum marks=15\n",
    "- Print the maximum marks obtained by the student from the list\n",
    "- Print the minimum marks obtained by the student\n",
    "- Find the sum of all the marks\n",
    "- Find the average of the marks\n",
    "- Reverse the original list and display using for loop\n"
   ]
  },
  {
   "cell_type": "code",
   "execution_count": 11,
   "metadata": {},
   "outputs": [
    {
     "name": "stdout",
     "output_type": "stream",
     "text": [
      "15\n",
      "1\n",
      "120\n",
      "8.0\n",
      "[1, 2, 3, 4, 5, 6, 7, 8, 9, 10, 11, 12, 13, 14, 15]\n",
      "[1, 2, 3, 4, 5, 6, 7, 8, 9, 10, 11, 12, 13, 14, 15]\n",
      "[1, 2, 3, 4, 5, 6, 7, 8, 9, 10, 11, 12, 13, 14, 15]\n",
      "[1, 2, 3, 4, 5, 6, 7, 8, 9, 10, 11, 12, 13, 14, 15]\n",
      "[1, 2, 3, 4, 5, 6, 7, 8, 9, 10, 11, 12, 13, 14, 15]\n",
      "[1, 2, 3, 4, 5, 6, 7, 8, 9, 10, 11, 12, 13, 14, 15]\n",
      "[1, 2, 3, 4, 5, 6, 7, 8, 9, 10, 11, 12, 13, 14, 15]\n",
      "[1, 2, 3, 4, 5, 6, 7, 8, 9, 10, 11, 12, 13, 14, 15]\n",
      "[1, 2, 3, 4, 5, 6, 7, 8, 9, 10, 11, 12, 13, 14, 15]\n",
      "[1, 2, 3, 4, 5, 6, 7, 8, 9, 10, 11, 12, 13, 14, 15]\n",
      "[1, 2, 3, 4, 5, 6, 7, 8, 9, 10, 11, 12, 13, 14, 15]\n",
      "[1, 2, 3, 4, 5, 6, 7, 8, 9, 10, 11, 12, 13, 14, 15]\n",
      "[1, 2, 3, 4, 5, 6, 7, 8, 9, 10, 11, 12, 13, 14, 15]\n",
      "[1, 2, 3, 4, 5, 6, 7, 8, 9, 10, 11, 12, 13, 14, 15]\n",
      "[1, 2, 3, 4, 5, 6, 7, 8, 9, 10, 11, 12, 13, 14, 15]\n"
     ]
    }
   ],
   "source": [
    "Marks=[1,2,3,4,5,6,7,8,9,10,11,12,13,14,15]\n",
    "print(max(Marks))\n",
    "print(min(Marks))\n",
    "print(sum(Marks))\n",
    "print(sum(Marks)/len(Marks))\n",
    "for items in Marks:\n",
    "    print(Marks)\n"
   ]
  },
  {
   "cell_type": "markdown",
   "metadata": {},
   "source": [
    "#### Program 6: Write a program in Python to create a list which contains n integers entered by the user and delete all odd numbers from the list. Example: If initial contents of the list is=[1,2,3,4,5,6,7,8,9,10], the output would be=[2,4,6,8,10]."
   ]
  },
  {
   "cell_type": "code",
   "execution_count": 1,
   "metadata": {},
   "outputs": [
    {
     "name": "stdout",
     "output_type": "stream",
     "text": [
      "Enter n:4\n",
      "Enter the values1\n",
      "Enter the values2\n",
      "Enter the values3\n",
      "Enter the values4\n",
      "[2, 4]\n"
     ]
    }
   ],
   "source": [
    "list=[]\n",
    "n=int(input(\"Enter n:\"))\n",
    "for i in range(n):\n",
    "    a=int(input(\"Enter the values\"))\n",
    "    list.append(a)\n",
    "    if(a%2!=0):\n",
    "        list.remove(a)\n",
    "print(list)"
   ]
  },
  {
   "cell_type": "markdown",
   "metadata": {},
   "source": [
    "## Optional Questions"
   ]
  },
  {
   "cell_type": "markdown",
   "metadata": {},
   "source": [
    "#### Program 7: Write a python program for following.\n",
    "- Create an initial empty list named \"countries\" \n",
    "- Read the names of n countries from the user and add them to country list:\n",
    "- Use for loop to display all the names of the countries from the list and add \"is Great\" after the country name if it is \"India\""
   ]
  },
  {
   "cell_type": "code",
   "execution_count": 14,
   "metadata": {},
   "outputs": [
    {
     "name": "stdout",
     "output_type": "stream",
     "text": [
      "Enter n:3\n",
      "Enter the names of countries:america\n",
      "america\n",
      "Enter the names of countries:india\n",
      "america\n",
      "india\n",
      "Enter the names of countries:london\n",
      "america\n",
      "india\n",
      "london\n"
     ]
    }
   ],
   "source": [
    "countries=[]\n",
    "n=int(input(\"Enter n:\"))\n",
    "for i in range(n):\n",
    "    a=input(\"Enter the names of countries:\")\n",
    "    countries.append(a)\n",
    "    if(a=='India'):\n",
    "        print(a,\"is Great\")\n",
    "    for item in countries:\n",
    "        print(item)"
   ]
  },
  {
   "cell_type": "markdown",
   "metadata": {},
   "source": [
    "### Program 8: Write a program in Python to create a list which contains n integers entered by the user and add 2 to each of the even numbers in the list. Example: If initial contents of the list is=[1,2,3,4,5,6,7,8,9,10], the output would be=[1,4,3,6,5,8,7,10,9,12]"
   ]
  },
  {
   "cell_type": "code",
   "execution_count": null,
   "metadata": {},
   "outputs": [],
   "source": [
    "List=[]\n",
    "n=int(input(\"Enter a number:\"))\n",
    "for i in range(n):\n",
    "    a=int(input(\"Enter a number:\"))\n",
    "    List.append(a+2)\n",
    "    if(a%2==0):\n",
    "        for a in range(len(List)):\n",
    "            List[a]=List[a]+2\n",
    "print(List)"
   ]
  },
  {
   "cell_type": "markdown",
   "metadata": {},
   "source": [
    "### Program 9: Write a Python program to find the list in a list of lists whose sum of elements is the highest.\n",
    "Sample lists: [[1,2,3], [4,5,6], [10,11,12], [7,8,9]]\n",
    "Expected Output: [10, 11, 12]"
   ]
  },
  {
   "cell_type": "code",
   "execution_count": 2,
   "metadata": {},
   "outputs": [
    {
     "name": "stdout",
     "output_type": "stream",
     "text": [
      "[10, 11, 12]\n"
     ]
    }
   ],
   "source": [
    "num = [[1,2,3], [4,5,6], [10,11,12], [7,8,9]]\n",
    "print(max(num,key=sum))\n"
   ]
  },
  {
   "cell_type": "markdown",
   "metadata": {},
   "source": [
    "#### Program 10: Write a python program which does the following\n",
    "\n",
    "- Make a list of the most important words you have learned in programming so far.\n",
    "- Make a corresponding list of definitions. Fill your list with 'definition'.\n",
    "- Use a for loop to print out each word and its corresponding definition.\n",
    "- Maintain this program until you get to the section on Python's Dictionaries."
   ]
  },
  {
   "cell_type": "code",
   "execution_count": null,
   "metadata": {},
   "outputs": [],
   "source": [
    "# start writing your code after this line"
   ]
  }
 ],
 "metadata": {
  "kernelspec": {
   "display_name": "Python 3",
   "language": "python",
   "name": "python3"
  },
  "language_info": {
   "codemirror_mode": {
    "name": "ipython",
    "version": 3
   },
   "file_extension": ".py",
   "mimetype": "text/x-python",
   "name": "python",
   "nbconvert_exporter": "python",
   "pygments_lexer": "ipython3",
   "version": "3.6.5"
  }
 },
 "nbformat": 4,
 "nbformat_minor": 2
}
