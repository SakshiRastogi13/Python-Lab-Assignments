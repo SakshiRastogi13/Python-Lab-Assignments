{
 "cells": [
  {
   "cell_type": "markdown",
   "metadata": {},
   "source": [
    "# Student Name: Sakshi Rastogi\n",
    "# Enrollment Number: E18CSE159\n",
    "# Lab assignemnt number: 7"
   ]
  },
  {
   "cell_type": "markdown",
   "metadata": {},
   "source": [
    "## Loops"
   ]
  },
  {
   "cell_type": "markdown",
   "metadata": {},
   "source": [
    "## Compulsary questions"
   ]
  },
  {
   "cell_type": "markdown",
   "metadata": {},
   "source": [
    "#### Syntax of \"for loop\""
   ]
  },
  {
   "cell_type": "raw",
   "metadata": {
    "collapsed": true
   },
   "source": [
    "for iterable_var_name in range(terminating_value):\n",
    "    stmt 1\n",
    "    stmt 2\n",
    "    ...\n",
    "    \n",
    " for iterable_var_name in range(initial_value,terminating_value):\n",
    "    stmt 1\n",
    "    stmt 2\n",
    "    ...\n",
    "    \n",
    " for iterable_var_name in range(initial_value,terminating_value,updation):\n",
    "    stmt 1\n",
    "    stmt 2\n",
    "    ..."
   ]
  },
  {
   "cell_type": "markdown",
   "metadata": {},
   "source": [
    "#### Syntax of \"while loop\""
   ]
  },
  {
   "cell_type": "raw",
   "metadata": {
    "collapsed": true
   },
   "source": [
    "initialization of loop variable\n",
    "while( condition ):\n",
    "    stmt 1\n",
    "    stmt 2\n",
    "    ...\n",
    "    update loop variable"
   ]
  },
  {
   "cell_type": "markdown",
   "metadata": {},
   "source": [
    "#### Syntax of using \"break\" in a loop"
   ]
  },
  {
   "cell_type": "raw",
   "metadata": {},
   "source": [
    "loop (for loop or while loop):\n",
    "    if(cond):\n",
    "        stmt\n",
    "        break\n",
    "    else:\n",
    "        stmt"
   ]
  },
  {
   "cell_type": "markdown",
   "metadata": {},
   "source": [
    "#### Syntax of using \"Continue\" in a loop"
   ]
  },
  {
   "cell_type": "raw",
   "metadata": {},
   "source": [
    "loop (for loop or while loop):\n",
    "    stmt                 #It will be printed always.\n",
    "    if(cond):\n",
    "        continue\n",
    "        stmt             #It will be not printed."
   ]
  },
  {
   "cell_type": "markdown",
   "metadata": {},
   "source": [
    "### 1 Write a program in Python to calculate and print the power m of a number n without using ** operator or pow (n, m) function"
   ]
  },
  {
   "cell_type": "code",
   "execution_count": 5,
   "metadata": {
    "scrolled": false
   },
   "outputs": [
    {
     "name": "stdout",
     "output_type": "stream",
     "text": [
      "Enter a number4\n",
      "Enter the power3\n",
      "64\n"
     ]
    }
   ],
   "source": [
    "#Write your code here\n",
    "n=int(input(\"Enter a number\"))\n",
    "m=int(input(\"Enter the power\"))\n",
    "i=1\n",
    "s=1\n",
    "while(i<=m):\n",
    "    s=s*n\n",
    "    i=i+1\n",
    "print(s)\n",
    "\n",
    "\n"
   ]
  },
  {
   "cell_type": "markdown",
   "metadata": {},
   "source": [
    " 2 Write a program in Python to input 8 numbers from user. It should find and print the smallest value among these."
   ]
  },
  {
   "cell_type": "code",
   "execution_count": 2,
   "metadata": {},
   "outputs": [
    {
     "name": "stdout",
     "output_type": "stream",
     "text": [
      "Enter a number:0\n",
      "Enter any number:-4\n",
      "Enter any number:-2\n",
      "Enter any number:4\n",
      "Enter any number:5\n",
      "Enter any number:6\n",
      "Enter any number:7\n",
      "Enter any number:8\n",
      "Enter any number:8\n",
      "The smallest number is -4\n"
     ]
    }
   ],
   "source": [
    "#Write your code here\n",
    "min1=int(input(\"Enter a number:\"))\n",
    "for i in range(1,9,1):\n",
    "    x=int(input(\"Enter any number:\"))\n",
    "    if(x<min1):\n",
    "        min1=x\n",
    "print(\"The smallest number is\",min1)\n"
   ]
  },
  {
   "cell_type": "markdown",
   "metadata": {},
   "source": [
    "3 Write a program in Python to print odd numbers from 1 to 10 except 7. (Hint: use continue statement)"
   ]
  },
  {
   "cell_type": "code",
   "execution_count": 4,
   "metadata": {},
   "outputs": [
    {
     "name": "stdout",
     "output_type": "stream",
     "text": [
      "1\n",
      "3\n",
      "5\n",
      "9\n",
      "\n"
     ]
    }
   ],
   "source": [
    "#Write your code here\n",
    "for i in range(1,11,2):\n",
    "    if(i==7):\n",
    "        continue\n",
    "    print(i)\n",
    "\n",
    "print()       \n",
    "        \n",
    "        \n"
   ]
  },
  {
   "cell_type": "markdown",
   "metadata": {},
   "source": [
    "### 4 Write a program in Python to calculate the sum of numbers in the range from m to n which are not divisible by 2 or 3 or 5. where m<n.\n"
   ]
  },
  {
   "cell_type": "code",
   "execution_count": 4,
   "metadata": {
    "scrolled": true
   },
   "outputs": [
    {
     "name": "stdout",
     "output_type": "stream",
     "text": [
      "Enter the starting point:1\n",
      "Enter the end point:10\n",
      "The sum of the numbers are: 8\n"
     ]
    }
   ],
   "source": [
    "#Write your code here\n",
    "total=0\n",
    "m=int(input(\"Enter the starting point:\"))\n",
    "n=int(input(\"Enter the end point:\"))\n",
    "for i in range(m,n+1):\n",
    "    if(i%2==0 or i%3==0 or i%5==0):\n",
    "        continue\n",
    "    else:    \n",
    "        total=total+i\n",
    "print(\"The sum of the numbers are:\",total)\n",
    "        \n",
    "    "
   ]
  },
  {
   "cell_type": "markdown",
   "metadata": {},
   "source": [
    " 5 Write a program in Python to calculate and print all factors of a number. And think for optimizing the program. (Hint: N/2 Times)"
   ]
  },
  {
   "cell_type": "code",
   "execution_count": null,
   "metadata": {
    "scrolled": true
   },
   "outputs": [
    {
     "name": "stdout",
     "output_type": "stream",
     "text": [
      "Enter a number:6\n",
      "1\n",
      "2\n",
      "3\n"
     ]
    }
   ],
   "source": [
    "#Write your code here\n",
    "n=int(input(\"Enter a number:\"))\n",
    "total=0\n",
    "i=1\n",
    "while(i<=n+1):\n",
    "    if(n%i==0):\n",
    "        print(i)\n",
    "        total=total+i\n",
    "        i=i+1\n",
    "print(total)\n",
    "        \n"
   ]
  },
  {
   "cell_type": "markdown",
   "metadata": {},
   "source": [
    "### 6 Write a program in Python to accept one string from user. The program should count and print the number of characters in the string using a for loop, without using inbulit functions."
   ]
  },
  {
   "cell_type": "code",
   "execution_count": 5,
   "metadata": {},
   "outputs": [
    {
     "name": "stdout",
     "output_type": "stream",
     "text": [
      "Enter a stringhello\n",
      "h\n",
      "e\n",
      "l\n",
      "l\n",
      "o\n",
      "number of characters= 5\n"
     ]
    }
   ],
   "source": [
    "#Write your code here\n",
    "x=input(\"Enter a string\")\n",
    "c=0\n",
    "for i in (x):\n",
    "    print(i)\n",
    "    c=c+1\n",
    "print(\"number of characters=\",c)"
   ]
  },
  {
   "cell_type": "markdown",
   "metadata": {},
   "source": [
    "### 7 Write a program in Python to input a sentence with digits also. The program should count the number of uppercase letters, lowercase letters and digits in the sentence."
   ]
  },
  {
   "cell_type": "code",
   "execution_count": 3,
   "metadata": {},
   "outputs": [
    {
     "name": "stdout",
     "output_type": "stream",
     "text": [
      "Enter a sentence:MyNameis123\n",
      "2\n",
      "6\n",
      "3\n"
     ]
    }
   ],
   "source": [
    "#Write your code here\n",
    "up=0\n",
    "lo=0\n",
    "dig=0\n",
    "x=input(\"Enter a sentence:\")\n",
    "for i in(x):\n",
    "    if(i>='A' and i<='Z'):\n",
    "        up=up+1\n",
    "    elif(i>='a' and i<='z'):\n",
    "        lo=lo+1\n",
    "    else:\n",
    "        dig=dig+1\n",
    "print(up)\n",
    "print(lo)\n",
    "print(dig)\n",
    "        \n"
   ]
  },
  {
   "cell_type": "markdown",
   "metadata": {},
   "source": [
    "### 8 Write a program in Python to accept a maximum 100 names from user. The user can enter 'stop' to exit the loop. The program should print the count of names entered by the user. "
   ]
  },
  {
   "cell_type": "code",
   "execution_count": 7,
   "metadata": {},
   "outputs": [
    {
     "name": "stdout",
     "output_type": "stream",
     "text": [
      "Enter a name:sakshi\n",
      "Enter a name:saksham\n",
      "Enter a name:stop\n",
      "2\n"
     ]
    }
   ],
   "source": [
    "#Write your code here\n",
    "i=1\n",
    "c=0\n",
    "while(i<=100):\n",
    "    x=input(\"Enter a name:\")\n",
    "    if(x=='stop'):\n",
    "        break\n",
    "    else:\n",
    "        c=c+1\n",
    "print(c)            \n",
    "            \n",
    "        "
   ]
  },
  {
   "cell_type": "markdown",
   "metadata": {},
   "source": [
    "###  9 Write a program in Python to generate and print Fibonacci series upto first 10 numbers. \n",
    "### The Fibonacci series is 0,1,1,2,3,5,8,13… where first term is 0, second term is 1 and the nth term t(n) = t (n-1) + t (n-2)."
   ]
  },
  {
   "cell_type": "code",
   "execution_count": 17,
   "metadata": {
    "scrolled": true
   },
   "outputs": [
    {
     "name": "stdout",
     "output_type": "stream",
     "text": [
      "0\n",
      "1\n",
      "1\n",
      "2\n",
      "3\n",
      "5\n",
      "8\n",
      "13\n",
      "21\n",
      "34\n"
     ]
    }
   ],
   "source": [
    "#Write your code here\n",
    "i=1\n",
    "f=0\n",
    "s=1\n",
    "print(f)\n",
    "print(s)\n",
    "while (i<=8):\n",
    "    t=f+s\n",
    "    f=s\n",
    "    s=t\n",
    "    print(t)\n",
    "    i=i+1"
   ]
  },
  {
   "cell_type": "markdown",
   "metadata": {},
   "source": [
    "10   Write a program in Python to generate a number whose triangular number is given.\n",
    "     If number is 4, then the triangular number would be 10 (i.e. 1+2+3+4). The program should return 'ERROR', if it is not a        triangular number."
   ]
  },
  {
   "cell_type": "code",
   "execution_count": 9,
   "metadata": {},
   "outputs": [
    {
     "name": "stdout",
     "output_type": "stream",
     "text": [
      "Enter a number:6\n",
      "The number is: 3\n"
     ]
    }
   ],
   "source": [
    "#Write your code here\n",
    "n=int(input(\"Enter a number:\"))\n",
    "s=0\n",
    "for i in range(1,n):\n",
    "    s=s+i\n",
    "    if(s==n):\n",
    "        print(\"The number is:\",i)\n",
    "        break\n",
    "    else:continue\n",
    "if(s!=n):\n",
    "    print(\"ERROR\")\n",
    "              \n",
    "\n",
    "\n",
    "\n"
   ]
  },
  {
   "cell_type": "markdown",
   "metadata": {},
   "source": [
    "### 11 Write a program in Python to read a password from the user. If the user types the correct password \"Success\", then display the message, \"Welcome!\". The user should be allowed to enter password only 3 times. If the password is not correct after 3 attempts, then display the message 'Blocked!'."
   ]
  },
  {
   "cell_type": "code",
   "execution_count": 11,
   "metadata": {},
   "outputs": [
    {
     "name": "stdout",
     "output_type": "stream",
     "text": [
      "Enter a password:print\n",
      "Enter a password:Execute\n",
      "Enter a password:Success\n",
      "Welcome\n"
     ]
    }
   ],
   "source": [
    "#Write your code here\n",
    "i=1\n",
    "for i in range(1,4):\n",
    "    x=input(\"Enter a password:\")\n",
    "    if(x=='Success'):\n",
    "        print(\"Welcome\")\n",
    "        break\n",
    "    \n",
    "    elif(i==3 and x!='Success'):\n",
    "        print(\"Blocked\")\n",
    "    i=i+1"
   ]
  },
  {
   "cell_type": "markdown",
   "metadata": {},
   "source": [
    "## Optional questions"
   ]
  },
  {
   "cell_type": "markdown",
   "metadata": {},
   "source": [
    "### 12 Write a program in Python to generate and print Fibonacci series upto n numbers where n is input by user."
   ]
  },
  {
   "cell_type": "code",
   "execution_count": 1,
   "metadata": {
    "scrolled": true
   },
   "outputs": [
    {
     "name": "stdout",
     "output_type": "stream",
     "text": [
      "Enter a limit:4\n",
      "1 2 6 24 "
     ]
    }
   ],
   "source": [
    "#Write your code here\n",
    "fact=1\n",
    "n=int(input(\"Enter a limit:\"))\n",
    "i=1\n",
    "while(i<=n):\n",
    "    fact=fact*i\n",
    "    print(fact,end=' ')\n",
    "    i=i+1"
   ]
  },
  {
   "cell_type": "markdown",
   "metadata": {},
   "source": [
    "### 13. Write a program in Python to check the validity of password input by users…….(complete details as given) \n",
    "Validation :\n",
    "\n",
    "At least 1 letter between [a-z] and 1 letter between [A-Z].\n",
    "\n",
    "At least 1 number between [0-9].\n",
    "\n",
    "At least 1 character from [$#@].\n",
    "\n",
    "Minimum length 6 characters.\n",
    "\n",
    "Maximum length 16 characters."
   ]
  },
  {
   "cell_type": "raw",
   "metadata": {},
   "source": [
    "Note: \n",
    "import re   #for searching a pattern in password\n",
    "len()          #For calculating length\n",
    "Example: re.search(\"[a-z]\",p) #to search weather word p has any character between a and z. "
   ]
  },
  {
   "cell_type": "code",
   "execution_count": 7,
   "metadata": {},
   "outputs": [
    {
     "name": "stdout",
     "output_type": "stream",
     "text": [
      "Input your password:Sakshi99@#\n",
      "Valid Password\n"
     ]
    }
   ],
   "source": [
    "#Write your code here\n",
    "import re\n",
    "p= input(\"Input your password:\")\n",
    "x = True\n",
    "while x:  \n",
    "    if (len(p)<6 or len(p)>12):\n",
    "        break\n",
    "    elif not re.search(\"[a-z]\",p):\n",
    "        break\n",
    "    elif not re.search(\"[0-9]\",p):\n",
    "        break\n",
    "    elif not re.search(\"[A-Z]\",p):\n",
    "        break\n",
    "    elif not re.search(\"[$#@]\",p):\n",
    "        break\n",
    "    elif re.search(\"\\s\",p):\n",
    "        break\n",
    "    else:\n",
    "        print(\"Valid Password\")\n",
    "        x=False\n",
    "        break\n",
    "\n",
    "if x:\n",
    "    print(\"Not a Valid Password\")"
   ]
  },
  {
   "cell_type": "markdown",
   "metadata": {},
   "source": [
    "### 14.  Write a program in Python to calculate the least common multiplier (LCM) of any two integer numbers.\n",
    "###  First number 24, Second number 36, LCM= 72"
   ]
  },
  {
   "cell_type": "code",
   "execution_count": 4,
   "metadata": {
    "scrolled": true
   },
   "outputs": [
    {
     "name": "stdout",
     "output_type": "stream",
     "text": [
      "Enter the first number:2\n",
      "Enter the second number:4\n",
      "LCM is: 4\n"
     ]
    }
   ],
   "source": [
    "#Write your code here\n",
    "a=int(input(\"Enter the first number:\"))\n",
    "b=int(input(\"Enter the second number:\"))\n",
    "if(a>b):\n",
    "    min1=a\n",
    "else:\n",
    "    min1=b\n",
    "while(1):\n",
    "    if(min1%a==0 and min1%b==0):\n",
    "        print(\"LCM is:\",min1)\n",
    "        break\n",
    "    min1=min1+1"
   ]
  },
  {
   "cell_type": "code",
   "execution_count": null,
   "metadata": {},
   "outputs": [],
   "source": []
  }
 ],
 "metadata": {
  "kernelspec": {
   "display_name": "Python 3",
   "language": "python",
   "name": "python3"
  },
  "language_info": {
   "codemirror_mode": {
    "name": "ipython",
    "version": 3
   },
   "file_extension": ".py",
   "mimetype": "text/x-python",
   "name": "python",
   "nbconvert_exporter": "python",
   "pygments_lexer": "ipython3",
   "version": "3.6.5"
  }
 },
 "nbformat": 4,
 "nbformat_minor": 2
}
