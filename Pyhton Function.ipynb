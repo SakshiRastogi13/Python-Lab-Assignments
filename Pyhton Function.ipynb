{
 "cells": [
  {
   "cell_type": "markdown",
   "metadata": {},
   "source": [
    "# Python function \n",
    "## Every solution should be done with the help of functions."
   ]
  },
  {
   "cell_type": "raw",
   "metadata": {},
   "source": [
    "Function is used for modularity in the program.\n",
    "\n",
    "def function_name(argument-1, argument-2,argument-3...):\n",
    "    function body\n",
    "    .\n",
    "    .\n",
    "    .\n",
    "    .\n",
    "    .\n",
    "    return var   \n",
    "#function call\n",
    "function_name(10,20,30)"
   ]
  },
  {
   "cell_type": "markdown",
   "metadata": {},
   "source": [
    "## 1. Write a program to compute gcd of two user input numbers."
   ]
  },
  {
   "cell_type": "code",
   "execution_count": 1,
   "metadata": {},
   "outputs": [
    {
     "name": "stdout",
     "output_type": "stream",
     "text": [
      "Enter first number 6\n",
      "Enter second number 9\n",
      "GCD 3\n"
     ]
    }
   ],
   "source": [
    "def gcd(a,b):\n",
    "    if(a>b):\n",
    "        m=a\n",
    "    else:\n",
    "        m=b\n",
    "    for i in range(1,m+1):\n",
    "        if(a%i==0 and b%i==0):\n",
    "            gcd=i\n",
    "    print(\"GCD\",gcd)\n",
    "x=int(input(\"Enter first number \"))\n",
    "y=int(input(\"Enter second number \"))\n",
    "gcd(x,y)"
   ]
  },
  {
   "cell_type": "markdown",
   "metadata": {},
   "source": [
    "## 2.Write a program to take an integer from the user and return reverse of the number.\n",
    "### (Example: I/P 123, O/P: 321) "
   ]
  },
  {
   "cell_type": "code",
   "execution_count": 2,
   "metadata": {},
   "outputs": [
    {
     "name": "stdout",
     "output_type": "stream",
     "text": [
      "Enter a number 446\n",
      "Reversed number is 644\n"
     ]
    }
   ],
   "source": [
    "def rev(x):\n",
    "    r=0\n",
    "    while(x>0):\n",
    "        d=x%10\n",
    "        r=r*10+d\n",
    "        x=x//10\n",
    "    print(\"Reversed number is\",r)\n",
    "n=int(input(\"Enter a number \"))\n",
    "rev(n)"
   ]
  },
  {
   "cell_type": "markdown",
   "metadata": {},
   "source": [
    "## 3. Write a program in Python to print prime numbers between 25 and 100 using function."
   ]
  },
  {
   "cell_type": "code",
   "execution_count": 3,
   "metadata": {},
   "outputs": [
    {
     "name": "stdout",
     "output_type": "stream",
     "text": [
      "29\n",
      "31\n",
      "37\n",
      "41\n",
      "43\n",
      "47\n",
      "53\n",
      "59\n",
      "61\n",
      "67\n",
      "71\n",
      "73\n",
      "79\n",
      "83\n",
      "89\n",
      "97\n"
     ]
    }
   ],
   "source": [
    "def prime():\n",
    "    for i in range(25,100):\n",
    "        x=i\n",
    "        f=0\n",
    "        for j in range(1,x+1):\n",
    "            if(x%j==0):\n",
    "                f=f+1\n",
    "        if(f==2):\n",
    "            print(x)\n",
    "prime()"
   ]
  },
  {
   "cell_type": "markdown",
   "metadata": {},
   "source": [
    "## 4. Define a Pyhton function pow1 that takes the values of two integers m and n from the user and calculate pow(m,n). Call this function with different values.\n",
    "### Do not use exponent operator (**) or pow()"
   ]
  },
  {
   "cell_type": "code",
   "execution_count": 4,
   "metadata": {},
   "outputs": [
    {
     "name": "stdout",
     "output_type": "stream",
     "text": [
      "Enter the range of values 2\n",
      "Enter a number 3\n",
      "Enter the power 4\n",
      "Power 81\n",
      "Enter a number 5\n",
      "Enter the power 2\n",
      "Power 25\n"
     ]
    }
   ],
   "source": [
    "def pow1(m,n):\n",
    "    p=1\n",
    "    for i in range(n):\n",
    "        p=p*m\n",
    "    print(\"Power\",p)\n",
    "nq=int(input(\"Enter the range of values \"))\n",
    "for i in range(nq):\n",
    "    a=int(input(\"Enter a number \"))\n",
    "    b=int(input(\"Enter the power \"))\n",
    "    pow1(a,b)"
   ]
  },
  {
   "cell_type": "markdown",
   "metadata": {},
   "source": [
    "## 5. Write a Python program to find the factorial of a number using a recursive function."
   ]
  },
  {
   "cell_type": "code",
   "execution_count": 5,
   "metadata": {},
   "outputs": [
    {
     "name": "stdout",
     "output_type": "stream",
     "text": [
      "Enter the number 3\n"
     ]
    },
    {
     "data": {
      "text/plain": [
       "6"
      ]
     },
     "execution_count": 5,
     "metadata": {},
     "output_type": "execute_result"
    }
   ],
   "source": [
    "def fact(x):\n",
    "    if(x>1):\n",
    "        return (x*fact(x-1))\n",
    "    else:\n",
    "        return 1\n",
    "n=int(input(\"Enter the number \"))\n",
    "fact(n)"
   ]
  },
  {
   "cell_type": "markdown",
   "metadata": {},
   "source": [
    "## 6. Design and develop a python function RightShift(x ,n) that takes two integers x and n as input and returns value of the integer x shifted to the right by n positions. Assume the integers are unsigned. \n",
    "### Write a Python program that invokes this function with multiple values for x and n and tabulate the results with suitable headings withour using right shift operator."
   ]
  },
  {
   "cell_type": "code",
   "execution_count": 6,
   "metadata": {},
   "outputs": [
    {
     "name": "stdout",
     "output_type": "stream",
     "text": [
      "Enter the range 2\n",
      "Enter a number 5\n",
      "Enter the amount to be shifted 2\n",
      "1\n",
      "Enter a number 6\n",
      "Enter the amount to be shifted 3\n",
      "0\n"
     ]
    }
   ],
   "source": [
    "def RightShift(x,n):\n",
    "    val=0\n",
    "    po=1\n",
    "    for j in range(n):\n",
    "        po=po*2\n",
    "    val=x//po\n",
    "    print(val)\n",
    "r=int(input(\"Enter the range \"))\n",
    "for i in range(r):\n",
    "    n=int(input(\"Enter a number \"))\n",
    "    p=int(input(\"Enter the amount to be shifted \"))\n",
    "    RightShift(n,p)"
   ]
  },
  {
   "cell_type": "markdown",
   "metadata": {},
   "source": [
    "## 7.  Write a program in python to find the sum of the series 1!/1+2!/2+3!/3+4!/4+5!/5 using the function. "
   ]
  },
  {
   "cell_type": "code",
   "execution_count": 7,
   "metadata": {},
   "outputs": [
    {
     "name": "stdout",
     "output_type": "stream",
     "text": [
      "Sum of series is 34.0\n"
     ]
    }
   ],
   "source": [
    "def sos():\n",
    "    s=0\n",
    "    for i in range(1,6):\n",
    "        s=s+(fact(i)/i)\n",
    "    print(\"Sum of series is\",s)\n",
    "def fact(x):\n",
    "    f=1\n",
    "    for i in range(1,x+1):\n",
    "        f=f*i\n",
    "    return f\n",
    "sos()"
   ]
  },
  {
   "cell_type": "markdown",
   "metadata": {},
   "source": [
    "## 8. Define a function to print nth term in Fibonacci series using recursion. Call this function with different values."
   ]
  },
  {
   "cell_type": "code",
   "execution_count": 9,
   "metadata": {},
   "outputs": [
    {
     "name": "stdout",
     "output_type": "stream",
     "text": [
      "Enter the nth term 4\n"
     ]
    },
    {
     "data": {
      "text/plain": [
       "2"
      ]
     },
     "execution_count": 9,
     "metadata": {},
     "output_type": "execute_result"
    }
   ],
   "source": [
    "def fibo(x):\n",
    "    if(x==1):\n",
    "        return 0\n",
    "    elif(x==2):\n",
    "        return 1\n",
    "    else:\n",
    "        return fibo(x-1)+fibo(x-2)\n",
    "n=int(input(\"Enter the nth term \"))\n",
    "fibo(n)"
   ]
  },
  {
   "cell_type": "markdown",
   "metadata": {},
   "source": [
    "## 9. Define a python function to convert a decimal number to its equivalent octal number without using inbuilt functions. Call this function with different values."
   ]
  },
  {
   "cell_type": "code",
   "execution_count": 10,
   "metadata": {},
   "outputs": [
    {
     "name": "stdout",
     "output_type": "stream",
     "text": [
      "Enter a number 45\n",
      "Octal Equivalent 55\n"
     ]
    }
   ],
   "source": [
    "def octal(x):\n",
    "    o=\"\"\n",
    "    while(x>0):\n",
    "        d=str(x%8)\n",
    "        o=d+o\n",
    "        x=x//8\n",
    "    print(\"Octal Equivalent \"+o)\n",
    "n=int(input(\"Enter a number \"))\n",
    "octal(n)"
   ]
  },
  {
   "cell_type": "markdown",
   "metadata": {},
   "source": [
    "## 10. Write a python function to Check whether a number can be expressed as the sum of two prime number. For example, 20 can be written as sum of 7 and 13. 29 cannot be written as sum of 2 prime numbers"
   ]
  },
  {
   "cell_type": "code",
   "execution_count": 11,
   "metadata": {},
   "outputs": [
    {
     "name": "stdout",
     "output_type": "stream",
     "text": [
      "Enter the number 7\n",
      "2 + 5 = 7\n"
     ]
    }
   ],
   "source": [
    "def sop(x):\n",
    "    f=0\n",
    "    p1=0\n",
    "    p2=0\n",
    "    for i in range(1,(x//2)):\n",
    "        f=0\n",
    "        t=i\n",
    "        for j in range(1,t+1):\n",
    "            if(t%j==0):\n",
    "                f=f+1\n",
    "        if(f==2):\n",
    "            p1=t\n",
    "        else:\n",
    "            continue\n",
    "        for k in range(1,x+1):\n",
    "            f=0\n",
    "            z=k\n",
    "            for l in range(1,z+1):\n",
    "                if(z%l==0):\n",
    "                    f=f+1\n",
    "            if(f==2):\n",
    "                p2=z\n",
    "            else:\n",
    "                continue\n",
    "            if((p1+p2)==x):\n",
    "                print(p1,\"+\",p2,\"=\",x)\n",
    "n=int(input(\"Enter the number \"))\n",
    "sop(n)"
   ]
  },
  {
   "cell_type": "markdown",
   "metadata": {},
   "source": [
    "# Optional Questions"
   ]
  },
  {
   "cell_type": "markdown",
   "metadata": {},
   "source": [
    "## 11. Write two python function to Convert octal Number to decimal without using inbuilt functions."
   ]
  },
  {
   "cell_type": "code",
   "execution_count": 12,
   "metadata": {},
   "outputs": [
    {
     "name": "stdout",
     "output_type": "stream",
     "text": [
      "Enter a number in octal 18\n",
      "Decimal Equivalent 16\n"
     ]
    }
   ],
   "source": [
    "def deci(x):\n",
    "    de=0\n",
    "    c=0\n",
    "    while(x!=0):\n",
    "        d=x%10\n",
    "        de=de+(d*pow1(8,c))\n",
    "        c=c+1\n",
    "        x=x//10\n",
    "    print(\"Decimal Equivalent\",de)\n",
    "def pow1(x,y):\n",
    "    p=1\n",
    "    for i in range(y):\n",
    "        p=p*x\n",
    "    return p\n",
    "n=int(input(\"Enter a number in octal \"))\n",
    "deci(n)"
   ]
  },
  {
   "cell_type": "markdown",
   "metadata": {},
   "source": [
    "## 12.  Write a program in Python to check whether two given strings are an anagram. \n",
    "### An anagram of a string is another string that contains same characters, only the order of characters can be different. For example, “abcd” and “dabc” are anagram of each other."
   ]
  },
  {
   "cell_type": "code",
   "execution_count": 13,
   "metadata": {},
   "outputs": [
    {
     "name": "stdout",
     "output_type": "stream",
     "text": [
      "Enter a string abcd\n",
      "Enter another string dcba\n",
      "They are anagrams\n"
     ]
    }
   ],
   "source": [
    "def anagram(x,y):\n",
    "    c=0\n",
    "    if(len(x)!=len(y)):\n",
    "        print(\"They are not anagrams\")\n",
    "    else:\n",
    "        for i in x:\n",
    "            for j in y:\n",
    "                if(i==j):\n",
    "                    c=c+1\n",
    "        if(c==len(x)):\n",
    "            print(\"They are anagrams\")\n",
    "        else:\n",
    "            print(\"They are not anagrams\")\n",
    "s=input(\"Enter a string \")\n",
    "t=input(\"Enter another string \")\n",
    "anagram(s,t)"
   ]
  },
  {
   "cell_type": "markdown",
   "metadata": {},
   "source": [
    "## 13. Write a python program that calculates the bill  for a customer purchase in a store. in this store the item_id range from 1 to 100. These items are organised in a way that the items with item_id less than 50 are on sale (10 %) and item_id range from 50-80 are on sale (25 %) and the rest items are on the sale of 40 %.\n",
    "### Your program has a function call (saleprice) that receives the itme_id, and its price, and  it returns the current price after sale for current item, and it prints the number of items purchased so far.\n",
    "### In your main, you should read item id and call saleprice function for each item. your program should continue to nread item_id till the end of purchase. entering 0 will indicate the end of purchase. At the end your program should print the total amount of bill. "
   ]
  },
  {
   "cell_type": "code",
   "execution_count": 15,
   "metadata": {},
   "outputs": [
    {
     "name": "stdout",
     "output_type": "stream",
     "text": [
      "Enter the item id 4\n",
      "Enter the price of the item 55\n",
      "Number of items purchased so far 1\n",
      "Enter the item id 34\n",
      "Enter the price of the item 60\n",
      "Number of items purchased so far 2\n",
      "Enter the item id 90\n",
      "Enter the price of the item 120\n",
      "Number of items purchased so far 3\n",
      "Enter the item id 23\n",
      "Enter the price of the item 35\n",
      "Number of items purchased so far 4\n",
      "Enter the item id 0\n",
      "Total amount of bill 207.0\n"
     ]
    }
   ],
   "source": [
    "def saleprice(x,y):\n",
    "    global c\n",
    "    if(x<50):\n",
    "        asp=y-(0.1*y)\n",
    "    elif(x>=50 and x<=80):\n",
    "        asp=y-(0.25*y)\n",
    "    else:\n",
    "        asp=y-(0.4*y)\n",
    "    print(\"Number of items purchased so far\",c)\n",
    "    return asp\n",
    "bill=0\n",
    "c=0\n",
    "for i in range(100):\n",
    "    item_id=int(input(\"Enter the item id \"))\n",
    "    if(item_id==0):\n",
    "        break\n",
    "    price=int(input(\"Enter the price of the item \"))\n",
    "    c=c+1\n",
    "    bill=bill+saleprice(item_id,price)\n",
    "print(\"Total amount of bill\",bill)"
   ]
  },
  {
   "cell_type": "markdown",
   "metadata": {},
   "source": [
    "## 14.We add a Leap Day on February 29, almost every four years. The leap day is an extra, or intercalary day and we add it to the shortest month of the year, February. \n",
    "## In the Gregorian calendar three criteria must be taken into account to identify leap years:\n",
    "\n",
    "### The year can be evenly divided by 4, is a leap year, unless:\n",
    "### The year can be evenly divided by 100, it is NOT a leap year, unless:\n",
    "### The year is also evenly divisible by 400. Then it is a leap year.\n",
    "### This means that in the Gregorian calendar, the years 2000 and 2400 are leap years, while 1800, 1900, 2100, 2200, 2300 and 2500 are NOT leap years.\n",
    "\n",
    "## Sample Input\n",
    "### 1990\n",
    "\n",
    "## Sample Output\n",
    "### False\n",
    "\n",
    "## Sample Input\n",
    "### 1600\n",
    "\n",
    "## Sample Output\n",
    "### True"
   ]
  },
  {
   "cell_type": "code",
   "execution_count": 16,
   "metadata": {},
   "outputs": [
    {
     "name": "stdout",
     "output_type": "stream",
     "text": [
      "Enter a year 1990\n",
      "False\n",
      "Enter a year 1600\n",
      "True\n",
      "Enter a year 1300\n",
      "False\n"
     ]
    }
   ],
   "source": [
    "def leap(x):\n",
    "    if(x%4==0):\n",
    "        if(x%100==0):\n",
    "            if(x%400==0):\n",
    "                print(\"True\")\n",
    "            else:\n",
    "                print(\"False\")\n",
    "        else:\n",
    "            print(\"True\")\n",
    "    else:\n",
    "        print(\"False\")\n",
    "for i in range(3):\n",
    "    n=int(input(\"Enter a year \"))\n",
    "    leap(n)"
   ]
  },
  {
   "cell_type": "code",
   "execution_count": null,
   "metadata": {},
   "outputs": [],
   "source": []
  }
 ],
 "metadata": {
  "kernelspec": {
   "display_name": "Python 3",
   "language": "python",
   "name": "python3"
  },
  "language_info": {
   "codemirror_mode": {
    "name": "ipython",
    "version": 3
   },
   "file_extension": ".py",
   "mimetype": "text/x-python",
   "name": "python",
   "nbconvert_exporter": "python",
   "pygments_lexer": "ipython3",
   "version": "3.6.5"
  }
 },
 "nbformat": 4,
 "nbformat_minor": 2
}
