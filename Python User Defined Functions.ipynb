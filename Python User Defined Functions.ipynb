{
 "cells": [
  {
   "cell_type": "markdown",
   "metadata": {},
   "source": [
    "# Name: Sakshi Rastogi\n",
    "# Enrollment ID: E18CSE159"
   ]
  },
  {
   "cell_type": "markdown",
   "metadata": {},
   "source": [
    "## All code should be done using Functions and parameters should be user defined!! \n",
    "## Input cases for program at least two."
   ]
  },
  {
   "cell_type": "markdown",
   "metadata": {},
   "source": [
    "## Function with arguments\n",
    "### Write a program in Python to convert time into minutes using function. "
   ]
  },
  {
   "cell_type": "code",
   "execution_count": 1,
   "metadata": {},
   "outputs": [
    {
     "name": "stdout",
     "output_type": "stream",
     "text": [
      "Enter hours: 3\n",
      "Enter minutes: 2\n"
     ]
    },
    {
     "data": {
      "text/plain": [
       "182"
      ]
     },
     "execution_count": 1,
     "metadata": {},
     "output_type": "execute_result"
    }
   ],
   "source": [
    "#input Hours and minutes from user\n",
    "h=int(input(\"Enter hours: \"))\n",
    "m=int(input(\"Enter minutes: \"))\n",
    "#function definition\n",
    "def convert(hrs, minute):\n",
    "    #write your code here\n",
    "    time=hrs*60+minute\n",
    "    return time\n",
    "\n",
    "#function calling\n",
    "convert(h,m)\n"
   ]
  },
  {
   "cell_type": "markdown",
   "metadata": {},
   "source": [
    "### Write a prgram to calculate simple interest. If customer is a senior citizen, he is offered 12 percent rate of interest. For all other customers, rate of interest is 10 percent. Use a function which accepts principle amount, time in years and yes or no for senior citizen (Boolean)."
   ]
  },
  {
   "cell_type": "code",
   "execution_count": 4,
   "metadata": {},
   "outputs": [
    {
     "name": "stdout",
     "output_type": "stream",
     "text": [
      "Enter principle amount: 3000\n",
      "Enter time: 2\n",
      "Senior: Yes or No? Yes\n"
     ]
    }
   ],
   "source": [
    "def interest(principle, year, senior):\n",
    "    #write your code here\n",
    "    if(senior==\"Yes\"):\n",
    "        simpleinterest=12*principle*year\n",
    "    else:\n",
    "        simpleinterest=10*principle*year\n",
    "        \n",
    "p=int(input(\"Enter principle amount: \"))\n",
    "y=int(input(\"Enter time: \"))\n",
    "s=input(\"Senior: Yes or No? \")"
   ]
  },
  {
   "cell_type": "markdown",
   "metadata": {},
   "source": [
    "# Function with no argument \n",
    "### Write a program in Python to print the current date and time using function showtime(). \n",
    "## Use import datetime and datetime.datetime.now() to print the current date and time. "
   ]
  },
  {
   "cell_type": "code",
   "execution_count": 5,
   "metadata": {},
   "outputs": [
    {
     "name": "stdout",
     "output_type": "stream",
     "text": [
      "2018-09-13 23:55:43.442716\n"
     ]
    }
   ],
   "source": [
    "import datetime\n",
    "\n",
    "def showtime():\n",
    "    print(datetime.datetime.now())\n",
    "    #write your code here\n",
    "    \n",
    "showtime()"
   ]
  },
  {
   "cell_type": "markdown",
   "metadata": {},
   "source": [
    "## Default arguments"
   ]
  },
  {
   "cell_type": "markdown",
   "metadata": {},
   "source": [
    "### Write a program using a function that greets a person using default message Welcome! followed by name of the person. Call this with a different message also."
   ]
  },
  {
   "cell_type": "code",
   "execution_count": 6,
   "metadata": {},
   "outputs": [
    {
     "name": "stdout",
     "output_type": "stream",
     "text": [
      "Enter your name: Shreya \n",
      "Enter message: Hey, how are you?\n",
      "Hey, how are you? Shreya \n"
     ]
    }
   ],
   "source": [
    "def greet(name, msg='Welcome!'):\n",
    "    print(msg, name)\n",
    "    #write your code here\n",
    "n=input(\"Enter your name: \")\n",
    "message=input(\"Enter message: \")\n",
    "\n",
    "greet(n,message)"
   ]
  },
  {
   "cell_type": "markdown",
   "metadata": {},
   "source": [
    "### Write a program to calculate the volume of a cuboid (length\\*width*height) using default arguments in a function. Length parameter is compulsory to be passed from user."
   ]
  },
  {
   "cell_type": "code",
   "execution_count": 8,
   "metadata": {},
   "outputs": [
    {
     "name": "stdout",
     "output_type": "stream",
     "text": [
      "12\n",
      "18\n",
      "24\n"
     ]
    }
   ],
   "source": [
    "def volume(length, width=2, height=3):\n",
    "    #write your code here\n",
    "    vol=length*width*height\n",
    "    print(vol)\n",
    "    \n",
    "#Function Calling\n",
    "volume(2)\n",
    "volume(2,3)\n",
    "volume(2,3,4)"
   ]
  },
  {
   "cell_type": "markdown",
   "metadata": {},
   "source": [
    "# Variable Length arguments\n",
    "### Write a program that uses variable-length arguments to multiply the values passed to the function.\n",
    "### For example, calling mul(2,3,1) will print 6. Calling mul(1,4,2,5) will return 40. "
   ]
  },
  {
   "cell_type": "code",
   "execution_count": 12,
   "metadata": {},
   "outputs": [
    {
     "name": "stdout",
     "output_type": "stream",
     "text": [
      "90\n",
      "14400\n",
      "504\n"
     ]
    }
   ],
   "source": [
    "def mul(*args):\n",
    "    #write your code here\n",
    "    a=1\n",
    "    for num in args:\n",
    "        a=a*num\n",
    "    print(a)\n",
    "    \n",
    "mul(1,2,3,3,5)\n",
    "mul(20,10,8,9)\n",
    "mul(4,6,7,3)"
   ]
  },
  {
   "cell_type": "markdown",
   "metadata": {},
   "source": [
    "### Write a program in Python to find the roots of a quadratic equation ax^2+bx+c=0 using a function which takes the coefficients a,b,c as arguments."
   ]
  },
  {
   "cell_type": "code",
   "execution_count": 14,
   "metadata": {},
   "outputs": [
    {
     "name": "stdout",
     "output_type": "stream",
     "text": [
      "Roots are:  -2.0 -3.0\n",
      "Roots are:  (-0.9999999999999999+2j) (-1.0000000000000002-2j)\n"
     ]
    }
   ],
   "source": [
    "def roots(a,b,c):\n",
    "    #write your code here\n",
    "    x=(-b+(b**2-4*a*c)**0.5)/2*a\n",
    "    y=(-b-(b**2-4*a*c)**0.5)/2*a\n",
    "    print(\"Roots are: \",x,y)\n",
    "#Function calling\n",
    "roots(1,5,6)\n",
    "roots(1,2,5)"
   ]
  },
  {
   "cell_type": "markdown",
   "metadata": {},
   "source": [
    "# Return multiple arguments\n",
    "### Write a program in Python to return square and square root of the number passed as argument from a function."
   ]
  },
  {
   "cell_type": "code",
   "execution_count": 16,
   "metadata": {},
   "outputs": [
    {
     "name": "stdout",
     "output_type": "stream",
     "text": [
      "Square:  625\n",
      "Square root:  5.0\n",
      "Square:  256\n",
      "Square root:  4.0\n",
      "Square:  6561\n",
      "Square root:  9.0\n"
     ]
    }
   ],
   "source": [
    "def compute(num):\n",
    "    #write your code here\n",
    "    sq=num**2\n",
    "    sqrt=num**(1/2)\n",
    "    print(\"Square: \",sq)\n",
    "    print(\"Square root: \",sqrt)\n",
    "\n",
    "    \n",
    "compute(25)\n",
    "compute(16)\n",
    "compute(81)"
   ]
  },
  {
   "cell_type": "markdown",
   "metadata": {},
   "source": [
    "# Lambda Functions\n",
    "### write a program in Python to calculate the cube of a number using the lambda function."
   ]
  },
  {
   "cell_type": "code",
   "execution_count": 21,
   "metadata": {},
   "outputs": [
    {
     "name": "stdout",
     "output_type": "stream",
     "text": [
      "8\n",
      "27\n",
      "125\n"
     ]
    }
   ],
   "source": [
    "#write your code here\n",
    "func= lambda x: x**3\n",
    "\n",
    "print(func(2))\n",
    "print(func(3))\n",
    "print(func(5))"
   ]
  },
  {
   "cell_type": "markdown",
   "metadata": {},
   "source": [
    "# Global and Local Variables"
   ]
  },
  {
   "cell_type": "markdown",
   "metadata": {},
   "source": [
    "### Check the output of the following code to understand the Global and local variables."
   ]
  },
  {
   "cell_type": "code",
   "execution_count": 22,
   "metadata": {},
   "outputs": [
    {
     "name": "stdout",
     "output_type": "stream",
     "text": [
      "Python "
     ]
    }
   ],
   "source": [
    "# This function uses global variable s \n",
    "def f():\n",
    "    print(s, end=\" \")\n",
    "\n",
    "# Global scope \n",
    "s = \"Python\"\n",
    "f()"
   ]
  },
  {
   "cell_type": "code",
   "execution_count": 23,
   "metadata": {},
   "outputs": [
    {
     "name": "stdout",
     "output_type": "stream",
     "text": [
      "I hate Python\n"
     ]
    }
   ],
   "source": [
    "# This function has a variable with name same as s. \n",
    "def f():  \n",
    "    s = \"I hate\"\n",
    "    print(s, end=\" \")\n",
    "# Global scope \n",
    "s = \"Python\" \n",
    "f()\n",
    "print(s)"
   ]
  },
  {
   "cell_type": "code",
   "execution_count": 25,
   "metadata": {},
   "outputs": [
    {
     "name": "stdout",
     "output_type": "stream",
     "text": [
      "Python\n",
      "Python\n",
      "Python\n"
     ]
    }
   ],
   "source": [
    "def f():\n",
    "    print(s)\n",
    "    # This program will NOT show error, if we comment below line.\n",
    "    #s = \"Me too.\"\n",
    "    print(s)\n",
    "\n",
    "# Global scope\n",
    "s= \"Python\"\n",
    "f()\n",
    "print(s)"
   ]
  },
  {
   "cell_type": "code",
   "execution_count": 26,
   "metadata": {},
   "outputs": [
    {
     "name": "stdout",
     "output_type": "stream",
     "text": [
      "Python\n",
      "Python\n",
      "Python\n"
     ]
    }
   ],
   "source": [
    "def f(): \n",
    "    global s\n",
    "    print (s) \n",
    "    s = \"Python\"\n",
    "    print (s)  \n",
    "\n",
    "# Global Scope \n",
    "s = \"Python\"\n",
    "f()\n",
    "print(s)"
   ]
  },
  {
   "cell_type": "markdown",
   "metadata": {},
   "source": [
    "# Recursive function"
   ]
  },
  {
   "cell_type": "code",
   "execution_count": 27,
   "metadata": {},
   "outputs": [
    {
     "name": "stdout",
     "output_type": "stream",
     "text": [
      "15\n"
     ]
    }
   ],
   "source": [
    "def sum(n):\n",
    "    if(n==1):\n",
    "        return 1\n",
    "    return n+sum(n-1)\n",
    "\n",
    "print(sum(5))\n",
    "    "
   ]
  },
  {
   "cell_type": "markdown",
   "metadata": {},
   "source": [
    "# Optional Questions"
   ]
  },
  {
   "cell_type": "markdown",
   "metadata": {},
   "source": [
    "### Write a program to design the pow function using recursion."
   ]
  },
  {
   "cell_type": "code",
   "execution_count": 29,
   "metadata": {},
   "outputs": [
    {
     "name": "stdout",
     "output_type": "stream",
     "text": [
      "32\n",
      "81\n",
      "8\n"
     ]
    }
   ],
   "source": [
    "#Function Definition\n",
    "def pow(a,b):\n",
    "    if(b==1):\n",
    "        return a\n",
    "    else:\n",
    "    #Complete the code here\n",
    "        return a*pow(a,b-1)\n",
    "\n",
    "#Function Calling\n",
    "print(pow(2,5))\n",
    "print(pow(3,4))\n",
    "print(pow(2,3))"
   ]
  },
  {
   "cell_type": "markdown",
   "metadata": {},
   "source": [
    "## 2’s complement of a number is obtained by scanning it from right to left and complementing all the bits after the first appearance of a 1. Thus 2’s complement of 11100 is 00100. \n",
    "### Write a Python program to find the 2’s complement of a binary."
   ]
  },
  {
   "cell_type": "code",
   "execution_count": 8,
   "metadata": {},
   "outputs": [
    {
     "name": "stdout",
     "output_type": "stream",
     "text": [
      "Enter a binary number: 1110100\n",
      "2's complement is: 0000100\n"
     ]
    }
   ],
   "source": [
    "def comp(b):\n",
    "    b1=\"\"\n",
    "    for i in b:\n",
    "        b1=i+b1\n",
    "    z='0'\n",
    "    o='1'\n",
    "    c=\"\"\n",
    "    a=1\n",
    "    for i in b1:\n",
    "        if i==z:\n",
    "            c=z+c\n",
    "        elif(i==o and a==1):\n",
    "            c=o+c\n",
    "            a=a+1\n",
    "        else:\n",
    "            c=z+c\n",
    "    print(\"2's complement is: \"+c)\n",
    "\n",
    "n=input(\"Enter a binary number: \")\n",
    "comp(n)\n",
    "            "
   ]
  },
  {
   "cell_type": "markdown",
   "metadata": {},
   "source": [
    "### Write a program to calculate the sum of digits using recursion."
   ]
  },
  {
   "cell_type": "code",
   "execution_count": 2,
   "metadata": {},
   "outputs": [
    {
     "name": "stdout",
     "output_type": "stream",
     "text": [
      "8\n",
      "12\n",
      "34\n"
     ]
    }
   ],
   "source": [
    "#recursive Function\n",
    "Sum = 0\n",
    "def digit_sum(Number):\n",
    "    global Sum\n",
    "    if(Number > 0):\n",
    "        Reminder = Number % 10\n",
    "        Sum = Sum + Reminder\n",
    "        digit_sum(Number //10)\n",
    "    return Sum\n",
    "#For one input:\n",
    "#Number = int(input(\"Please Enter any Number: \"))\n",
    "#Sum = digit_sum(Number)\n",
    "#print(\"\\n Sum of the digits of Given Number = %d\" %Sum)\n",
    "\n",
    "#calling function\n",
    "print(digit_sum(134))\n",
    "print(digit_sum(112))\n",
    "print(digit_sum(37363))\n",
    "\n"
   ]
  },
  {
   "cell_type": "markdown",
   "metadata": {},
   "source": [
    "### Write a program to calculate the hexa-decimal of decimal number using recursion."
   ]
  },
  {
   "cell_type": "code",
   "execution_count": 11,
   "metadata": {},
   "outputs": [
    {
     "name": "stdout",
     "output_type": "stream",
     "text": [
      "Hexa Decimal\n",
      "21\n",
      "Hexa Decimal\n",
      "14"
     ]
    },
    {
     "data": {
      "text/plain": [
       "0"
      ]
     },
     "execution_count": 11,
     "metadata": {},
     "output_type": "execute_result"
    }
   ],
   "source": [
    "#recursive Function\n",
    "\n",
    "def hexa(x):\n",
    "    \n",
    "    if x==0:\n",
    "        return 0\n",
    "    else:\n",
    "        y=str(x%16)\n",
    "        c=\"\"\n",
    "        c=y+c\n",
    "        print(c,end=\"\")\n",
    "        return hexa(x//16)\n",
    "    \n",
    "#Calling function\n",
    "print(\"Hexa Decimal\")\n",
    "hexa(18)\n",
    "print(\"\\nHexa Decimal\")\n",
    "hexa(65)"
   ]
  },
  {
   "cell_type": "code",
   "execution_count": null,
   "metadata": {},
   "outputs": [],
   "source": []
  },
  {
   "cell_type": "code",
   "execution_count": null,
   "metadata": {},
   "outputs": [],
   "source": []
  }
 ],
 "metadata": {
  "kernelspec": {
   "display_name": "Python 3",
   "language": "python",
   "name": "python3"
  },
  "language_info": {
   "codemirror_mode": {
    "name": "ipython",
    "version": 3
   },
   "file_extension": ".py",
   "mimetype": "text/x-python",
   "name": "python",
   "nbconvert_exporter": "python",
   "pygments_lexer": "ipython3",
   "version": "3.6.5"
  }
 },
 "nbformat": 4,
 "nbformat_minor": 2
}
