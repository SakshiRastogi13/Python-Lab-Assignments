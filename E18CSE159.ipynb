{
 "cells": [
  {
   "cell_type": "markdown",
   "metadata": {
    "colab_type": "text",
    "id": "HXDCF1BicfN8"
   },
   "source": [
    "# Lab Assignment 1: Introduction to Python"
   ]
  },
  {
   "cell_type": "markdown",
   "metadata": {},
   "source": [
    "## Important Points:\n",
    "### For executing the code of block, press Shift + Enter.\n",
    "### For comment use #."
   ]
  },
  {
   "cell_type": "markdown",
   "metadata": {
    "colab_type": "text",
    "id": "CzYaWy7gcfN-"
   },
   "source": [
    "### Problem 1: Write a program to print  \"HELLO PYTHON !\""
   ]
  },
  {
   "cell_type": "code",
   "execution_count": 2,
   "metadata": {
    "colab": {
     "autoexec": {
      "startup": false,
      "wait_interval": 0
     }
    },
    "colab_type": "code",
    "id": "7sG2pSrdcfN_"
   },
   "outputs": [
    {
     "name": "stdout",
     "output_type": "stream",
     "text": [
      "HELLO PYTHON!\n"
     ]
    }
   ],
   "source": [
    "# write your code after this line\n",
    "print('HELLO PYTHON!')"
   ]
  },
  {
   "cell_type": "markdown",
   "metadata": {
    "colab_type": "text",
    "id": "ck-2rEF4cfOC"
   },
   "source": [
    "### Problem 2: Write a program to run the below code and try to make some changes such as country name, etc."
   ]
  },
  {
   "cell_type": "code",
   "execution_count": 5,
   "metadata": {
    "colab": {
     "autoexec": {
      "startup": false,
      "wait_interval": 0
     }
    },
    "colab_type": "code",
    "id": "Y0tRnGsQcfOD"
   },
   "outputs": [
    {
     "name": "stdout",
     "output_type": "stream",
     "text": [
      "I am from ENGLAND\n",
      "I love ENGLAND\n",
      "I love ENGLAND\n",
      "My state name is:LONDON\n"
     ]
    }
   ],
   "source": [
    "print('I am from ENGLAND')\n",
    "print(\"I love ENGLAND\")\n",
    "print(\"I love \"+ 'ENGLAND')\n",
    "print(\"My state name is:\"+ \"LONDON\")"
   ]
  },
  {
   "cell_type": "markdown",
   "metadata": {
    "colab_type": "text",
    "id": "FtY6brB4cfOG"
   },
   "source": [
    "Problem 3: Task1: Write a program to run the below code and try to make some changes to the program."
   ]
  },
  {
   "cell_type": "code",
   "execution_count": 21,
   "metadata": {
    "colab": {
     "autoexec": {
      "startup": false,
      "wait_interval": 0
     }
    },
    "colab_type": "code",
    "id": "QJyZcQ3VcfOH"
   },
   "outputs": [
    {
     "name": "stdout",
     "output_type": "stream",
     "text": [
      "I am from INDIA\n",
      "I love INDIA\n",
      "I love INDIA\n",
      "My state name is : DELHI\n",
      "Sakshi is 18 year old\n",
      "Yeah me too.!\n"
     ]
    }
   ],
   "source": [
    "country='INDIA'\n",
    "state=\"DELHI\"\n",
    "age='18'\n",
    "name=\"Sakshi\"\n",
    "\n",
    "print('I am from', country)\n",
    "print('I love '+ country)\n",
    "print(\"I love \"+ country)\n",
    "print(\"My state name is : \"+ state)\n",
    "\n",
    "print(name, 'is', age, 'year old')\n",
    "print(\"Yeah me too.!\")"
   ]
  },
  {
   "cell_type": "markdown",
   "metadata": {
    "colab_type": "text",
    "id": "2w4vNRIrcfOK"
   },
   "source": [
    "#### Task2: Write a program to display your infomation like (full name, branch, university name, Age, 12th %, hobbies). Store each value into some meaningful variable.  The ouptput of the program should look like:"
   ]
  },
  {
   "cell_type": "raw",
   "metadata": {
    "colab_type": "raw",
    "id": "hnveJccYcfOL"
   },
   "source": [
    "My name is :\n",
    "I am in CSE branch at Bennett University : \n",
    "I am 18 year old : \n",
    "My Higehr Secondary % is :\n",
    "My hobbies are : "
   ]
  },
  {
   "cell_type": "code",
   "execution_count": 37,
   "metadata": {
    "colab": {
     "autoexec": {
      "startup": false,
      "wait_interval": 0
     }
    },
    "colab_type": "code",
    "id": "eGTWJHDicfOM"
   },
   "outputs": [
    {
     "name": "stdout",
     "output_type": "stream",
     "text": [
      "My name is: Sakshi Rastogi\n",
      "I am in CSE branch at Bennett University\n",
      "I am  18  year old\n",
      "My Higher Secondary % is: 86 %\n",
      "My hobbies are:Badminton,Cricket\n"
     ]
    }
   ],
   "source": [
    "# write your code after this line\n",
    "name=\"Sakshi Rastogi\"\n",
    "branch='CSE'\n",
    "universityname=\"Bennett University\"\n",
    "age=18\n",
    "percentage=86\n",
    "hobbies='Badminton,Cricket'\n",
    "print(\"My name is:\",name)\n",
    "print(\"I am in\",branch,\"branch at\",universityname)\n",
    "print(\"I am \",age,\" year old\")\n",
    "print(\"My Higher Secondary % is:\", percentage,\"%\")\n",
    "print(\"My hobbies are:\"+hobbies)"
   ]
  },
  {
   "cell_type": "markdown",
   "metadata": {
    "colab_type": "text",
    "id": "vclGyZbZcfOP"
   },
   "source": [
    "### Problem 4: Write a program to perform arithmetic operations (Addition, Subtraction, Multiplication, Division) on two integer numbers. The output of the program should look like:"
   ]
  },
  {
   "cell_type": "raw",
   "metadata": {
    "colab_type": "raw",
    "id": "JWXZHrlwcfOQ"
   },
   "source": [
    "First number =  \n",
    "Second number = \n",
    "Addition :  \n",
    "Subtraction :  \n",
    "Multiplication :  \n",
    "Division :  "
   ]
  },
  {
   "cell_type": "code",
   "execution_count": 40,
   "metadata": {
    "colab": {
     "autoexec": {
      "startup": false,
      "wait_interval": 0
     }
    },
    "colab_type": "code",
    "id": "wArpl58_cfOQ"
   },
   "outputs": [
    {
     "name": "stdout",
     "output_type": "stream",
     "text": [
      "First number= 20\n",
      "Second number= 10\n",
      "Addition: 30\n",
      "Substraction: 10\n",
      "Multiplication: 200\n",
      "Division: 2.0\n"
     ]
    }
   ],
   "source": [
    "number1=20\n",
    "number2=10\n",
    "print(\"First number=\",number1)\n",
    "print(\"Second number=\",number2)\n",
    "c=number1+number2\n",
    "d=number1-number2\n",
    "e=number1*number2\n",
    "f=number1/number2\n",
    "print(\"Addition:\",c)\n",
    "print(\"Substraction:\",d)\n",
    "print(\"Multiplication:\",e)\n",
    "print(\"Division:\",f)\n",
    "\n"
   ]
  },
  {
   "cell_type": "markdown",
   "metadata": {
    "colab_type": "text",
    "id": "P07eBi4KcfOU"
   },
   "source": [
    "### Problem 5: Write a run the below code."
   ]
  },
  {
   "cell_type": "code",
   "execution_count": 41,
   "metadata": {
    "colab": {
     "autoexec": {
      "startup": false,
      "wait_interval": 0
     }
    },
    "colab_type": "code",
    "id": "xLI1U8RJcfOU"
   },
   "outputs": [
    {
     "name": "stdout",
     "output_type": "stream",
     "text": [
      "Enter your first name: sakshi\n",
      "Enter your second name: rastogi\n",
      "Enter your semester: 1\n",
      "Hello friends my name is  sakshi rastogi  and I am in  1 semester\n"
     ]
    }
   ],
   "source": [
    "firstname=input(\"Enter your first name: \")\n",
    "lastname=input(\"Enter your second name: \")\n",
    "semester=input(\"Enter your semester: \")\n",
    "fullname=firstname + \" \" +lastname\n",
    "print(\"Hello friends my name is \",fullname, \" and I am in \", semester, \"semester\")"
   ]
  },
  {
   "cell_type": "markdown",
   "metadata": {
    "colab_type": "text",
    "id": "AJSWrElpcfOZ"
   },
   "source": [
    "### Problem 6 : Write a program to swap the contents of two variables using third variable. The output of the program should look like:"
   ]
  },
  {
   "cell_type": "raw",
   "metadata": {
    "colab_type": "raw",
    "id": "fVL5tp7XcfOa"
   },
   "source": [
    "Before swapping:\n",
    "First Value: 90\n",
    "Second Value: 10\n",
    "\n",
    "After swapping:\n",
    "First Value: 10\n",
    "Second Value: 90"
   ]
  },
  {
   "cell_type": "code",
   "execution_count": 12,
   "metadata": {
    "colab": {
     "autoexec": {
      "startup": false,
      "wait_interval": 0
     }
    },
    "colab_type": "code",
    "id": "u04a0hQXcfOa"
   },
   "outputs": [
    {
     "name": "stdout",
     "output_type": "stream",
     "text": [
      "Before swapping:\n",
      "First Value: 90\n",
      "Second Value: 10\n",
      "\n",
      "After swapping:\n",
      "First value 10\n",
      "Second value 90\n"
     ]
    }
   ],
   "source": [
    "first_value=90\n",
    "second_value=10\n",
    "print(\"Before swapping:\")\n",
    "print(\"First Value:\",first_value)\n",
    "print(\"Second Value:\",second_value)\n",
    "temp=first_value\n",
    "first_value=second_value\n",
    "second_value=temp\n",
    "print(\"\\nAfter swapping:\")\n",
    "print(\"First value\",first_value)\n",
    "print(\"Second value\",second_value)"
   ]
  },
  {
   "cell_type": "markdown",
   "metadata": {
    "colab_type": "text",
    "id": "ei6J38xOcfOd"
   },
   "source": [
    "### Problem 7 : The wheel of a bullock cart has a radius of 6 m. If the wheel rotates once, write a program to determine how much distance does the cart move?"
   ]
  },
  {
   "cell_type": "code",
   "execution_count": 57,
   "metadata": {
    "colab": {
     "autoexec": {
      "startup": false,
      "wait_interval": 0
     }
    },
    "colab_type": "code",
    "id": "EJWEn5P4cfOd"
   },
   "outputs": [
    {
     "name": "stdout",
     "output_type": "stream",
     "text": [
      "enter radius6\n",
      "distance= 37.68\n"
     ]
    }
   ],
   "source": [
    "# write your code after this line\n",
    "r=int(input(\"enter radius\"))\n",
    "dis=float(2*3.14*r)\n",
    "print(\"distance=\",dis)"
   ]
  },
  {
   "cell_type": "markdown",
   "metadata": {
    "colab_type": "text",
    "id": "WqpIS574cfOf"
   },
   "source": [
    "### Problem 8 : Write a program to evaluate the expression: 5x^2 + 10x + 5 and print the result. Take x=10, x=20, x=15"
   ]
  },
  {
   "cell_type": "code",
   "execution_count": 56,
   "metadata": {
    "colab": {
     "autoexec": {
      "startup": false,
      "wait_interval": 0
     }
    },
    "colab_type": "code",
    "id": "7j5pPawrcfOg"
   },
   "outputs": [
    {
     "name": "stdout",
     "output_type": "stream",
     "text": [
      "enter the value of x=10\n",
      "605\n",
      "enter the value of x=20\n",
      "2205\n",
      "enter the value of x=15\n",
      "1280\n"
     ]
    }
   ],
   "source": [
    "x=int(input(\"enter the value of x=\"))\n",
    "t=5*x**2+10*x+5\n",
    "print(t)\n",
    "x=int(input(\"enter the value of x=\"))\n",
    "t=5*x**2+10*x+5\n",
    "print(t)\n",
    "x=int(input(\"enter the value of x=\"))\n",
    "t=5*x**2+10*x+5\n",
    "print(t)"
   ]
  },
  {
   "cell_type": "markdown",
   "metadata": {
    "colab_type": "text",
    "id": "bYbNt3tQcfOj"
   },
   "source": [
    "### Problem 9 : Assume Sachin’s basic salary is 10 Lakh. His dearness allowance(DA) is 40% of basic salary, and house rent allowance(HRA) is 20% of basic salary. Write a program to calculate his gross salary."
   ]
  },
  {
   "cell_type": "code",
   "execution_count": 5,
   "metadata": {
    "colab": {
     "autoexec": {
      "startup": false,
      "wait_interval": 0
     }
    },
    "colab_type": "code",
    "id": "qGVyJALqcfOk"
   },
   "outputs": [
    {
     "name": "stdout",
     "output_type": "stream",
     "text": [
      "400000.0\n"
     ]
    }
   ],
   "source": [
    "# write your code after this line\n",
    "basic_salary=1000000\n",
    "dearness_allowance=0.4*basic_salary\n",
    "house_rent_allowance=0.2*basic_salary\n",
    "gross_salary=basic_salary-(dearness_allowance+house_rent_allowance)\n",
    "print(gross_salary)"
   ]
  },
  {
   "cell_type": "markdown",
   "metadata": {
    "colab_type": "text",
    "id": "Gi9VMcjCcfOm"
   },
   "source": [
    "### Problem 10 : A cashier has currency notes of denominations 10, 50 and 100. Take an Input of a number for withdraw amount. Find the total number of currency notes of each denomination the cashier will have to give to the withdrawer. The output of the program should look like. Take some exmple to test your program."
   ]
  },
  {
   "cell_type": "raw",
   "metadata": {
    "colab_type": "raw",
    "id": "O_9_5QmTcfOn"
   },
   "source": [
    "Enter amount to be withdrawn: 170\n",
    "100 rupees note:1\n",
    "50 rupees note:1\n",
    "10 rupes note:2"
   ]
  },
  {
   "cell_type": "code",
   "execution_count": 3,
   "metadata": {
    "colab": {
     "autoexec": {
      "startup": false,
      "wait_interval": 0
     }
    },
    "colab_type": "code",
    "id": "7qAlMz35cfOo"
   },
   "outputs": [
    {
     "name": "stdout",
     "output_type": "stream",
     "text": [
      "enter the amount to be withdrawn=170\n",
      "hundred rupee notes 1\n",
      "fifty rupee notes 1\n",
      "ten rupee notes 2\n",
      "enter the amount to be withdrawn=28980\n",
      "hundred rupee notes 289\n",
      "fifty rupee notes 1\n",
      "ten rupee notes 3\n"
     ]
    }
   ],
   "source": [
    "# write your code after this line\n",
    "w=int(input(\"enter the amount to be withdrawn=\"))\n",
    "h=w//100\n",
    "r=w%100\n",
    "f=r//50\n",
    "r2=r%50\n",
    "t=r2//10\n",
    "print(\"hundred rupee notes\",h)\n",
    "print(\"fifty rupee notes\",f)\n",
    "print(\"ten rupee notes\",t)\n",
    "w=int(input(\"enter the amount to be withdrawn=\"))\n",
    "h=w//100\n",
    "r=w-(100*h)\n",
    "f=r//50\n",
    "z=r-(50*f)\n",
    "g=z//10\n",
    "print(\"hundred rupee notes\",h)\n",
    "print(\"fifty rupee notes\",f)\n",
    "print(\"ten rupee notes\",g)\n"
   ]
  },
  {
   "cell_type": "code",
   "execution_count": null,
   "metadata": {},
   "outputs": [],
   "source": []
  }
 ],
 "metadata": {
  "colab": {
   "default_view": {},
   "name": "Lab1 Notebook.ipynb",
   "provenance": [],
   "version": "0.3.2",
   "views": {}
  },
  "kernelspec": {
   "display_name": "Python 3",
   "language": "python",
   "name": "python3"
  },
  "language_info": {
   "codemirror_mode": {
    "name": "ipython",
    "version": 3
   },
   "file_extension": ".py",
   "mimetype": "text/x-python",
   "name": "python",
   "nbconvert_exporter": "python",
   "pygments_lexer": "ipython3",
   "version": "3.7.3"
  }
 },
 "nbformat": 4,
 "nbformat_minor": 1
}
