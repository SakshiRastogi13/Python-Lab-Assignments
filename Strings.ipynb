{
 "cells": [
  {
   "cell_type": "markdown",
   "metadata": {},
   "source": [
    "# Working with Strings\n",
    "String objects are immutable, so attempting to rebind or delete an item or slice of a string raises an exception. "
   ]
  },
  {
   "cell_type": "markdown",
   "metadata": {},
   "source": [
    "##### Task 1: Run below lines of code and try to change the values "
   ]
  },
  {
   "cell_type": "code",
   "execution_count": 1,
   "metadata": {
    "scrolled": false
   },
   "outputs": [
    {
     "name": "stdout",
     "output_type": "stream",
     "text": [
      "Hello\n",
      "Nice to meet you\n",
      "Hello Nice to meet you\n",
      "HelloHello\n"
     ]
    }
   ],
   "source": [
    "string1 = \"Hello\"\n",
    "string2 = 'Nice to meet you'\n",
    "\n",
    "print(string1)\n",
    "print(string2)\n",
    "print(string1,string2) #concatenation\n",
    "print(string1*2) # repetition"
   ]
  },
  {
   "cell_type": "markdown",
   "metadata": {},
   "source": [
    "##### Task 2: Run below lines of code and try to change the values"
   ]
  },
  {
   "cell_type": "code",
   "execution_count": 4,
   "metadata": {},
   "outputs": [
    {
     "name": "stdout",
     "output_type": "stream",
     "text": [
      "False\n",
      "True\n"
     ]
    }
   ],
   "source": [
    "string3 = \"I love my country\"\n",
    "subtring=\"my\"\n",
    "result=subtring not in string3\n",
    "print(result)\n",
    "\n",
    "# set subtring=\"hate\" and check whether it exists in substring3 or not \n",
    "# write your code after this line\n",
    "string3 = \"I love my country\"\n",
    "subtring=\"countries\"\n",
    "result=subtring not in string3\n",
    "print(result)"
   ]
  },
  {
   "cell_type": "markdown",
   "metadata": {},
   "source": [
    "##### Task 3: Run below lines of code and try to change the values"
   ]
  },
  {
   "cell_type": "code",
   "execution_count": 5,
   "metadata": {},
   "outputs": [
    {
     "name": "stdout",
     "output_type": "stream",
     "text": [
      "Strings can only store characters\n",
      "S\n",
      "s\n",
      "r\n"
     ]
    }
   ],
   "source": [
    "string4 = \"Strings can only store characters\"\n",
    "print(string4)\n",
    "print(string4[0])\n",
    "print(string4[6])\n",
    "print(string4[-2])\n",
    "\n",
    "\n",
    "\n",
    "# write the code to print the characters g,y,l using both +ive and -ive index\n",
    "# write your code after this line"
   ]
  },
  {
   "cell_type": "markdown",
   "metadata": {},
   "source": [
    "##### Task 4: Run below lines of code and try to change the values"
   ]
  },
  {
   "cell_type": "code",
   "execution_count": 3,
   "metadata": {},
   "outputs": [
    {
     "name": "stdout",
     "output_type": "stream",
     "text": [
      "Strings can only store characters\n",
      "rin\n",
      "Strings can only store characters\n",
      "rings can only store characters\n",
      "Strings can only store characters\n",
      "Strings can only store c\n",
      "t\n",
      "rgc lsrcrts\n",
      "secrh rt loncsnrS\n"
     ]
    }
   ],
   "source": [
    "string5 = \"Strings can only store characters\"\n",
    "print(string5)\n",
    "print(string5[2:5])\n",
    "print(string5[0:])\n",
    "print(string5[2:])\n",
    "print(string5[:])\n",
    "print(string5[:-9])\n",
    "\n",
    "print(string5[-4])\n",
    "\n",
    "print(string5[2::3])\n",
    "\n",
    "print(string5[::-2])\n",
    "\n",
    "\n",
    "# Create new string and apply different slicig and indexing operations on it.\n",
    "# write your code after this line"
   ]
  },
  {
   "cell_type": "markdown",
   "metadata": {},
   "source": [
    "#### Program 1: Execute the following code in Python to print using seperate string variables"
   ]
  },
  {
   "cell_type": "code",
   "execution_count": 7,
   "metadata": {},
   "outputs": [
    {
     "name": "stdout",
     "output_type": "stream",
     "text": [
      "Bennett University\n",
      "'Bennett University'\n",
      "\"Bennett University\"\n",
      "'Bennett' University\n",
      "'Bennett' 'University'\n",
      "'Bennett', 'University'\n",
      "I have so many friend's at Bennett University\n"
     ]
    }
   ],
   "source": [
    "str1='Bennett University'\n",
    "str2=\"'Bennett University'\"\n",
    "str3='\"Bennett University\"'\n",
    "str4=\"'Bennett' University\"\n",
    "str5=\"'Bennett' 'University'\"\n",
    "str6=\"'Bennett', 'University'\"\n",
    "str7='I have so many friend\\'s at Bennett University'\n",
    "\n",
    "print(str1)\n",
    "print(str2)\n",
    "print(str3)\n",
    "print(str4)\n",
    "print(str5)\n",
    "print(str6)\n",
    "print(str7)\n"
   ]
  },
  {
   "cell_type": "markdown",
   "metadata": {},
   "source": [
    "#### Program 2: Execute the following code in python in which string values are enclosed between triple quotes like \"\"\" your string \"\"\" to do the following:\n",
    "- Display the string stored in variable. \n",
    "- Split the same string to print each word on new liine without using any \\n\n",
    "- Create another normal string variable in which the string is spanned over multiple lines withot using \"\"\" \"\"\" and \\n"
   ]
  },
  {
   "cell_type": "code",
   "execution_count": 4,
   "metadata": {
    "scrolled": false
   },
   "outputs": [
    {
     "name": "stdout",
     "output_type": "stream",
     "text": [
      "This is an example of string variable \n",
      "This is an\n",
      "example of string\n",
      "variable \n",
      "i have so many frieds at bennett university \n"
     ]
    }
   ],
   "source": [
    "name=\"\"\"This is an example of string variable \"\"\"\n",
    "print(name)\n",
    "\n",
    "name=\"\"\"This is an\n",
    "example of string\n",
    "variable \"\"\"\n",
    "\n",
    "print(name)\n",
    "\n",
    "name2='i have so \\\n",
    "many frieds \\\n",
    "at bennett university '\n",
    "\n",
    "print(name2)\n",
    "        "
   ]
  },
  {
   "cell_type": "markdown",
   "metadata": {},
   "source": [
    "#### Useful Functions\n",
    "\n",
    "Most of these functions will work on any type of sequence\n",
    "\n",
    "- len(s) returns the number of characters in the string s.\n",
    "- title() Captalize the each starting character of a word\n",
    "- capitalize() capatalize the starting character of a sentence.\n",
    "- s.lower() returns a copy of s, but with all uppercase characters converted to lowercase.\n",
    "- s.upper() returns a copy of s with all lowercase characters converted to uppercase.\n"
   ]
  },
  {
   "cell_type": "markdown",
   "metadata": {},
   "source": [
    "#### Program 3: Write a program in python that accepts a string from user and apply \n",
    "len(s), upper(), lower(), title(), capitalize() functions on it."
   ]
  },
  {
   "cell_type": "code",
   "execution_count": 9,
   "metadata": {},
   "outputs": [
    {
     "name": "stdout",
     "output_type": "stream",
     "text": [
      "Enter any string: Hello Sakshi\n",
      "12\n",
      "Hello sakshi\n",
      "Hello Sakshi\n",
      "HELLO SAKSHI\n",
      "hello sakshi\n"
     ]
    }
   ],
   "source": [
    "str1=input(\"Enter any string: \")\n",
    "# write your code after this line\n",
    "m=len(str1)\n",
    "print(m)\n",
    "y=str1.capitalize()\n",
    "print(y)\n",
    "z=str1.title()\n",
    "print(z)\n",
    "a=str1.upper()\n",
    "print(a)\n",
    "b=str1.lower()\n",
    "print(b)\n",
    "\n"
   ]
  },
  {
   "cell_type": "markdown",
   "metadata": {},
   "source": [
    "Useful Functions\n",
    "\n",
    "- s.split([sep]) returns a list whose elements are the words in the string. The parameter sep is optional, by default strings are split on all whitespace (spaces, tabs, newlines). For example, 'To be, or not to be.'.split() will evaluate to ['To', 'be,', 'or', 'not', 'to', 'be.']. Note that split doesn't remove punctuation.\n"
   ]
  },
  {
   "cell_type": "markdown",
   "metadata": {},
   "source": [
    "#### Program 4: Execute the following program in Python that accepts a string from user and splits it based on blanks.\n"
   ]
  },
  {
   "cell_type": "code",
   "execution_count": 5,
   "metadata": {},
   "outputs": [
    {
     "name": "stdout",
     "output_type": "stream",
     "text": [
      "Enter a string:hello,sakshi\n",
      "['hello', 'sakshi']\n"
     ]
    }
   ],
   "source": [
    "str1=input(\"Enter a string:\")\n",
    "print(str1.split(','))\n"
   ]
  },
  {
   "cell_type": "markdown",
   "metadata": {},
   "source": [
    "#### Program 5: Write a program in Python that accepts a string from user which has words separated by hyphen(-). Use function list to split it based on hyphen(-).\n"
   ]
  },
  {
   "cell_type": "code",
   "execution_count": null,
   "metadata": {},
   "outputs": [],
   "source": []
  },
  {
   "cell_type": "code",
   "execution_count": 3,
   "metadata": {},
   "outputs": [
    {
     "name": "stdout",
     "output_type": "stream",
     "text": [
      "['Hello', ' How', ' are', ' you?']\n"
     ]
    }
   ],
   "source": [
    "str1=\"Hello- How- are- you?\"\n",
    "#write your code here\n",
    "print(str1.split('-'))\n"
   ]
  },
  {
   "cell_type": "markdown",
   "metadata": {},
   "source": [
    "### Useful functions\n",
    "\n",
    "#### Searching\n",
    "\n",
    "- s.index(x) returns the index of the first occurrence of the substring x in s. If x isn't a substring an error is thrown.\n",
    "- s.find(x) does the same thing as index, but returns -1 if x isn't a substring, rather than throwing an error.\n",
    "- s.rindex(x) and s.rfind(x) (short for right index and right find) return the last occurrence of the substring x in s.\n",
    "- startswith(substring), returns True if the string starts with given subtstring\n",
    "- endswith(substring), return True if the string ends with given subtstring\n",
    "\n"
   ]
  },
  {
   "cell_type": "code",
   "execution_count": 6,
   "metadata": {},
   "outputs": [
    {
     "name": "stdout",
     "output_type": "stream",
     "text": [
      "[2, 3, 1, 1, 1, 1, 5, 6, 7]\n",
      "[2, 3, 1, 1, 5, 6, 7]\n"
     ]
    }
   ],
   "source": [
    "lst=[2,3,4,5,6,7]\n",
    "lst[2:3]=[1,1,1,1]\n",
    "print(lst)\n",
    "lst[3:5]=[]\n",
    "print(lst)"
   ]
  },
  {
   "cell_type": "markdown",
   "metadata": {},
   "source": [
    "#### Program 6: Execute the following program that accepts a string from user and apply index(s),find(x), rindex(s), rfind()\n",
    "#### Use a new value of variable s and observe the answers\n",
    "\n"
   ]
  },
  {
   "cell_type": "code",
   "execution_count": 16,
   "metadata": {},
   "outputs": [
    {
     "name": "stdout",
     "output_type": "stream",
     "text": [
      "Index of  h is : 0\n",
      "find()  h is : 0\n",
      "rindex() h is : 6\n",
      "False\n",
      "True\n"
     ]
    }
   ],
   "source": [
    "str1='hello hi'\n",
    "s='h'\n",
    "print('Index of ', s, 'is :', str1.index(s))\n",
    "print('find() ', s, 'is :', str1.find(s))\n",
    "print('rindex()', s, 'is :', str1.rindex(s))\n",
    "print(str1.endswith('b'))\n",
    "print(str1.startswith('he'))\n"
   ]
  },
  {
   "cell_type": "markdown",
   "metadata": {},
   "source": [
    "### Useful functions\n",
    "\n",
    "#### Searching\n",
    "\n",
    "- s.count(x) returns the number of times the substring x appears in s. Note that it only counts non-overlapping occurrences, so '000000'.count('000') will return 2.\n",
    "- s.replace(x, y) replaces every occurrence of the substring x in s with y. For example, 'batCatRat'.replace('at', 'oy') will return 'boyCoyRoy'.\n"
   ]
  },
  {
   "cell_type": "markdown",
   "metadata": {},
   "source": [
    "#### Program 7: Execute the following Python program which reads a string from a user, prints the frequency of occurrence of first character and change all the occurrences of first character to ‘$’."
   ]
  },
  {
   "cell_type": "code",
   "execution_count": 15,
   "metadata": {},
   "outputs": [
    {
     "name": "stdout",
     "output_type": "stream",
     "text": [
      "Enter any string: Hello\n",
      "['Hello']\n",
      "1\n",
      "$ello\n"
     ]
    }
   ],
   "source": [
    "str1=input(\"Enter any string: \")\n",
    "#write your code here\n",
    "print(str1.split())\n",
    "a=str1[0]\n",
    "print(str1.count(a))\n",
    "x=str1.replace(a,'$')\n",
    "print(x)\n",
    "\n"
   ]
  },
  {
   "cell_type": "code",
   "execution_count": 7,
   "metadata": {},
   "outputs": [
    {
     "name": "stdout",
     "output_type": "stream",
     "text": [
      "Enter a string:gego\n",
      "['gego']\n",
      "2\n",
      "$e$o\n"
     ]
    }
   ],
   "source": [
    "str1=input(\"Enter a string:\")\n",
    "print(str1.split())\n",
    "a=str1[0]\n",
    "print(str1.count(a))\n",
    "x=str1.replace(a,'$')\n",
    "print(x)\n"
   ]
  },
  {
   "cell_type": "markdown",
   "metadata": {},
   "source": [
    "### Program 8: Write a program in Python which takes a new string as input and prints the frequency of occurrence of first character in a string without using count function.\n"
   ]
  },
  {
   "cell_type": "code",
   "execution_count": 12,
   "metadata": {},
   "outputs": [
    {
     "name": "stdout",
     "output_type": "stream",
     "text": [
      "Enter a string:hhhe\n",
      "3\n"
     ]
    }
   ],
   "source": [
    "#write your code here\n",
    "n=input(\"Enter a string:\")\n",
    "a=n[0]\n",
    "count=0\n",
    "for a in n:\n",
    "    if a is n[0]:\n",
    "        count=count+1\n",
    "print(count)\n",
    "  \n"
   ]
  },
  {
   "cell_type": "code",
   "execution_count": 9,
   "metadata": {},
   "outputs": [
    {
     "name": "stdout",
     "output_type": "stream",
     "text": [
      "Enter a stringHeleodddshh\n",
      "['Heleodddshh']\n",
      "1\n"
     ]
    }
   ],
   "source": [
    "a=input(\"Enter a string\")\n",
    "print(a.split())\n",
    "x=a[0]\n",
    "count=0\n",
    "for x in a:\n",
    "    if x is a[0]:\n",
    "        count=count+1\n",
    "print(count)"
   ]
  },
  {
   "cell_type": "markdown",
   "metadata": {},
   "source": [
    "### Program 9: Define a function freq in Python which returns the frequency of occurrence of first character in a string without using count function."
   ]
  },
  {
   "cell_type": "code",
   "execution_count": 8,
   "metadata": {},
   "outputs": [
    {
     "name": "stdout",
     "output_type": "stream",
     "text": [
      "Enter a stringHellohhh\n",
      "['Hellohhh']\n",
      "1\n"
     ]
    }
   ],
   "source": [
    "#write your code here\n",
    "def freq(x):\n",
    "    x=input(\"Enter a string\")\n",
    "    print(x.split())\n",
    "    a=x[0]\n",
    "    count=0\n",
    "    for a in x:\n",
    "        if a is x[0]:\n",
    "            count=count+1\n",
    "    return count\n",
    "print(freq(x))\n",
    "\n",
    "\n",
    "\n"
   ]
  },
  {
   "cell_type": "markdown",
   "metadata": {
    "collapsed": true
   },
   "source": [
    "# Optional Programs"
   ]
  },
  {
   "cell_type": "markdown",
   "metadata": {},
   "source": [
    "#### Program 10: WAP in Python to read a string from user and print in it sorted order of words."
   ]
  },
  {
   "cell_type": "code",
   "execution_count": 11,
   "metadata": {},
   "outputs": [
    {
     "name": "stdout",
     "output_type": "stream",
     "text": [
      "Enter a string:Hello My Name Is Sakshi\n",
      "['Hello', 'My', 'Name', 'Is', 'Sakshi']\n",
      "The sorted words are:\n",
      "Hello\n",
      "Is\n",
      "My\n",
      "Name\n",
      "Sakshi\n"
     ]
    }
   ],
   "source": [
    "str1=input(\"Enter a string:\")\n",
    "w=str1.split()\n",
    "print(w)\n",
    "w.sort()\n",
    "print(\"The sorted words are:\")\n",
    "for a in w:\n",
    "    print(a)\n",
    "    \n"
   ]
  },
  {
   "cell_type": "code",
   "execution_count": null,
   "metadata": {},
   "outputs": [],
   "source": [
    "n=input(\"Enter a string\")\n",
    "w=str1.split()\n",
    "print(w)\n",
    "w.sort()\n",
    "for a in w:\n",
    "    print(a)"
   ]
  },
  {
   "cell_type": "code",
   "execution_count": null,
   "metadata": {},
   "outputs": [],
   "source": []
  },
  {
   "cell_type": "markdown",
   "metadata": {},
   "source": [
    "#### Program 11: Write a python program to remove punctuations !()-[]{};:'\"\\,<>./?@#$%^&*_~ from a string. \n",
    "##### For example if the user enteres the string as : hello @ (how) are - you? \n",
    "##### then your program should print: hello how are you"
   ]
  },
  {
   "cell_type": "code",
   "execution_count": 9,
   "metadata": {},
   "outputs": [
    {
     "name": "stdout",
     "output_type": "stream",
     "text": [
      "Enter string with punctuations: Hello!!!!Sakshi\n",
      "  HelloSakshi\n"
     ]
    }
   ],
   "source": [
    "punctuations = '''!()-[]{};:'\"\\,<>./?@#$%^&*_~'''\n",
    "\n",
    "str1 = input(\"Enter string with punctuations: \")\n",
    "#write your code here\n",
    "no_punc=\"  \"\n",
    "for c in str1:\n",
    "    if c not in punctuations:\n",
    "        no_punc=no_punc+c\n",
    "print(no_punc)"
   ]
  },
  {
   "cell_type": "code",
   "execution_count": 1,
   "metadata": {},
   "outputs": [
    {
     "name": "stdout",
     "output_type": "stream",
     "text": [
      "Enter a stringHello@@@Sakshi!!!!!Rastogi\n",
      " HelloSakshiRastogi\n"
     ]
    }
   ],
   "source": [
    "punctuations = '''!()-[]{};:'\"\\,<>./?@#$%^&*_~'''\n",
    "str1=input(\"Enter a string\")\n",
    "no_punc=\" \"\n",
    "for c in str1:\n",
    "    if c not in punctuations:\n",
    "        no_punc=no_punc+c\n",
    "print(no_punc)"
   ]
  },
  {
   "cell_type": "markdown",
   "metadata": {
    "collapsed": true
   },
   "source": [
    "### Program 12: Write a program in Python to count the number of vowels in a string."
   ]
  },
  {
   "cell_type": "code",
   "execution_count": 17,
   "metadata": {},
   "outputs": [
    {
     "name": "stdout",
     "output_type": "stream",
     "text": [
      "Enter a string:Hello\n",
      "Total number of vowels are: 2\n"
     ]
    }
   ],
   "source": [
    "#write your code here\n",
    "str1=input(\"Enter a string:\")\n",
    "vowel=0\n",
    "for i in str1:\n",
    "    if(i=='a' or i=='e' or i=='i'or i=='o' or i=='u' or i=='A' or i=='E' or i=='I' or i=='O' or i=='U'):\n",
    "        vowel=vowel+1\n",
    "print(\"Total number of vowels are:\",vowel)"
   ]
  },
  {
   "cell_type": "markdown",
   "metadata": {},
   "source": [
    "### Program 13: Write a program in Python to remove all duplicate characters from a string\n"
   ]
  },
  {
   "cell_type": "code",
   "execution_count": 2,
   "metadata": {},
   "outputs": [
    {
     "name": "stdout",
     "output_type": "stream",
     "text": [
      "Enter a string:Hello\n",
      "Helo\n"
     ]
    }
   ],
   "source": [
    "#write your code here\n",
    "string=input(\"Enter a string:\")\n",
    "def removeDuplicates(string):\n",
    "    uniqs = ''\n",
    "    for x in string:\n",
    "        if not(x in uniqs):\n",
    "            uniqs = uniqs + x\n",
    "    return uniqs\n",
    "print(removeDuplicates(string))\n",
    "\n",
    "\n"
   ]
  },
  {
   "cell_type": "code",
   "execution_count": null,
   "metadata": {},
   "outputs": [],
   "source": []
  }
 ],
 "metadata": {
  "kernelspec": {
   "display_name": "Python 3",
   "language": "python",
   "name": "python3"
  },
  "language_info": {
   "codemirror_mode": {
    "name": "ipython",
    "version": 3
   },
   "file_extension": ".py",
   "mimetype": "text/x-python",
   "name": "python",
   "nbconvert_exporter": "python",
   "pygments_lexer": "ipython3",
   "version": "3.6.5"
  }
 },
 "nbformat": 4,
 "nbformat_minor": 2
}
